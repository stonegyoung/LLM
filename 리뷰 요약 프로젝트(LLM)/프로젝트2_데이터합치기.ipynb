{
  "cells": [
    {
      "cell_type": "code",
      "execution_count": 51,
      "metadata": {
        "id": "9e6K_m9oGN4j"
      },
      "outputs": [],
      "source": [
        "import pandas as pd\n",
        "import re\n",
        "from konlpy.tag import Okt"
      ]
    },
    {
      "cell_type": "markdown",
      "metadata": {
        "id": "NOJqstyRVQI5"
      },
      "source": [
        "# 데이터 합치기"
      ]
    },
    {
      "cell_type": "code",
      "execution_count": 6,
      "metadata": {
        "colab": {
          "base_uri": "https://localhost:8080/",
          "height": 0
        },
        "id": "q2ffeGXOGSxj",
        "outputId": "091f6de2-c626-4abe-a660-e1a02f4c95a9"
      },
      "outputs": [
        {
          "data": {
            "text/html": [
              "<div>\n",
              "<style scoped>\n",
              "    .dataframe tbody tr th:only-of-type {\n",
              "        vertical-align: middle;\n",
              "    }\n",
              "\n",
              "    .dataframe tbody tr th {\n",
              "        vertical-align: top;\n",
              "    }\n",
              "\n",
              "    .dataframe thead th {\n",
              "        text-align: right;\n",
              "    }\n",
              "</style>\n",
              "<table border=\"1\" class=\"dataframe\">\n",
              "  <thead>\n",
              "    <tr style=\"text-align: right;\">\n",
              "      <th></th>\n",
              "      <th>식당</th>\n",
              "      <th>리뷰</th>\n",
              "    </tr>\n",
              "  </thead>\n",
              "  <tbody>\n",
              "    <tr>\n",
              "      <th>0</th>\n",
              "      <td>정식당</td>\n",
              "      <td>저의 개인적 취향을 두고 볼 때에는\\n소스가 전체적으로 오일리하고 무거운\\n느낌이 ...</td>\n",
              "    </tr>\n",
              "    <tr>\n",
              "      <th>1</th>\n",
              "      <td>정식당</td>\n",
              "      <td>이정도 가격대의 식당을 방문하시는분이라면\\n식사에 대한 기준이 높을꺼라 생각합니다....</td>\n",
              "    </tr>\n",
              "    <tr>\n",
              "      <th>2</th>\n",
              "      <td>정식당</td>\n",
              "      <td>맛만 보면 4.5, 모든걸 더하면 5\\n\\n배를 채우러 가기 보다는 음식이라는 하나...</td>\n",
              "    </tr>\n",
              "    <tr>\n",
              "      <th>3</th>\n",
              "      <td>정식당</td>\n",
              "      <td>금액이 좀 비싸지만 미슐렝가이드 레스토랑을 제대로 즐길 수 있어요. 모든 음식은 한...</td>\n",
              "    </tr>\n",
              "    <tr>\n",
              "      <th>4</th>\n",
              "      <td>정식당</td>\n",
              "      <td>정말 세상에서 제일 맛있는 음식과 친절한 직원들 ❤️\\n파인다이닝인데 큰 기교를 부...</td>\n",
              "    </tr>\n",
              "  </tbody>\n",
              "</table>\n",
              "</div>"
            ],
            "text/plain": [
              "    식당                                                 리뷰\n",
              "0  정식당  저의 개인적 취향을 두고 볼 때에는\\n소스가 전체적으로 오일리하고 무거운\\n느낌이 ...\n",
              "1  정식당  이정도 가격대의 식당을 방문하시는분이라면\\n식사에 대한 기준이 높을꺼라 생각합니다....\n",
              "2  정식당  맛만 보면 4.5, 모든걸 더하면 5\\n\\n배를 채우러 가기 보다는 음식이라는 하나...\n",
              "3  정식당  금액이 좀 비싸지만 미슐렝가이드 레스토랑을 제대로 즐길 수 있어요. 모든 음식은 한...\n",
              "4  정식당  정말 세상에서 제일 맛있는 음식과 친절한 직원들 ❤️\\n파인다이닝인데 큰 기교를 부..."
            ]
          },
          "execution_count": 6,
          "metadata": {},
          "output_type": "execute_result"
        }
      ],
      "source": [
        "gg = pd.read_csv('google.csv', usecols=['식당', '리뷰'])\n",
        "gg.head()"
      ]
    },
    {
      "cell_type": "code",
      "execution_count": 8,
      "metadata": {
        "colab": {
          "base_uri": "https://localhost:8080/"
        },
        "id": "aLYqp_nBG3QS",
        "outputId": "7e90729b-23a2-4212-aba5-a26f1160a3cb"
      },
      "outputs": [
        {
          "data": {
            "text/plain": [
              "(37572, 2)"
            ]
          },
          "execution_count": 8,
          "metadata": {},
          "output_type": "execute_result"
        }
      ],
      "source": [
        "gg.shape"
      ]
    },
    {
      "cell_type": "code",
      "execution_count": 7,
      "metadata": {
        "colab": {
          "base_uri": "https://localhost:8080/"
        },
        "id": "yvix5iSUGWhp",
        "outputId": "e267cf9e-8d5e-41fe-85da-20ef91a535e5"
      },
      "outputs": [
        {
          "data": {
            "text/plain": [
              "식당    0\n",
              "리뷰    0\n",
              "dtype: int64"
            ]
          },
          "execution_count": 7,
          "metadata": {},
          "output_type": "execute_result"
        }
      ],
      "source": [
        "gg.isna().sum()"
      ]
    },
    {
      "cell_type": "code",
      "execution_count": 10,
      "metadata": {
        "colab": {
          "base_uri": "https://localhost:8080/",
          "height": 0
        },
        "id": "dH9CpaqpGdUQ",
        "outputId": "3e986a5c-bf49-4708-f6af-0cc298e3b71a"
      },
      "outputs": [
        {
          "data": {
            "text/html": [
              "<div>\n",
              "<style scoped>\n",
              "    .dataframe tbody tr th:only-of-type {\n",
              "        vertical-align: middle;\n",
              "    }\n",
              "\n",
              "    .dataframe tbody tr th {\n",
              "        vertical-align: top;\n",
              "    }\n",
              "\n",
              "    .dataframe thead th {\n",
              "        text-align: right;\n",
              "    }\n",
              "</style>\n",
              "<table border=\"1\" class=\"dataframe\">\n",
              "  <thead>\n",
              "    <tr style=\"text-align: right;\">\n",
              "      <th></th>\n",
              "      <th>store_name</th>\n",
              "      <th>review_text</th>\n",
              "    </tr>\n",
              "  </thead>\n",
              "  <tbody>\n",
              "    <tr>\n",
              "      <th>0</th>\n",
              "      <td>최배달떡순튀-서수원점</td>\n",
              "      <td>오늘은 기사님이 배달완료 문자를 안주셔서 모르다가 밖에 나가보니 있었습니다. 떡볶이...</td>\n",
              "    </tr>\n",
              "    <tr>\n",
              "      <th>1</th>\n",
              "      <td>최배달떡순튀-서수원점</td>\n",
              "      <td>탱글탱글한 순대 맛나요</td>\n",
              "    </tr>\n",
              "    <tr>\n",
              "      <th>2</th>\n",
              "      <td>최배달떡순튀-서수원점</td>\n",
              "      <td>맛있게 잘 먹었습니다</td>\n",
              "    </tr>\n",
              "    <tr>\n",
              "      <th>3</th>\n",
              "      <td>최배달떡순튀-서수원점</td>\n",
              "      <td>오늘도 맛있게 잘 먹었습니다~~</td>\n",
              "    </tr>\n",
              "    <tr>\n",
              "      <th>4</th>\n",
              "      <td>최배달떡순튀-서수원점</td>\n",
              "      <td>오랜만에 먹어도 맛있네요 많이 파세요~~~~</td>\n",
              "    </tr>\n",
              "  </tbody>\n",
              "</table>\n",
              "</div>"
            ],
            "text/plain": [
              "    store_name                                        review_text\n",
              "0  최배달떡순튀-서수원점  오늘은 기사님이 배달완료 문자를 안주셔서 모르다가 밖에 나가보니 있었습니다. 떡볶이...\n",
              "1  최배달떡순튀-서수원점                                       탱글탱글한 순대 맛나요\n",
              "2  최배달떡순튀-서수원점                                        맛있게 잘 먹었습니다\n",
              "3  최배달떡순튀-서수원점                                  오늘도 맛있게 잘 먹었습니다~~\n",
              "4  최배달떡순튀-서수원점                           오랜만에 먹어도 맛있네요 많이 파세요~~~~"
            ]
          },
          "execution_count": 10,
          "metadata": {},
          "output_type": "execute_result"
        }
      ],
      "source": [
        "yy = pd.read_csv('Gyeonggi_yogiyo.csv', usecols=['store_name', 'review_text'])\n",
        "yy.head()"
      ]
    },
    {
      "cell_type": "code",
      "execution_count": 11,
      "metadata": {
        "colab": {
          "base_uri": "https://localhost:8080/"
        },
        "id": "ueFNukqSG9_s",
        "outputId": "c97940e5-2b43-4cc6-8373-4b3dd1355244"
      },
      "outputs": [
        {
          "data": {
            "text/plain": [
              "(109650, 2)"
            ]
          },
          "execution_count": 11,
          "metadata": {},
          "output_type": "execute_result"
        }
      ],
      "source": [
        "yy.shape"
      ]
    },
    {
      "cell_type": "code",
      "execution_count": 12,
      "metadata": {
        "colab": {
          "base_uri": "https://localhost:8080/"
        },
        "id": "n4J_xzhMHDl6",
        "outputId": "fa588dbd-4b12-45be-89b4-5cd0b5a06091"
      },
      "outputs": [
        {
          "data": {
            "text/plain": [
              "store_name     0\n",
              "review_text    0\n",
              "dtype: int64"
            ]
          },
          "execution_count": 12,
          "metadata": {},
          "output_type": "execute_result"
        }
      ],
      "source": [
        "yy.isna().sum()"
      ]
    },
    {
      "cell_type": "code",
      "execution_count": 21,
      "metadata": {
        "colab": {
          "base_uri": "https://localhost:8080/",
          "height": 0
        },
        "id": "yBkct-EzHZMZ",
        "outputId": "f6c452e4-0dbe-46f8-af77-bde7900c3ae3"
      },
      "outputs": [
        {
          "data": {
            "text/html": [
              "<div>\n",
              "<style scoped>\n",
              "    .dataframe tbody tr th:only-of-type {\n",
              "        vertical-align: middle;\n",
              "    }\n",
              "\n",
              "    .dataframe tbody tr th {\n",
              "        vertical-align: top;\n",
              "    }\n",
              "\n",
              "    .dataframe thead th {\n",
              "        text-align: right;\n",
              "    }\n",
              "</style>\n",
              "<table border=\"1\" class=\"dataframe\">\n",
              "  <thead>\n",
              "    <tr style=\"text-align: right;\">\n",
              "      <th></th>\n",
              "      <th>식당</th>\n",
              "      <th>리뷰</th>\n",
              "    </tr>\n",
              "  </thead>\n",
              "  <tbody>\n",
              "    <tr>\n",
              "      <th>0</th>\n",
              "      <td>최배달떡순튀-서수원점</td>\n",
              "      <td>오늘은 기사님이 배달완료 문자를 안주셔서 모르다가 밖에 나가보니 있었습니다. 떡볶이...</td>\n",
              "    </tr>\n",
              "    <tr>\n",
              "      <th>1</th>\n",
              "      <td>최배달떡순튀-서수원점</td>\n",
              "      <td>탱글탱글한 순대 맛나요</td>\n",
              "    </tr>\n",
              "    <tr>\n",
              "      <th>2</th>\n",
              "      <td>최배달떡순튀-서수원점</td>\n",
              "      <td>맛있게 잘 먹었습니다</td>\n",
              "    </tr>\n",
              "    <tr>\n",
              "      <th>3</th>\n",
              "      <td>최배달떡순튀-서수원점</td>\n",
              "      <td>오늘도 맛있게 잘 먹었습니다~~</td>\n",
              "    </tr>\n",
              "    <tr>\n",
              "      <th>4</th>\n",
              "      <td>최배달떡순튀-서수원점</td>\n",
              "      <td>오랜만에 먹어도 맛있네요 많이 파세요~~~~</td>\n",
              "    </tr>\n",
              "  </tbody>\n",
              "</table>\n",
              "</div>"
            ],
            "text/plain": [
              "            식당                                                 리뷰\n",
              "0  최배달떡순튀-서수원점  오늘은 기사님이 배달완료 문자를 안주셔서 모르다가 밖에 나가보니 있었습니다. 떡볶이...\n",
              "1  최배달떡순튀-서수원점                                       탱글탱글한 순대 맛나요\n",
              "2  최배달떡순튀-서수원점                                        맛있게 잘 먹었습니다\n",
              "3  최배달떡순튀-서수원점                                  오늘도 맛있게 잘 먹었습니다~~\n",
              "4  최배달떡순튀-서수원점                           오랜만에 먹어도 맛있네요 많이 파세요~~~~"
            ]
          },
          "execution_count": 21,
          "metadata": {},
          "output_type": "execute_result"
        }
      ],
      "source": [
        "yy.rename(columns={'store_name':'식당', 'review_text':'리뷰'}, inplace=True)\n",
        "yy.head()"
      ]
    },
    {
      "cell_type": "code",
      "execution_count": 14,
      "metadata": {
        "colab": {
          "base_uri": "https://localhost:8080/",
          "height": 0
        },
        "id": "_fEf_SB4HFWC",
        "outputId": "ca01fa55-668c-4ae2-8a3b-87b6d026bc84"
      },
      "outputs": [
        {
          "data": {
            "text/html": [
              "<div>\n",
              "<style scoped>\n",
              "    .dataframe tbody tr th:only-of-type {\n",
              "        vertical-align: middle;\n",
              "    }\n",
              "\n",
              "    .dataframe tbody tr th {\n",
              "        vertical-align: top;\n",
              "    }\n",
              "\n",
              "    .dataframe thead th {\n",
              "        text-align: right;\n",
              "    }\n",
              "</style>\n",
              "<table border=\"1\" class=\"dataframe\">\n",
              "  <thead>\n",
              "    <tr style=\"text-align: right;\">\n",
              "      <th></th>\n",
              "      <th>가게 이름</th>\n",
              "      <th>댓글</th>\n",
              "    </tr>\n",
              "  </thead>\n",
              "  <tbody>\n",
              "    <tr>\n",
              "      <th>0</th>\n",
              "      <td>장인닭갈비 건대점</td>\n",
              "      <td>듬뿍 뿌려진 치즈가 몽글몽글 스르르 녹아내리는 순 간 한입 쏙하면 쫄깃한 치즈맛이 ...</td>\n",
              "    </tr>\n",
              "    <tr>\n",
              "      <th>1</th>\n",
              "      <td>장인닭갈비 건대점</td>\n",
              "      <td>치즈와 닭갈비의 환상조합! 그동안의 닭갈비와는 차 원이 다른 곳이네요. 사리도 처음...</td>\n",
              "    </tr>\n",
              "    <tr>\n",
              "      <th>2</th>\n",
              "      <td>장인닭갈비 건대점</td>\n",
              "      <td>닭갈비 중간매운맛으로 주문했더니 맵기 딱좋았구요 맛있었어요 간이 좀 있어서 따로 쌈...</td>\n",
              "    </tr>\n",
              "    <tr>\n",
              "      <th>3</th>\n",
              "      <td>장인닭갈비 건대점</td>\n",
              "      <td>치즈 주문 안했다 다른 테이블 보고 바로 재주문~ 치 즈 추가 안했으면 후회할뻔.....</td>\n",
              "    </tr>\n",
              "    <tr>\n",
              "      <th>4</th>\n",
              "      <td>장인닭갈비 건대점</td>\n",
              "      <td>배부르게 잘먹고왔슴니다! 닭고기+양배추가 끝이라 더 다양한 야채사리가 있었으면 더 ...</td>\n",
              "    </tr>\n",
              "  </tbody>\n",
              "</table>\n",
              "</div>"
            ],
            "text/plain": [
              "       가게 이름                                                 댓글\n",
              "0  장인닭갈비 건대점  듬뿍 뿌려진 치즈가 몽글몽글 스르르 녹아내리는 순 간 한입 쏙하면 쫄깃한 치즈맛이 ...\n",
              "1  장인닭갈비 건대점  치즈와 닭갈비의 환상조합! 그동안의 닭갈비와는 차 원이 다른 곳이네요. 사리도 처음...\n",
              "2  장인닭갈비 건대점  닭갈비 중간매운맛으로 주문했더니 맵기 딱좋았구요 맛있었어요 간이 좀 있어서 따로 쌈...\n",
              "3  장인닭갈비 건대점  치즈 주문 안했다 다른 테이블 보고 바로 재주문~ 치 즈 추가 안했으면 후회할뻔.....\n",
              "4  장인닭갈비 건대점  배부르게 잘먹고왔슴니다! 닭고기+양배추가 끝이라 더 다양한 야채사리가 있었으면 더 ..."
            ]
          },
          "execution_count": 14,
          "metadata": {},
          "output_type": "execute_result"
        }
      ],
      "source": [
        "nm = pd.read_csv('cleaned_merged.csv', usecols=['가게 이름', '댓글'])\n",
        "nm.head()"
      ]
    },
    {
      "cell_type": "code",
      "execution_count": 15,
      "metadata": {
        "colab": {
          "base_uri": "https://localhost:8080/"
        },
        "id": "4UEi3L7zHNF1",
        "outputId": "0dcab32e-189b-44bb-ceec-067f363933a4"
      },
      "outputs": [
        {
          "data": {
            "text/plain": [
              "(22144, 2)"
            ]
          },
          "execution_count": 15,
          "metadata": {},
          "output_type": "execute_result"
        }
      ],
      "source": [
        "nm.shape"
      ]
    },
    {
      "cell_type": "code",
      "execution_count": 17,
      "metadata": {
        "colab": {
          "base_uri": "https://localhost:8080/"
        },
        "id": "iEMDOo8YHRV4",
        "outputId": "c87193c9-dd32-42ed-ad5a-402bc94da403"
      },
      "outputs": [
        {
          "data": {
            "text/plain": [
              "가게 이름    0\n",
              "댓글       0\n",
              "dtype: int64"
            ]
          },
          "execution_count": 17,
          "metadata": {},
          "output_type": "execute_result"
        }
      ],
      "source": [
        "nm.isna().sum()"
      ]
    },
    {
      "cell_type": "code",
      "execution_count": 22,
      "metadata": {
        "colab": {
          "base_uri": "https://localhost:8080/",
          "height": 0
        },
        "id": "-wNuCwjhHSP_",
        "outputId": "7d91c5c6-c85f-4f56-929b-d987305feff9"
      },
      "outputs": [
        {
          "data": {
            "text/html": [
              "<div>\n",
              "<style scoped>\n",
              "    .dataframe tbody tr th:only-of-type {\n",
              "        vertical-align: middle;\n",
              "    }\n",
              "\n",
              "    .dataframe tbody tr th {\n",
              "        vertical-align: top;\n",
              "    }\n",
              "\n",
              "    .dataframe thead th {\n",
              "        text-align: right;\n",
              "    }\n",
              "</style>\n",
              "<table border=\"1\" class=\"dataframe\">\n",
              "  <thead>\n",
              "    <tr style=\"text-align: right;\">\n",
              "      <th></th>\n",
              "      <th>식당</th>\n",
              "      <th>리뷰</th>\n",
              "    </tr>\n",
              "  </thead>\n",
              "  <tbody>\n",
              "    <tr>\n",
              "      <th>0</th>\n",
              "      <td>장인닭갈비 건대점</td>\n",
              "      <td>듬뿍 뿌려진 치즈가 몽글몽글 스르르 녹아내리는 순 간 한입 쏙하면 쫄깃한 치즈맛이 ...</td>\n",
              "    </tr>\n",
              "    <tr>\n",
              "      <th>1</th>\n",
              "      <td>장인닭갈비 건대점</td>\n",
              "      <td>치즈와 닭갈비의 환상조합! 그동안의 닭갈비와는 차 원이 다른 곳이네요. 사리도 처음...</td>\n",
              "    </tr>\n",
              "    <tr>\n",
              "      <th>2</th>\n",
              "      <td>장인닭갈비 건대점</td>\n",
              "      <td>닭갈비 중간매운맛으로 주문했더니 맵기 딱좋았구요 맛있었어요 간이 좀 있어서 따로 쌈...</td>\n",
              "    </tr>\n",
              "    <tr>\n",
              "      <th>3</th>\n",
              "      <td>장인닭갈비 건대점</td>\n",
              "      <td>치즈 주문 안했다 다른 테이블 보고 바로 재주문~ 치 즈 추가 안했으면 후회할뻔.....</td>\n",
              "    </tr>\n",
              "    <tr>\n",
              "      <th>4</th>\n",
              "      <td>장인닭갈비 건대점</td>\n",
              "      <td>배부르게 잘먹고왔슴니다! 닭고기+양배추가 끝이라 더 다양한 야채사리가 있었으면 더 ...</td>\n",
              "    </tr>\n",
              "  </tbody>\n",
              "</table>\n",
              "</div>"
            ],
            "text/plain": [
              "          식당                                                 리뷰\n",
              "0  장인닭갈비 건대점  듬뿍 뿌려진 치즈가 몽글몽글 스르르 녹아내리는 순 간 한입 쏙하면 쫄깃한 치즈맛이 ...\n",
              "1  장인닭갈비 건대점  치즈와 닭갈비의 환상조합! 그동안의 닭갈비와는 차 원이 다른 곳이네요. 사리도 처음...\n",
              "2  장인닭갈비 건대점  닭갈비 중간매운맛으로 주문했더니 맵기 딱좋았구요 맛있었어요 간이 좀 있어서 따로 쌈...\n",
              "3  장인닭갈비 건대점  치즈 주문 안했다 다른 테이블 보고 바로 재주문~ 치 즈 추가 안했으면 후회할뻔.....\n",
              "4  장인닭갈비 건대점  배부르게 잘먹고왔슴니다! 닭고기+양배추가 끝이라 더 다양한 야채사리가 있었으면 더 ..."
            ]
          },
          "execution_count": 22,
          "metadata": {},
          "output_type": "execute_result"
        }
      ],
      "source": [
        "nm.rename(columns={'가게 이름':'식당', '댓글':'리뷰'}, inplace=True)\n",
        "nm.head()"
      ]
    },
    {
      "cell_type": "code",
      "execution_count": 26,
      "metadata": {
        "colab": {
          "base_uri": "https://localhost:8080/"
        },
        "id": "W-vjTjiUHzEp",
        "outputId": "5aaf9798-ec75-4688-eca3-9450549014de"
      },
      "outputs": [
        {
          "data": {
            "text/plain": [
              "(169366, 2)"
            ]
          },
          "execution_count": 26,
          "metadata": {},
          "output_type": "execute_result"
        }
      ],
      "source": [
        "review_df = pd.concat([gg, yy, nm], axis=0)\n",
        "review_df.shape"
      ]
    },
    {
      "cell_type": "code",
      "execution_count": 27,
      "metadata": {
        "id": "yyGEEQTAH_EW"
      },
      "outputs": [],
      "source": [
        "review_df.to_csv('review.csv', index=False, encoding='utf-8-sig')"
      ]
    }
  ],
  "metadata": {
    "colab": {
      "collapsed_sections": [
        "NOJqstyRVQI5"
      ],
      "provenance": []
    },
    "kernelspec": {
      "display_name": "Python 3",
      "name": "python3"
    },
    "language_info": {
      "name": "python"
    }
  },
  "nbformat": 4,
  "nbformat_minor": 0
}

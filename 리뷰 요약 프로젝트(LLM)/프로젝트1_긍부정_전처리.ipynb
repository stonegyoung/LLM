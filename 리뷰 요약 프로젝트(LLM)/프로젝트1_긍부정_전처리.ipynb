{
  "nbformat": 4,
  "nbformat_minor": 0,
  "metadata": {
    "colab": {
      "provenance": []
    },
    "kernelspec": {
      "name": "python3",
      "display_name": "Python 3"
    },
    "language_info": {
      "name": "python"
    }
  },
  "cells": [
    {
      "cell_type": "code",
      "execution_count": 89,
      "metadata": {
        "id": "bkhVkaBpq8jb"
      },
      "outputs": [],
      "source": [
        "import pandas as pd\n",
        "import numpy as np\n",
        "import matplotlib.pyplot as plt\n",
        "import re\n",
        "import glob\n",
        "# import seaborn as sns"
      ]
    },
    {
      "cell_type": "markdown",
      "source": [
        "# 구글"
      ],
      "metadata": {
        "id": "Nm5RROQ5vmdK"
      }
    },
    {
      "cell_type": "code",
      "source": [
        "google = pd.read_csv('google.csv', usecols=['식당', '별점', '리뷰'])"
      ],
      "metadata": {
        "id": "vhdm9MdYrQtJ"
      },
      "execution_count": null,
      "outputs": []
    },
    {
      "cell_type": "code",
      "source": [
        "google.head()"
      ],
      "metadata": {
        "colab": {
          "base_uri": "https://localhost:8080/",
          "height": 206
        },
        "id": "7aV2-sfXrZ6V",
        "outputId": "bd531f27-5c64-448d-eb2f-cca2aee99d8f"
      },
      "execution_count": null,
      "outputs": [
        {
          "output_type": "execute_result",
          "data": {
            "text/plain": [
              "    식당  별점                                                 리뷰\n",
              "0  정식당  5개  저의 개인적 취향을 두고 볼 때에는\\n소스가 전체적으로 오일리하고 무거운\\n느낌이 ...\n",
              "1  정식당  5개  이정도 가격대의 식당을 방문하시는분이라면\\n식사에 대한 기준이 높을꺼라 생각합니다....\n",
              "2  정식당  5개  맛만 보면 4.5, 모든걸 더하면 5\\n\\n배를 채우러 가기 보다는 음식이라는 하나...\n",
              "3  정식당  5개  금액이 좀 비싸지만 미슐렝가이드 레스토랑을 제대로 즐길 수 있어요. 모든 음식은 한...\n",
              "4  정식당  5개  정말 세상에서 제일 맛있는 음식과 친절한 직원들 ❤️\\n파인다이닝인데 큰 기교를 부..."
            ],
            "text/html": [
              "<div>\n",
              "<style scoped>\n",
              "    .dataframe tbody tr th:only-of-type {\n",
              "        vertical-align: middle;\n",
              "    }\n",
              "\n",
              "    .dataframe tbody tr th {\n",
              "        vertical-align: top;\n",
              "    }\n",
              "\n",
              "    .dataframe thead th {\n",
              "        text-align: right;\n",
              "    }\n",
              "</style>\n",
              "<table border=\"1\" class=\"dataframe\">\n",
              "  <thead>\n",
              "    <tr style=\"text-align: right;\">\n",
              "      <th></th>\n",
              "      <th>식당</th>\n",
              "      <th>별점</th>\n",
              "      <th>리뷰</th>\n",
              "    </tr>\n",
              "  </thead>\n",
              "  <tbody>\n",
              "    <tr>\n",
              "      <th>0</th>\n",
              "      <td>정식당</td>\n",
              "      <td>5개</td>\n",
              "      <td>저의 개인적 취향을 두고 볼 때에는\\n소스가 전체적으로 오일리하고 무거운\\n느낌이 ...</td>\n",
              "    </tr>\n",
              "    <tr>\n",
              "      <th>1</th>\n",
              "      <td>정식당</td>\n",
              "      <td>5개</td>\n",
              "      <td>이정도 가격대의 식당을 방문하시는분이라면\\n식사에 대한 기준이 높을꺼라 생각합니다....</td>\n",
              "    </tr>\n",
              "    <tr>\n",
              "      <th>2</th>\n",
              "      <td>정식당</td>\n",
              "      <td>5개</td>\n",
              "      <td>맛만 보면 4.5, 모든걸 더하면 5\\n\\n배를 채우러 가기 보다는 음식이라는 하나...</td>\n",
              "    </tr>\n",
              "    <tr>\n",
              "      <th>3</th>\n",
              "      <td>정식당</td>\n",
              "      <td>5개</td>\n",
              "      <td>금액이 좀 비싸지만 미슐렝가이드 레스토랑을 제대로 즐길 수 있어요. 모든 음식은 한...</td>\n",
              "    </tr>\n",
              "    <tr>\n",
              "      <th>4</th>\n",
              "      <td>정식당</td>\n",
              "      <td>5개</td>\n",
              "      <td>정말 세상에서 제일 맛있는 음식과 친절한 직원들 ❤️\\n파인다이닝인데 큰 기교를 부...</td>\n",
              "    </tr>\n",
              "  </tbody>\n",
              "</table>\n",
              "</div>"
            ]
          },
          "metadata": {},
          "execution_count": 200
        }
      ]
    },
    {
      "cell_type": "code",
      "source": [
        "google.shape"
      ],
      "metadata": {
        "colab": {
          "base_uri": "https://localhost:8080/"
        },
        "id": "J-zo8GlLrbBB",
        "outputId": "53f4004c-9b22-4e3f-98c1-43e8f42c819b"
      },
      "execution_count": null,
      "outputs": [
        {
          "output_type": "execute_result",
          "data": {
            "text/plain": [
              "(37572, 3)"
            ]
          },
          "metadata": {},
          "execution_count": 201
        }
      ]
    },
    {
      "cell_type": "code",
      "source": [
        "# 결측치 X\n",
        "google.isna().sum()"
      ],
      "metadata": {
        "colab": {
          "base_uri": "https://localhost:8080/"
        },
        "id": "4BkEUo2Hrcqf",
        "outputId": "24947d4c-6f28-46aa-c40b-d38b0124bc34"
      },
      "execution_count": null,
      "outputs": [
        {
          "output_type": "execute_result",
          "data": {
            "text/plain": [
              "식당    0\n",
              "별점    0\n",
              "리뷰    0\n",
              "dtype: int64"
            ]
          },
          "metadata": {},
          "execution_count": 202
        }
      ]
    },
    {
      "cell_type": "markdown",
      "source": [
        "# 데이터 수정(숫자로 변환, 이모지와 줄바꿈 제거)"
      ],
      "metadata": {
        "id": "y7R5v7betylM"
      }
    },
    {
      "cell_type": "code",
      "source": [
        "google['별점'] = google['별점'].str[:1].astype(np.float64)\n",
        "google.head()"
      ],
      "metadata": {
        "colab": {
          "base_uri": "https://localhost:8080/",
          "height": 206
        },
        "id": "PSWoua3OsVwY",
        "outputId": "4601d8a1-0729-4c03-9ef4-2f1347eeb035"
      },
      "execution_count": null,
      "outputs": [
        {
          "output_type": "execute_result",
          "data": {
            "text/plain": [
              "    식당   별점                                                 리뷰\n",
              "0  정식당  5.0  저의 개인적 취향을 두고 볼 때에는\\n소스가 전체적으로 오일리하고 무거운\\n느낌이 ...\n",
              "1  정식당  5.0  이정도 가격대의 식당을 방문하시는분이라면\\n식사에 대한 기준이 높을꺼라 생각합니다....\n",
              "2  정식당  5.0  맛만 보면 4.5, 모든걸 더하면 5\\n\\n배를 채우러 가기 보다는 음식이라는 하나...\n",
              "3  정식당  5.0  금액이 좀 비싸지만 미슐렝가이드 레스토랑을 제대로 즐길 수 있어요. 모든 음식은 한...\n",
              "4  정식당  5.0  정말 세상에서 제일 맛있는 음식과 친절한 직원들 ❤️\\n파인다이닝인데 큰 기교를 부..."
            ],
            "text/html": [
              "<div>\n",
              "<style scoped>\n",
              "    .dataframe tbody tr th:only-of-type {\n",
              "        vertical-align: middle;\n",
              "    }\n",
              "\n",
              "    .dataframe tbody tr th {\n",
              "        vertical-align: top;\n",
              "    }\n",
              "\n",
              "    .dataframe thead th {\n",
              "        text-align: right;\n",
              "    }\n",
              "</style>\n",
              "<table border=\"1\" class=\"dataframe\">\n",
              "  <thead>\n",
              "    <tr style=\"text-align: right;\">\n",
              "      <th></th>\n",
              "      <th>식당</th>\n",
              "      <th>별점</th>\n",
              "      <th>리뷰</th>\n",
              "    </tr>\n",
              "  </thead>\n",
              "  <tbody>\n",
              "    <tr>\n",
              "      <th>0</th>\n",
              "      <td>정식당</td>\n",
              "      <td>5.0</td>\n",
              "      <td>저의 개인적 취향을 두고 볼 때에는\\n소스가 전체적으로 오일리하고 무거운\\n느낌이 ...</td>\n",
              "    </tr>\n",
              "    <tr>\n",
              "      <th>1</th>\n",
              "      <td>정식당</td>\n",
              "      <td>5.0</td>\n",
              "      <td>이정도 가격대의 식당을 방문하시는분이라면\\n식사에 대한 기준이 높을꺼라 생각합니다....</td>\n",
              "    </tr>\n",
              "    <tr>\n",
              "      <th>2</th>\n",
              "      <td>정식당</td>\n",
              "      <td>5.0</td>\n",
              "      <td>맛만 보면 4.5, 모든걸 더하면 5\\n\\n배를 채우러 가기 보다는 음식이라는 하나...</td>\n",
              "    </tr>\n",
              "    <tr>\n",
              "      <th>3</th>\n",
              "      <td>정식당</td>\n",
              "      <td>5.0</td>\n",
              "      <td>금액이 좀 비싸지만 미슐렝가이드 레스토랑을 제대로 즐길 수 있어요. 모든 음식은 한...</td>\n",
              "    </tr>\n",
              "    <tr>\n",
              "      <th>4</th>\n",
              "      <td>정식당</td>\n",
              "      <td>5.0</td>\n",
              "      <td>정말 세상에서 제일 맛있는 음식과 친절한 직원들 ❤️\\n파인다이닝인데 큰 기교를 부...</td>\n",
              "    </tr>\n",
              "  </tbody>\n",
              "</table>\n",
              "</div>"
            ]
          },
          "metadata": {},
          "execution_count": 203
        }
      ]
    },
    {
      "cell_type": "code",
      "source": [
        "text = google.loc[4, '리뷰']\n",
        "text"
      ],
      "metadata": {
        "colab": {
          "base_uri": "https://localhost:8080/"
        },
        "id": "yme0kn1XswcJ",
        "outputId": "3d9fd9fe-5b26-4e80-9632-2b1ffcbe0605"
      },
      "execution_count": null,
      "outputs": [
        {
          "output_type": "execute_result",
          "data": {
            "text/plain": [
              "'정말 세상에서 제일 맛있는 음식과 친절한 직원들 ❤️\\n파인다이닝인데 큰 기교를 부리기보다 정말 맛있는 음식을 내온다는 인상을 받았습니다\\n맛있는 김밥과 당근은 꼭 드셔보세요 🥕'"
            ]
          },
          "metadata": {},
          "execution_count": 204
        }
      ]
    },
    {
      "cell_type": "code",
      "source": [
        "re.sub(r'[^ .,?!/@$%~％·∼()\\x00-\\x7Fㄱ-ㅣ가-힣]+', '', text) # 아스키 문자(공백, 숫자, 영어 등) 범위: \\x00-\\x7F"
      ],
      "metadata": {
        "colab": {
          "base_uri": "https://localhost:8080/"
        },
        "id": "-6K-cJcV5LJD",
        "outputId": "f1a1fe0f-d072-4881-b05b-94f29756b530"
      },
      "execution_count": null,
      "outputs": [
        {
          "output_type": "execute_result",
          "data": {
            "text/plain": [
              "'정말 세상에서 제일 맛있는 음식과 친절한 직원들 \\n파인다이닝인데 큰 기교를 부리기보다 정말 맛있는 음식을 내온다는 인상을 받았습니다\\n맛있는 김밥과 당근은 꼭 드셔보세요 '"
            ]
          },
          "metadata": {},
          "execution_count": 205
        }
      ]
    },
    {
      "cell_type": "code",
      "source": [
        "re.sub(r'[\\n]+', ' ', text)"
      ],
      "metadata": {
        "colab": {
          "base_uri": "https://localhost:8080/"
        },
        "id": "FpFxvNQgs6Gy",
        "outputId": "9bf40cc8-b6d7-4c67-f934-64e8fcb81a5b"
      },
      "execution_count": null,
      "outputs": [
        {
          "output_type": "execute_result",
          "data": {
            "text/plain": [
              "'정말 세상에서 제일 맛있는 음식과 친절한 직원들 ❤️ 파인다이닝인데 큰 기교를 부리기보다 정말 맛있는 음식을 내온다는 인상을 받았습니다 맛있는 김밥과 당근은 꼭 드셔보세요 🥕'"
            ]
          },
          "metadata": {},
          "execution_count": 206
        }
      ]
    },
    {
      "cell_type": "code",
      "source": [
        "# 이모지 제거\n",
        "def preprocessing(text):\n",
        "    text = re.sub(r'[^ .,?!/@$%~％·∼()\\x00-\\x7Fㄱ-ㅣ가-힣]+', '', text)\n",
        "    text = re.sub(r'[\\n]+', ' ', text)\n",
        "    text = re.sub(r'^[\\s]+$', '', text)\n",
        "    return text\n",
        "\n",
        "preprocessing('😄😁😄😁😄😁😄😁😄😁    ')"
      ],
      "metadata": {
        "id": "IcQYQ3YouYE-",
        "colab": {
          "base_uri": "https://localhost:8080/"
        },
        "outputId": "cc728447-d15b-4fcd-d4f2-782b851a4365"
      },
      "execution_count": null,
      "outputs": [
        {
          "output_type": "execute_result",
          "data": {
            "text/plain": [
              "''"
            ]
          },
          "metadata": {},
          "execution_count": 76
        }
      ]
    },
    {
      "cell_type": "code",
      "source": [
        "preprocessing(text)"
      ],
      "metadata": {
        "colab": {
          "base_uri": "https://localhost:8080/"
        },
        "id": "EjAwYper6EXG",
        "outputId": "8870e61f-4811-441f-a6e9-92002ab792e9"
      },
      "execution_count": null,
      "outputs": [
        {
          "output_type": "execute_result",
          "data": {
            "text/plain": [
              "'정말 세상에서 제일 맛있는 음식과 친절한 직원들  파인다이닝인데 큰 기교를 부리기보다 정말 맛있는 음식을 내온다는 인상을 받았습니다 맛있는 김밥과 당근은 꼭 드셔보세요 '"
            ]
          },
          "metadata": {},
          "execution_count": 208
        }
      ]
    },
    {
      "cell_type": "code",
      "source": [
        "google['리뷰'] = google['리뷰'].map(preprocessing)\n",
        "google.head()"
      ],
      "metadata": {
        "colab": {
          "base_uri": "https://localhost:8080/",
          "height": 206
        },
        "id": "njhW8-iMu3Dv",
        "outputId": "b215b8e1-4089-41f6-ff30-f0a1c6166287"
      },
      "execution_count": null,
      "outputs": [
        {
          "output_type": "execute_result",
          "data": {
            "text/plain": [
              "    식당   별점                                                 리뷰\n",
              "0  정식당  5.0  저의 개인적 취향을 두고 볼 때에는 소스가 전체적으로 오일리하고 무거운 느낌이 있습...\n",
              "1  정식당  5.0  이정도 가격대의 식당을 방문하시는분이라면 식사에 대한 기준이 높을꺼라 생각합니다. ...\n",
              "2  정식당  5.0  맛만 보면 4.5, 모든걸 더하면 5 배를 채우러 가기 보다는 음식이라는 하나의 주...\n",
              "3  정식당  5.0  금액이 좀 비싸지만 미슐렝가이드 레스토랑을 제대로 즐길 수 있어요. 모든 음식은 한...\n",
              "4  정식당  5.0  정말 세상에서 제일 맛있는 음식과 친절한 직원들  파인다이닝인데 큰 기교를 부리기보..."
            ],
            "text/html": [
              "<div>\n",
              "<style scoped>\n",
              "    .dataframe tbody tr th:only-of-type {\n",
              "        vertical-align: middle;\n",
              "    }\n",
              "\n",
              "    .dataframe tbody tr th {\n",
              "        vertical-align: top;\n",
              "    }\n",
              "\n",
              "    .dataframe thead th {\n",
              "        text-align: right;\n",
              "    }\n",
              "</style>\n",
              "<table border=\"1\" class=\"dataframe\">\n",
              "  <thead>\n",
              "    <tr style=\"text-align: right;\">\n",
              "      <th></th>\n",
              "      <th>식당</th>\n",
              "      <th>별점</th>\n",
              "      <th>리뷰</th>\n",
              "    </tr>\n",
              "  </thead>\n",
              "  <tbody>\n",
              "    <tr>\n",
              "      <th>0</th>\n",
              "      <td>정식당</td>\n",
              "      <td>5.0</td>\n",
              "      <td>저의 개인적 취향을 두고 볼 때에는 소스가 전체적으로 오일리하고 무거운 느낌이 있습...</td>\n",
              "    </tr>\n",
              "    <tr>\n",
              "      <th>1</th>\n",
              "      <td>정식당</td>\n",
              "      <td>5.0</td>\n",
              "      <td>이정도 가격대의 식당을 방문하시는분이라면 식사에 대한 기준이 높을꺼라 생각합니다. ...</td>\n",
              "    </tr>\n",
              "    <tr>\n",
              "      <th>2</th>\n",
              "      <td>정식당</td>\n",
              "      <td>5.0</td>\n",
              "      <td>맛만 보면 4.5, 모든걸 더하면 5 배를 채우러 가기 보다는 음식이라는 하나의 주...</td>\n",
              "    </tr>\n",
              "    <tr>\n",
              "      <th>3</th>\n",
              "      <td>정식당</td>\n",
              "      <td>5.0</td>\n",
              "      <td>금액이 좀 비싸지만 미슐렝가이드 레스토랑을 제대로 즐길 수 있어요. 모든 음식은 한...</td>\n",
              "    </tr>\n",
              "    <tr>\n",
              "      <th>4</th>\n",
              "      <td>정식당</td>\n",
              "      <td>5.0</td>\n",
              "      <td>정말 세상에서 제일 맛있는 음식과 친절한 직원들  파인다이닝인데 큰 기교를 부리기보...</td>\n",
              "    </tr>\n",
              "  </tbody>\n",
              "</table>\n",
              "</div>"
            ]
          },
          "metadata": {},
          "execution_count": 209
        }
      ]
    },
    {
      "cell_type": "code",
      "source": [
        "google.isna().sum()"
      ],
      "metadata": {
        "colab": {
          "base_uri": "https://localhost:8080/"
        },
        "id": "Kszx_kto_D6r",
        "outputId": "85bbd160-7070-421a-a64b-c8349846fd74"
      },
      "execution_count": null,
      "outputs": [
        {
          "output_type": "execute_result",
          "data": {
            "text/plain": [
              "식당    0\n",
              "별점    0\n",
              "리뷰    0\n",
              "dtype: int64"
            ]
          },
          "metadata": {},
          "execution_count": 210
        }
      ]
    },
    {
      "cell_type": "code",
      "source": [
        "google[google['리뷰']=='']"
      ],
      "metadata": {
        "colab": {
          "base_uri": "https://localhost:8080/",
          "height": 363
        },
        "id": "h3JyqdWu_0xu",
        "outputId": "c9e4b049-0200-425e-bbc8-33f6f672845f"
      },
      "execution_count": null,
      "outputs": [
        {
          "output_type": "execute_result",
          "data": {
            "text/plain": [
              "                  식당   별점 리뷰\n",
              "5627            뚝배기집  5.0   \n",
              "5655            뚝배기집  5.0   \n",
              "9924            뚝배기집  5.0   \n",
              "9952            뚝배기집  5.0   \n",
              "16285    정원레스토랑 어반가든  5.0   \n",
              "18536         삼청동수제비  4.0   \n",
              "25611    진옥화할매원조닭한마리  3.0   \n",
              "27904       쟈니덤플링 본관  4.0   \n",
              "32081  죠티인도 레스토랑 신촌점  3.0   \n",
              "33649            우육미  4.0   "
            ],
            "text/html": [
              "<div>\n",
              "<style scoped>\n",
              "    .dataframe tbody tr th:only-of-type {\n",
              "        vertical-align: middle;\n",
              "    }\n",
              "\n",
              "    .dataframe tbody tr th {\n",
              "        vertical-align: top;\n",
              "    }\n",
              "\n",
              "    .dataframe thead th {\n",
              "        text-align: right;\n",
              "    }\n",
              "</style>\n",
              "<table border=\"1\" class=\"dataframe\">\n",
              "  <thead>\n",
              "    <tr style=\"text-align: right;\">\n",
              "      <th></th>\n",
              "      <th>식당</th>\n",
              "      <th>별점</th>\n",
              "      <th>리뷰</th>\n",
              "    </tr>\n",
              "  </thead>\n",
              "  <tbody>\n",
              "    <tr>\n",
              "      <th>5627</th>\n",
              "      <td>뚝배기집</td>\n",
              "      <td>5.0</td>\n",
              "      <td></td>\n",
              "    </tr>\n",
              "    <tr>\n",
              "      <th>5655</th>\n",
              "      <td>뚝배기집</td>\n",
              "      <td>5.0</td>\n",
              "      <td></td>\n",
              "    </tr>\n",
              "    <tr>\n",
              "      <th>9924</th>\n",
              "      <td>뚝배기집</td>\n",
              "      <td>5.0</td>\n",
              "      <td></td>\n",
              "    </tr>\n",
              "    <tr>\n",
              "      <th>9952</th>\n",
              "      <td>뚝배기집</td>\n",
              "      <td>5.0</td>\n",
              "      <td></td>\n",
              "    </tr>\n",
              "    <tr>\n",
              "      <th>16285</th>\n",
              "      <td>정원레스토랑 어반가든</td>\n",
              "      <td>5.0</td>\n",
              "      <td></td>\n",
              "    </tr>\n",
              "    <tr>\n",
              "      <th>18536</th>\n",
              "      <td>삼청동수제비</td>\n",
              "      <td>4.0</td>\n",
              "      <td></td>\n",
              "    </tr>\n",
              "    <tr>\n",
              "      <th>25611</th>\n",
              "      <td>진옥화할매원조닭한마리</td>\n",
              "      <td>3.0</td>\n",
              "      <td></td>\n",
              "    </tr>\n",
              "    <tr>\n",
              "      <th>27904</th>\n",
              "      <td>쟈니덤플링 본관</td>\n",
              "      <td>4.0</td>\n",
              "      <td></td>\n",
              "    </tr>\n",
              "    <tr>\n",
              "      <th>32081</th>\n",
              "      <td>죠티인도 레스토랑 신촌점</td>\n",
              "      <td>3.0</td>\n",
              "      <td></td>\n",
              "    </tr>\n",
              "    <tr>\n",
              "      <th>33649</th>\n",
              "      <td>우육미</td>\n",
              "      <td>4.0</td>\n",
              "      <td></td>\n",
              "    </tr>\n",
              "  </tbody>\n",
              "</table>\n",
              "</div>"
            ]
          },
          "metadata": {},
          "execution_count": 211
        }
      ]
    },
    {
      "cell_type": "code",
      "source": [
        "google.shape"
      ],
      "metadata": {
        "colab": {
          "base_uri": "https://localhost:8080/"
        },
        "id": "c0KUHsN8AQdO",
        "outputId": "dd6b06a0-b0f6-4369-9950-b145caa12da6"
      },
      "execution_count": null,
      "outputs": [
        {
          "output_type": "execute_result",
          "data": {
            "text/plain": [
              "(37572, 3)"
            ]
          },
          "metadata": {},
          "execution_count": 212
        }
      ]
    },
    {
      "cell_type": "code",
      "source": [
        "# 이모티콘을 빼서 리뷰가 없어지는 것 drop\n",
        "google = google[google['리뷰']!='']\n",
        "google.shape"
      ],
      "metadata": {
        "colab": {
          "base_uri": "https://localhost:8080/"
        },
        "id": "I0f9JcZMAHjn",
        "outputId": "361df7a0-59e3-4b14-fd0d-e2502021fb1c"
      },
      "execution_count": null,
      "outputs": [
        {
          "output_type": "execute_result",
          "data": {
            "text/plain": [
              "(37562, 3)"
            ]
          },
          "metadata": {},
          "execution_count": 213
        }
      ]
    },
    {
      "cell_type": "code",
      "source": [
        "google.to_csv('google_preprocessing.csv', index=False, encoding='utf-8')"
      ],
      "metadata": {
        "id": "pYSunUTauEmU"
      },
      "execution_count": null,
      "outputs": []
    },
    {
      "cell_type": "markdown",
      "source": [
        "# 요기요"
      ],
      "metadata": {
        "id": "QX_Nq9kgvpWh"
      }
    },
    {
      "cell_type": "code",
      "source": [
        "yy = pd.read_csv('Gyeonggi_yogiyo.csv', usecols=['store_name', 'taste_point', 'quantity_point', 'review_text'])\n",
        "yy.head()"
      ],
      "metadata": {
        "colab": {
          "base_uri": "https://localhost:8080/",
          "height": 206
        },
        "id": "jJJOrCbvvp9X",
        "outputId": "659c25fc-b39e-4080-e98c-95aaf630253e"
      },
      "execution_count": null,
      "outputs": [
        {
          "output_type": "execute_result",
          "data": {
            "text/plain": [
              "    store_name  taste_point  quantity_point  \\\n",
              "0  최배달떡순튀-서수원점          4.0             5.0   \n",
              "1  최배달떡순튀-서수원점          5.0             5.0   \n",
              "2  최배달떡순튀-서수원점          5.0             5.0   \n",
              "3  최배달떡순튀-서수원점          5.0             5.0   \n",
              "4  최배달떡순튀-서수원점          5.0             5.0   \n",
              "\n",
              "                                         review_text  \n",
              "0  오늘은 기사님이 배달완료 문자를 안주셔서 모르다가 밖에 나가보니 있었습니다. 떡볶이...  \n",
              "1                                       탱글탱글한 순대 맛나요  \n",
              "2                                        맛있게 잘 먹었습니다  \n",
              "3                                  오늘도 맛있게 잘 먹었습니다~~  \n",
              "4                           오랜만에 먹어도 맛있네요 많이 파세요~~~~  "
            ],
            "text/html": [
              "<div>\n",
              "<style scoped>\n",
              "    .dataframe tbody tr th:only-of-type {\n",
              "        vertical-align: middle;\n",
              "    }\n",
              "\n",
              "    .dataframe tbody tr th {\n",
              "        vertical-align: top;\n",
              "    }\n",
              "\n",
              "    .dataframe thead th {\n",
              "        text-align: right;\n",
              "    }\n",
              "</style>\n",
              "<table border=\"1\" class=\"dataframe\">\n",
              "  <thead>\n",
              "    <tr style=\"text-align: right;\">\n",
              "      <th></th>\n",
              "      <th>store_name</th>\n",
              "      <th>taste_point</th>\n",
              "      <th>quantity_point</th>\n",
              "      <th>review_text</th>\n",
              "    </tr>\n",
              "  </thead>\n",
              "  <tbody>\n",
              "    <tr>\n",
              "      <th>0</th>\n",
              "      <td>최배달떡순튀-서수원점</td>\n",
              "      <td>4.0</td>\n",
              "      <td>5.0</td>\n",
              "      <td>오늘은 기사님이 배달완료 문자를 안주셔서 모르다가 밖에 나가보니 있었습니다. 떡볶이...</td>\n",
              "    </tr>\n",
              "    <tr>\n",
              "      <th>1</th>\n",
              "      <td>최배달떡순튀-서수원점</td>\n",
              "      <td>5.0</td>\n",
              "      <td>5.0</td>\n",
              "      <td>탱글탱글한 순대 맛나요</td>\n",
              "    </tr>\n",
              "    <tr>\n",
              "      <th>2</th>\n",
              "      <td>최배달떡순튀-서수원점</td>\n",
              "      <td>5.0</td>\n",
              "      <td>5.0</td>\n",
              "      <td>맛있게 잘 먹었습니다</td>\n",
              "    </tr>\n",
              "    <tr>\n",
              "      <th>3</th>\n",
              "      <td>최배달떡순튀-서수원점</td>\n",
              "      <td>5.0</td>\n",
              "      <td>5.0</td>\n",
              "      <td>오늘도 맛있게 잘 먹었습니다~~</td>\n",
              "    </tr>\n",
              "    <tr>\n",
              "      <th>4</th>\n",
              "      <td>최배달떡순튀-서수원점</td>\n",
              "      <td>5.0</td>\n",
              "      <td>5.0</td>\n",
              "      <td>오랜만에 먹어도 맛있네요 많이 파세요~~~~</td>\n",
              "    </tr>\n",
              "  </tbody>\n",
              "</table>\n",
              "</div>"
            ]
          },
          "metadata": {},
          "execution_count": 216
        }
      ]
    },
    {
      "cell_type": "markdown",
      "source": [
        "# 결측값 보기(126개 제거)"
      ],
      "metadata": {
        "id": "YdnapGdhxoCH"
      }
    },
    {
      "cell_type": "code",
      "source": [
        "yy.isna().sum()"
      ],
      "metadata": {
        "colab": {
          "base_uri": "https://localhost:8080/"
        },
        "id": "4atMj0FyxnnA",
        "outputId": "e499bb4d-f59a-47b5-fb0c-11ed8bb625a9"
      },
      "execution_count": null,
      "outputs": [
        {
          "output_type": "execute_result",
          "data": {
            "text/plain": [
              "store_name          0\n",
              "taste_point       126\n",
              "quantity_point    126\n",
              "review_text         0\n",
              "dtype: int64"
            ]
          },
          "metadata": {},
          "execution_count": 217
        }
      ]
    },
    {
      "cell_type": "code",
      "source": [
        "yy.shape"
      ],
      "metadata": {
        "colab": {
          "base_uri": "https://localhost:8080/"
        },
        "id": "AuSeabtbxzuI",
        "outputId": "32565dd4-8458-4963-d883-e02e22477632"
      },
      "execution_count": null,
      "outputs": [
        {
          "output_type": "execute_result",
          "data": {
            "text/plain": [
              "(109650, 4)"
            ]
          },
          "metadata": {},
          "execution_count": 218
        }
      ]
    },
    {
      "cell_type": "code",
      "source": [
        "yy.dropna(inplace=True)"
      ],
      "metadata": {
        "id": "2ON20tQpxu5P"
      },
      "execution_count": null,
      "outputs": []
    },
    {
      "cell_type": "code",
      "source": [
        "yy.shape"
      ],
      "metadata": {
        "colab": {
          "base_uri": "https://localhost:8080/"
        },
        "id": "Dj5IRIIUx5Ag",
        "outputId": "b2d6c4ab-5fc7-4f6c-bd9f-f6f9cc3fef0c"
      },
      "execution_count": null,
      "outputs": [
        {
          "output_type": "execute_result",
          "data": {
            "text/plain": [
              "(109524, 4)"
            ]
          },
          "metadata": {},
          "execution_count": 220
        }
      ]
    },
    {
      "cell_type": "markdown",
      "source": [
        "# taste_point와 quantity_point 평균 내기"
      ],
      "metadata": {
        "id": "FBp1y0zAwxpM"
      }
    },
    {
      "cell_type": "code",
      "source": [
        "yy['mean_point'] = (yy['taste_point']+yy['quantity_point'])/2\n",
        "yy.head()"
      ],
      "metadata": {
        "colab": {
          "base_uri": "https://localhost:8080/",
          "height": 206
        },
        "id": "87wDIHOwwwSk",
        "outputId": "c7215864-a989-428c-860c-a2d0cfbd2c67"
      },
      "execution_count": null,
      "outputs": [
        {
          "output_type": "execute_result",
          "data": {
            "text/plain": [
              "    store_name  taste_point  quantity_point  \\\n",
              "0  최배달떡순튀-서수원점          4.0             5.0   \n",
              "1  최배달떡순튀-서수원점          5.0             5.0   \n",
              "2  최배달떡순튀-서수원점          5.0             5.0   \n",
              "3  최배달떡순튀-서수원점          5.0             5.0   \n",
              "4  최배달떡순튀-서수원점          5.0             5.0   \n",
              "\n",
              "                                         review_text  mean_point  \n",
              "0  오늘은 기사님이 배달완료 문자를 안주셔서 모르다가 밖에 나가보니 있었습니다. 떡볶이...         4.5  \n",
              "1                                       탱글탱글한 순대 맛나요         5.0  \n",
              "2                                        맛있게 잘 먹었습니다         5.0  \n",
              "3                                  오늘도 맛있게 잘 먹었습니다~~         5.0  \n",
              "4                           오랜만에 먹어도 맛있네요 많이 파세요~~~~         5.0  "
            ],
            "text/html": [
              "<div>\n",
              "<style scoped>\n",
              "    .dataframe tbody tr th:only-of-type {\n",
              "        vertical-align: middle;\n",
              "    }\n",
              "\n",
              "    .dataframe tbody tr th {\n",
              "        vertical-align: top;\n",
              "    }\n",
              "\n",
              "    .dataframe thead th {\n",
              "        text-align: right;\n",
              "    }\n",
              "</style>\n",
              "<table border=\"1\" class=\"dataframe\">\n",
              "  <thead>\n",
              "    <tr style=\"text-align: right;\">\n",
              "      <th></th>\n",
              "      <th>store_name</th>\n",
              "      <th>taste_point</th>\n",
              "      <th>quantity_point</th>\n",
              "      <th>review_text</th>\n",
              "      <th>mean_point</th>\n",
              "    </tr>\n",
              "  </thead>\n",
              "  <tbody>\n",
              "    <tr>\n",
              "      <th>0</th>\n",
              "      <td>최배달떡순튀-서수원점</td>\n",
              "      <td>4.0</td>\n",
              "      <td>5.0</td>\n",
              "      <td>오늘은 기사님이 배달완료 문자를 안주셔서 모르다가 밖에 나가보니 있었습니다. 떡볶이...</td>\n",
              "      <td>4.5</td>\n",
              "    </tr>\n",
              "    <tr>\n",
              "      <th>1</th>\n",
              "      <td>최배달떡순튀-서수원점</td>\n",
              "      <td>5.0</td>\n",
              "      <td>5.0</td>\n",
              "      <td>탱글탱글한 순대 맛나요</td>\n",
              "      <td>5.0</td>\n",
              "    </tr>\n",
              "    <tr>\n",
              "      <th>2</th>\n",
              "      <td>최배달떡순튀-서수원점</td>\n",
              "      <td>5.0</td>\n",
              "      <td>5.0</td>\n",
              "      <td>맛있게 잘 먹었습니다</td>\n",
              "      <td>5.0</td>\n",
              "    </tr>\n",
              "    <tr>\n",
              "      <th>3</th>\n",
              "      <td>최배달떡순튀-서수원점</td>\n",
              "      <td>5.0</td>\n",
              "      <td>5.0</td>\n",
              "      <td>오늘도 맛있게 잘 먹었습니다~~</td>\n",
              "      <td>5.0</td>\n",
              "    </tr>\n",
              "    <tr>\n",
              "      <th>4</th>\n",
              "      <td>최배달떡순튀-서수원점</td>\n",
              "      <td>5.0</td>\n",
              "      <td>5.0</td>\n",
              "      <td>오랜만에 먹어도 맛있네요 많이 파세요~~~~</td>\n",
              "      <td>5.0</td>\n",
              "    </tr>\n",
              "  </tbody>\n",
              "</table>\n",
              "</div>"
            ]
          },
          "metadata": {},
          "execution_count": 221
        }
      ]
    },
    {
      "cell_type": "code",
      "source": [
        "yogiyo = yy.drop(axis=1, columns=['taste_point', 'quantity_point'])\n",
        "yogiyo.head()"
      ],
      "metadata": {
        "colab": {
          "base_uri": "https://localhost:8080/",
          "height": 206
        },
        "id": "BUxl_H2Cw8D4",
        "outputId": "8dfa52a4-fd4d-49b5-90b9-b5f235ee3b6e"
      },
      "execution_count": null,
      "outputs": [
        {
          "output_type": "execute_result",
          "data": {
            "text/plain": [
              "    store_name                                        review_text  mean_point\n",
              "0  최배달떡순튀-서수원점  오늘은 기사님이 배달완료 문자를 안주셔서 모르다가 밖에 나가보니 있었습니다. 떡볶이...         4.5\n",
              "1  최배달떡순튀-서수원점                                       탱글탱글한 순대 맛나요         5.0\n",
              "2  최배달떡순튀-서수원점                                        맛있게 잘 먹었습니다         5.0\n",
              "3  최배달떡순튀-서수원점                                  오늘도 맛있게 잘 먹었습니다~~         5.0\n",
              "4  최배달떡순튀-서수원점                           오랜만에 먹어도 맛있네요 많이 파세요~~~~         5.0"
            ],
            "text/html": [
              "<div>\n",
              "<style scoped>\n",
              "    .dataframe tbody tr th:only-of-type {\n",
              "        vertical-align: middle;\n",
              "    }\n",
              "\n",
              "    .dataframe tbody tr th {\n",
              "        vertical-align: top;\n",
              "    }\n",
              "\n",
              "    .dataframe thead th {\n",
              "        text-align: right;\n",
              "    }\n",
              "</style>\n",
              "<table border=\"1\" class=\"dataframe\">\n",
              "  <thead>\n",
              "    <tr style=\"text-align: right;\">\n",
              "      <th></th>\n",
              "      <th>store_name</th>\n",
              "      <th>review_text</th>\n",
              "      <th>mean_point</th>\n",
              "    </tr>\n",
              "  </thead>\n",
              "  <tbody>\n",
              "    <tr>\n",
              "      <th>0</th>\n",
              "      <td>최배달떡순튀-서수원점</td>\n",
              "      <td>오늘은 기사님이 배달완료 문자를 안주셔서 모르다가 밖에 나가보니 있었습니다. 떡볶이...</td>\n",
              "      <td>4.5</td>\n",
              "    </tr>\n",
              "    <tr>\n",
              "      <th>1</th>\n",
              "      <td>최배달떡순튀-서수원점</td>\n",
              "      <td>탱글탱글한 순대 맛나요</td>\n",
              "      <td>5.0</td>\n",
              "    </tr>\n",
              "    <tr>\n",
              "      <th>2</th>\n",
              "      <td>최배달떡순튀-서수원점</td>\n",
              "      <td>맛있게 잘 먹었습니다</td>\n",
              "      <td>5.0</td>\n",
              "    </tr>\n",
              "    <tr>\n",
              "      <th>3</th>\n",
              "      <td>최배달떡순튀-서수원점</td>\n",
              "      <td>오늘도 맛있게 잘 먹었습니다~~</td>\n",
              "      <td>5.0</td>\n",
              "    </tr>\n",
              "    <tr>\n",
              "      <th>4</th>\n",
              "      <td>최배달떡순튀-서수원점</td>\n",
              "      <td>오랜만에 먹어도 맛있네요 많이 파세요~~~~</td>\n",
              "      <td>5.0</td>\n",
              "    </tr>\n",
              "  </tbody>\n",
              "</table>\n",
              "</div>"
            ]
          },
          "metadata": {},
          "execution_count": 222
        }
      ]
    },
    {
      "cell_type": "code",
      "source": [
        "yogiyo.info()"
      ],
      "metadata": {
        "colab": {
          "base_uri": "https://localhost:8080/"
        },
        "id": "19-eEGeqxPnk",
        "outputId": "43125a92-897d-456a-b2a2-a33fd4d660ce"
      },
      "execution_count": null,
      "outputs": [
        {
          "output_type": "stream",
          "name": "stdout",
          "text": [
            "<class 'pandas.core.frame.DataFrame'>\n",
            "Index: 109524 entries, 0 to 109649\n",
            "Data columns (total 3 columns):\n",
            " #   Column       Non-Null Count   Dtype  \n",
            "---  ------       --------------   -----  \n",
            " 0   store_name   109524 non-null  object \n",
            " 1   review_text  109524 non-null  object \n",
            " 2   mean_point   109524 non-null  float64\n",
            "dtypes: float64(1), object(2)\n",
            "memory usage: 3.3+ MB\n"
          ]
        }
      ]
    },
    {
      "cell_type": "markdown",
      "source": [
        "# 데이터 수정"
      ],
      "metadata": {
        "id": "EsdvvN_qyRzw"
      }
    },
    {
      "cell_type": "code",
      "source": [
        "yogiyo['review_text'].head(10)"
      ],
      "metadata": {
        "colab": {
          "base_uri": "https://localhost:8080/"
        },
        "id": "rcx2Cu1d7N7I",
        "outputId": "bbe92def-7f6d-4d38-c804-6a1878e3f7cb"
      },
      "execution_count": null,
      "outputs": [
        {
          "output_type": "execute_result",
          "data": {
            "text/plain": [
              "0    오늘은 기사님이 배달완료 문자를 안주셔서 모르다가 밖에 나가보니 있었습니다. 떡볶이...\n",
              "1                                         탱글탱글한 순대 맛나요\n",
              "2                                          맛있게 잘 먹었습니다\n",
              "3                                    오늘도 맛있게 잘 먹었습니다~~\n",
              "4                             오랜만에 먹어도 맛있네요 많이 파세요~~~~\n",
              "5                                           맛있게 잘 먹었어요\n",
              "6                                           맛있게 잘 먹었어요\n",
              "7                                      오믈도 맛나게 잘 먹었어요~\n",
              "8    내장 넘 맛있어요...😭 부드럽고 쫄깃하고 다함 고튀랑 김말이튀김도 특제소스 만들어...\n",
              "9                        분식 먹고 싶을때 항상 시켜요 특히 순대 넘 맛있어요\n",
              "Name: review_text, dtype: object"
            ]
          },
          "metadata": {},
          "execution_count": 225
        }
      ]
    },
    {
      "cell_type": "code",
      "source": [
        "yogiyo['review_text'] = yogiyo['review_text'].map(preprocessing)\n",
        "yogiyo.head(10)"
      ],
      "metadata": {
        "id": "gF1-FPziyRaR",
        "colab": {
          "base_uri": "https://localhost:8080/",
          "height": 363
        },
        "outputId": "ddfeeaa5-fc14-4fa2-a6d1-af57c69636d1"
      },
      "execution_count": null,
      "outputs": [
        {
          "output_type": "execute_result",
          "data": {
            "text/plain": [
              "    store_name                                        review_text  mean_point\n",
              "0  최배달떡순튀-서수원점  오늘은 기사님이 배달완료 문자를 안주셔서 모르다가 밖에 나가보니 있었습니다. 떡볶이...         4.5\n",
              "1  최배달떡순튀-서수원점                                       탱글탱글한 순대 맛나요         5.0\n",
              "2  최배달떡순튀-서수원점                                        맛있게 잘 먹었습니다         5.0\n",
              "3  최배달떡순튀-서수원점                                  오늘도 맛있게 잘 먹었습니다~~         5.0\n",
              "4  최배달떡순튀-서수원점                           오랜만에 먹어도 맛있네요 많이 파세요~~~~         5.0\n",
              "5  최배달떡순튀-서수원점                                         맛있게 잘 먹었어요         5.0\n",
              "6  최배달떡순튀-서수원점                                         맛있게 잘 먹었어요         5.0\n",
              "7  최배달떡순튀-서수원점                                    오믈도 맛나게 잘 먹었어요~         5.0\n",
              "8  최배달떡순튀-서수원점  내장 넘 맛있어요... 부드럽고 쫄깃하고 다함 고튀랑 김말이튀김도 특제소스 만들어서...         5.0\n",
              "9  최배달떡순튀-서수원점                      분식 먹고 싶을때 항상 시켜요 특히 순대 넘 맛있어요         4.5"
            ],
            "text/html": [
              "<div>\n",
              "<style scoped>\n",
              "    .dataframe tbody tr th:only-of-type {\n",
              "        vertical-align: middle;\n",
              "    }\n",
              "\n",
              "    .dataframe tbody tr th {\n",
              "        vertical-align: top;\n",
              "    }\n",
              "\n",
              "    .dataframe thead th {\n",
              "        text-align: right;\n",
              "    }\n",
              "</style>\n",
              "<table border=\"1\" class=\"dataframe\">\n",
              "  <thead>\n",
              "    <tr style=\"text-align: right;\">\n",
              "      <th></th>\n",
              "      <th>store_name</th>\n",
              "      <th>review_text</th>\n",
              "      <th>mean_point</th>\n",
              "    </tr>\n",
              "  </thead>\n",
              "  <tbody>\n",
              "    <tr>\n",
              "      <th>0</th>\n",
              "      <td>최배달떡순튀-서수원점</td>\n",
              "      <td>오늘은 기사님이 배달완료 문자를 안주셔서 모르다가 밖에 나가보니 있었습니다. 떡볶이...</td>\n",
              "      <td>4.5</td>\n",
              "    </tr>\n",
              "    <tr>\n",
              "      <th>1</th>\n",
              "      <td>최배달떡순튀-서수원점</td>\n",
              "      <td>탱글탱글한 순대 맛나요</td>\n",
              "      <td>5.0</td>\n",
              "    </tr>\n",
              "    <tr>\n",
              "      <th>2</th>\n",
              "      <td>최배달떡순튀-서수원점</td>\n",
              "      <td>맛있게 잘 먹었습니다</td>\n",
              "      <td>5.0</td>\n",
              "    </tr>\n",
              "    <tr>\n",
              "      <th>3</th>\n",
              "      <td>최배달떡순튀-서수원점</td>\n",
              "      <td>오늘도 맛있게 잘 먹었습니다~~</td>\n",
              "      <td>5.0</td>\n",
              "    </tr>\n",
              "    <tr>\n",
              "      <th>4</th>\n",
              "      <td>최배달떡순튀-서수원점</td>\n",
              "      <td>오랜만에 먹어도 맛있네요 많이 파세요~~~~</td>\n",
              "      <td>5.0</td>\n",
              "    </tr>\n",
              "    <tr>\n",
              "      <th>5</th>\n",
              "      <td>최배달떡순튀-서수원점</td>\n",
              "      <td>맛있게 잘 먹었어요</td>\n",
              "      <td>5.0</td>\n",
              "    </tr>\n",
              "    <tr>\n",
              "      <th>6</th>\n",
              "      <td>최배달떡순튀-서수원점</td>\n",
              "      <td>맛있게 잘 먹었어요</td>\n",
              "      <td>5.0</td>\n",
              "    </tr>\n",
              "    <tr>\n",
              "      <th>7</th>\n",
              "      <td>최배달떡순튀-서수원점</td>\n",
              "      <td>오믈도 맛나게 잘 먹었어요~</td>\n",
              "      <td>5.0</td>\n",
              "    </tr>\n",
              "    <tr>\n",
              "      <th>8</th>\n",
              "      <td>최배달떡순튀-서수원점</td>\n",
              "      <td>내장 넘 맛있어요... 부드럽고 쫄깃하고 다함 고튀랑 김말이튀김도 특제소스 만들어서...</td>\n",
              "      <td>5.0</td>\n",
              "    </tr>\n",
              "    <tr>\n",
              "      <th>9</th>\n",
              "      <td>최배달떡순튀-서수원점</td>\n",
              "      <td>분식 먹고 싶을때 항상 시켜요 특히 순대 넘 맛있어요</td>\n",
              "      <td>4.5</td>\n",
              "    </tr>\n",
              "  </tbody>\n",
              "</table>\n",
              "</div>"
            ]
          },
          "metadata": {},
          "execution_count": 226
        }
      ]
    },
    {
      "cell_type": "markdown",
      "source": [
        "# 이모지 제거하면 리뷰가 없는 경우"
      ],
      "metadata": {
        "id": "jbuYy2YbArd_"
      }
    },
    {
      "cell_type": "code",
      "source": [
        "yogiyo[yogiyo['review_text']=='']"
      ],
      "metadata": {
        "colab": {
          "base_uri": "https://localhost:8080/",
          "height": 423
        },
        "id": "UYxV9sXlArSX",
        "outputId": "a4be5173-fe26-466b-d05c-aea91276bee5"
      },
      "execution_count": null,
      "outputs": [
        {
          "output_type": "execute_result",
          "data": {
            "text/plain": [
              "         store_name review_text  mean_point\n",
              "115     최배달떡순튀-서수원점                     5.0\n",
              "301     최배달떡순튀-서수원점                     5.0\n",
              "1840    최배달떡순튀-서수원점                     5.0\n",
              "2106    최배달떡순튀-서수원점                     5.0\n",
              "2163    최배달떡순튀-서수원점                     5.0\n",
              "...             ...         ...         ...\n",
              "105035  행복한찜닭-오포능평점                     5.0\n",
              "105096  행복한찜닭-오포능평점                     5.0\n",
              "105105  행복한찜닭-오포능평점                     5.0\n",
              "105106  행복한찜닭-오포능평점                     5.0\n",
              "107653     번쩍피자-신현점                     5.0\n",
              "\n",
              "[184 rows x 3 columns]"
            ],
            "text/html": [
              "<div>\n",
              "<style scoped>\n",
              "    .dataframe tbody tr th:only-of-type {\n",
              "        vertical-align: middle;\n",
              "    }\n",
              "\n",
              "    .dataframe tbody tr th {\n",
              "        vertical-align: top;\n",
              "    }\n",
              "\n",
              "    .dataframe thead th {\n",
              "        text-align: right;\n",
              "    }\n",
              "</style>\n",
              "<table border=\"1\" class=\"dataframe\">\n",
              "  <thead>\n",
              "    <tr style=\"text-align: right;\">\n",
              "      <th></th>\n",
              "      <th>store_name</th>\n",
              "      <th>review_text</th>\n",
              "      <th>mean_point</th>\n",
              "    </tr>\n",
              "  </thead>\n",
              "  <tbody>\n",
              "    <tr>\n",
              "      <th>115</th>\n",
              "      <td>최배달떡순튀-서수원점</td>\n",
              "      <td></td>\n",
              "      <td>5.0</td>\n",
              "    </tr>\n",
              "    <tr>\n",
              "      <th>301</th>\n",
              "      <td>최배달떡순튀-서수원점</td>\n",
              "      <td></td>\n",
              "      <td>5.0</td>\n",
              "    </tr>\n",
              "    <tr>\n",
              "      <th>1840</th>\n",
              "      <td>최배달떡순튀-서수원점</td>\n",
              "      <td></td>\n",
              "      <td>5.0</td>\n",
              "    </tr>\n",
              "    <tr>\n",
              "      <th>2106</th>\n",
              "      <td>최배달떡순튀-서수원점</td>\n",
              "      <td></td>\n",
              "      <td>5.0</td>\n",
              "    </tr>\n",
              "    <tr>\n",
              "      <th>2163</th>\n",
              "      <td>최배달떡순튀-서수원점</td>\n",
              "      <td></td>\n",
              "      <td>5.0</td>\n",
              "    </tr>\n",
              "    <tr>\n",
              "      <th>...</th>\n",
              "      <td>...</td>\n",
              "      <td>...</td>\n",
              "      <td>...</td>\n",
              "    </tr>\n",
              "    <tr>\n",
              "      <th>105035</th>\n",
              "      <td>행복한찜닭-오포능평점</td>\n",
              "      <td></td>\n",
              "      <td>5.0</td>\n",
              "    </tr>\n",
              "    <tr>\n",
              "      <th>105096</th>\n",
              "      <td>행복한찜닭-오포능평점</td>\n",
              "      <td></td>\n",
              "      <td>5.0</td>\n",
              "    </tr>\n",
              "    <tr>\n",
              "      <th>105105</th>\n",
              "      <td>행복한찜닭-오포능평점</td>\n",
              "      <td></td>\n",
              "      <td>5.0</td>\n",
              "    </tr>\n",
              "    <tr>\n",
              "      <th>105106</th>\n",
              "      <td>행복한찜닭-오포능평점</td>\n",
              "      <td></td>\n",
              "      <td>5.0</td>\n",
              "    </tr>\n",
              "    <tr>\n",
              "      <th>107653</th>\n",
              "      <td>번쩍피자-신현점</td>\n",
              "      <td></td>\n",
              "      <td>5.0</td>\n",
              "    </tr>\n",
              "  </tbody>\n",
              "</table>\n",
              "<p>184 rows × 3 columns</p>\n",
              "</div>"
            ]
          },
          "metadata": {},
          "execution_count": 228
        }
      ]
    },
    {
      "cell_type": "code",
      "source": [
        "yogiyo.shape"
      ],
      "metadata": {
        "colab": {
          "base_uri": "https://localhost:8080/"
        },
        "id": "yRYZbSKYA63v",
        "outputId": "f563ee20-0da3-4929-b352-fc85cc82e3b9"
      },
      "execution_count": null,
      "outputs": [
        {
          "output_type": "execute_result",
          "data": {
            "text/plain": [
              "(109524, 3)"
            ]
          },
          "metadata": {},
          "execution_count": 230
        }
      ]
    },
    {
      "cell_type": "code",
      "source": [
        "yogiyo = yogiyo[yogiyo['review_text']!='']\n",
        "yogiyo.shape"
      ],
      "metadata": {
        "colab": {
          "base_uri": "https://localhost:8080/"
        },
        "id": "iatW8vyRA1Xv",
        "outputId": "ba64b8d4-b6bc-4db5-c7aa-6476f7a05953"
      },
      "execution_count": null,
      "outputs": [
        {
          "output_type": "execute_result",
          "data": {
            "text/plain": [
              "(109340, 3)"
            ]
          },
          "metadata": {},
          "execution_count": 231
        }
      ]
    },
    {
      "cell_type": "markdown",
      "source": [
        "# 컬럼 네임 재정의"
      ],
      "metadata": {
        "id": "sXATBarayFOY"
      }
    },
    {
      "cell_type": "code",
      "source": [
        "yogiyo.rename(columns={'store_name':'식당', 'mean_point':'별점', 'review_text':'리뷰'}, inplace=True)\n",
        "yogiyo.head()"
      ],
      "metadata": {
        "colab": {
          "base_uri": "https://localhost:8080/",
          "height": 298
        },
        "id": "z2Fg4SMPyEwJ",
        "outputId": "7c26a340-126e-4ba5-ab92-4dda4ae84712"
      },
      "execution_count": null,
      "outputs": [
        {
          "output_type": "stream",
          "name": "stderr",
          "text": [
            "C:\\Users\\Admin\\AppData\\Local\\Temp\\ipykernel_23852\\3996321321.py:1: SettingWithCopyWarning: \n",
            "A value is trying to be set on a copy of a slice from a DataFrame\n",
            "\n",
            "See the caveats in the documentation: https://pandas.pydata.org/pandas-docs/stable/user_guide/indexing.html#returning-a-view-versus-a-copy\n",
            "  yogiyo.rename(columns={'store_name':'식당', 'mean_point':'별점', 'review_text':'리뷰'}, inplace=True)\n"
          ]
        },
        {
          "output_type": "execute_result",
          "data": {
            "text/plain": [
              "            식당                                                 리뷰   별점\n",
              "0  최배달떡순튀-서수원점  오늘은 기사님이 배달완료 문자를 안주셔서 모르다가 밖에 나가보니 있었습니다. 떡볶이...  4.5\n",
              "1  최배달떡순튀-서수원점                                       탱글탱글한 순대 맛나요  5.0\n",
              "2  최배달떡순튀-서수원점                                        맛있게 잘 먹었습니다  5.0\n",
              "3  최배달떡순튀-서수원점                                  오늘도 맛있게 잘 먹었습니다~~  5.0\n",
              "4  최배달떡순튀-서수원점                           오랜만에 먹어도 맛있네요 많이 파세요~~~~  5.0"
            ],
            "text/html": [
              "<div>\n",
              "<style scoped>\n",
              "    .dataframe tbody tr th:only-of-type {\n",
              "        vertical-align: middle;\n",
              "    }\n",
              "\n",
              "    .dataframe tbody tr th {\n",
              "        vertical-align: top;\n",
              "    }\n",
              "\n",
              "    .dataframe thead th {\n",
              "        text-align: right;\n",
              "    }\n",
              "</style>\n",
              "<table border=\"1\" class=\"dataframe\">\n",
              "  <thead>\n",
              "    <tr style=\"text-align: right;\">\n",
              "      <th></th>\n",
              "      <th>식당</th>\n",
              "      <th>리뷰</th>\n",
              "      <th>별점</th>\n",
              "    </tr>\n",
              "  </thead>\n",
              "  <tbody>\n",
              "    <tr>\n",
              "      <th>0</th>\n",
              "      <td>최배달떡순튀-서수원점</td>\n",
              "      <td>오늘은 기사님이 배달완료 문자를 안주셔서 모르다가 밖에 나가보니 있었습니다. 떡볶이...</td>\n",
              "      <td>4.5</td>\n",
              "    </tr>\n",
              "    <tr>\n",
              "      <th>1</th>\n",
              "      <td>최배달떡순튀-서수원점</td>\n",
              "      <td>탱글탱글한 순대 맛나요</td>\n",
              "      <td>5.0</td>\n",
              "    </tr>\n",
              "    <tr>\n",
              "      <th>2</th>\n",
              "      <td>최배달떡순튀-서수원점</td>\n",
              "      <td>맛있게 잘 먹었습니다</td>\n",
              "      <td>5.0</td>\n",
              "    </tr>\n",
              "    <tr>\n",
              "      <th>3</th>\n",
              "      <td>최배달떡순튀-서수원점</td>\n",
              "      <td>오늘도 맛있게 잘 먹었습니다~~</td>\n",
              "      <td>5.0</td>\n",
              "    </tr>\n",
              "    <tr>\n",
              "      <th>4</th>\n",
              "      <td>최배달떡순튀-서수원점</td>\n",
              "      <td>오랜만에 먹어도 맛있네요 많이 파세요~~~~</td>\n",
              "      <td>5.0</td>\n",
              "    </tr>\n",
              "  </tbody>\n",
              "</table>\n",
              "</div>"
            ]
          },
          "metadata": {},
          "execution_count": 232
        }
      ]
    },
    {
      "cell_type": "code",
      "source": [
        "yogiyo.head()"
      ],
      "metadata": {
        "colab": {
          "base_uri": "https://localhost:8080/",
          "height": 206
        },
        "id": "je8FtpWyBGkv",
        "outputId": "73543ad6-e7cc-469d-c5c5-72807b77b2e2"
      },
      "execution_count": null,
      "outputs": [
        {
          "output_type": "execute_result",
          "data": {
            "text/plain": [
              "            식당                                                 리뷰   별점\n",
              "0  최배달떡순튀-서수원점  오늘은 기사님이 배달완료 문자를 안주셔서 모르다가 밖에 나가보니 있었습니다. 떡볶이...  4.5\n",
              "1  최배달떡순튀-서수원점                                       탱글탱글한 순대 맛나요  5.0\n",
              "2  최배달떡순튀-서수원점                                        맛있게 잘 먹었습니다  5.0\n",
              "3  최배달떡순튀-서수원점                                  오늘도 맛있게 잘 먹었습니다~~  5.0\n",
              "4  최배달떡순튀-서수원점                           오랜만에 먹어도 맛있네요 많이 파세요~~~~  5.0"
            ],
            "text/html": [
              "<div>\n",
              "<style scoped>\n",
              "    .dataframe tbody tr th:only-of-type {\n",
              "        vertical-align: middle;\n",
              "    }\n",
              "\n",
              "    .dataframe tbody tr th {\n",
              "        vertical-align: top;\n",
              "    }\n",
              "\n",
              "    .dataframe thead th {\n",
              "        text-align: right;\n",
              "    }\n",
              "</style>\n",
              "<table border=\"1\" class=\"dataframe\">\n",
              "  <thead>\n",
              "    <tr style=\"text-align: right;\">\n",
              "      <th></th>\n",
              "      <th>식당</th>\n",
              "      <th>리뷰</th>\n",
              "      <th>별점</th>\n",
              "    </tr>\n",
              "  </thead>\n",
              "  <tbody>\n",
              "    <tr>\n",
              "      <th>0</th>\n",
              "      <td>최배달떡순튀-서수원점</td>\n",
              "      <td>오늘은 기사님이 배달완료 문자를 안주셔서 모르다가 밖에 나가보니 있었습니다. 떡볶이...</td>\n",
              "      <td>4.5</td>\n",
              "    </tr>\n",
              "    <tr>\n",
              "      <th>1</th>\n",
              "      <td>최배달떡순튀-서수원점</td>\n",
              "      <td>탱글탱글한 순대 맛나요</td>\n",
              "      <td>5.0</td>\n",
              "    </tr>\n",
              "    <tr>\n",
              "      <th>2</th>\n",
              "      <td>최배달떡순튀-서수원점</td>\n",
              "      <td>맛있게 잘 먹었습니다</td>\n",
              "      <td>5.0</td>\n",
              "    </tr>\n",
              "    <tr>\n",
              "      <th>3</th>\n",
              "      <td>최배달떡순튀-서수원점</td>\n",
              "      <td>오늘도 맛있게 잘 먹었습니다~~</td>\n",
              "      <td>5.0</td>\n",
              "    </tr>\n",
              "    <tr>\n",
              "      <th>4</th>\n",
              "      <td>최배달떡순튀-서수원점</td>\n",
              "      <td>오랜만에 먹어도 맛있네요 많이 파세요~~~~</td>\n",
              "      <td>5.0</td>\n",
              "    </tr>\n",
              "  </tbody>\n",
              "</table>\n",
              "</div>"
            ]
          },
          "metadata": {},
          "execution_count": 234
        }
      ]
    },
    {
      "cell_type": "code",
      "source": [
        "yogiyo.to_csv('yogiyo_preprocessing.csv', index=False, encoding='utf-8')"
      ],
      "metadata": {
        "id": "bOkqfk6S38ty"
      },
      "execution_count": null,
      "outputs": []
    },
    {
      "cell_type": "code",
      "source": [
        "yy = pd.read_csv('yogiyo_preprocessing.csv')\n",
        "yy.isna().sum()"
      ],
      "metadata": {
        "id": "Tq30rlOT7rmv",
        "colab": {
          "base_uri": "https://localhost:8080/"
        },
        "outputId": "4c17063a-23bd-425e-fe85-0060c2bac9c0"
      },
      "execution_count": null,
      "outputs": [
        {
          "output_type": "execute_result",
          "data": {
            "text/plain": [
              "식당    0\n",
              "리뷰    0\n",
              "별점    0\n",
              "dtype: int64"
            ]
          },
          "metadata": {},
          "execution_count": 236
        }
      ]
    },
    {
      "cell_type": "markdown",
      "source": [
        "# concat"
      ],
      "metadata": {
        "id": "g_ulJKgV9FuO"
      }
    },
    {
      "cell_type": "code",
      "source": [
        "google = pd.read_csv('google_preprocessing.csv')\n",
        "google.head()"
      ],
      "metadata": {
        "colab": {
          "base_uri": "https://localhost:8080/",
          "height": 206
        },
        "id": "V1P7YsfGvTth",
        "outputId": "77606315-e0cc-42da-9584-5e58cc64eeed"
      },
      "execution_count": null,
      "outputs": [
        {
          "output_type": "execute_result",
          "data": {
            "text/plain": [
              "    식당   별점                                                 리뷰\n",
              "0  정식당  5.0  저의 개인적 취향을 두고 볼 때에는 소스가 전체적으로 오일리하고 무거운 느낌이 있습...\n",
              "1  정식당  5.0  이정도 가격대의 식당을 방문하시는분이라면 식사에 대한 기준이 높을꺼라 생각합니다. ...\n",
              "2  정식당  5.0  맛만 보면 4.5, 모든걸 더하면 5 배를 채우러 가기 보다는 음식이라는 하나의 주...\n",
              "3  정식당  5.0  금액이 좀 비싸지만 미슐렝가이드 레스토랑을 제대로 즐길 수 있어요. 모든 음식은 한...\n",
              "4  정식당  5.0  정말 세상에서 제일 맛있는 음식과 친절한 직원들  파인다이닝인데 큰 기교를 부리기보..."
            ],
            "text/html": [
              "<div>\n",
              "<style scoped>\n",
              "    .dataframe tbody tr th:only-of-type {\n",
              "        vertical-align: middle;\n",
              "    }\n",
              "\n",
              "    .dataframe tbody tr th {\n",
              "        vertical-align: top;\n",
              "    }\n",
              "\n",
              "    .dataframe thead th {\n",
              "        text-align: right;\n",
              "    }\n",
              "</style>\n",
              "<table border=\"1\" class=\"dataframe\">\n",
              "  <thead>\n",
              "    <tr style=\"text-align: right;\">\n",
              "      <th></th>\n",
              "      <th>식당</th>\n",
              "      <th>별점</th>\n",
              "      <th>리뷰</th>\n",
              "    </tr>\n",
              "  </thead>\n",
              "  <tbody>\n",
              "    <tr>\n",
              "      <th>0</th>\n",
              "      <td>정식당</td>\n",
              "      <td>5.0</td>\n",
              "      <td>저의 개인적 취향을 두고 볼 때에는 소스가 전체적으로 오일리하고 무거운 느낌이 있습...</td>\n",
              "    </tr>\n",
              "    <tr>\n",
              "      <th>1</th>\n",
              "      <td>정식당</td>\n",
              "      <td>5.0</td>\n",
              "      <td>이정도 가격대의 식당을 방문하시는분이라면 식사에 대한 기준이 높을꺼라 생각합니다. ...</td>\n",
              "    </tr>\n",
              "    <tr>\n",
              "      <th>2</th>\n",
              "      <td>정식당</td>\n",
              "      <td>5.0</td>\n",
              "      <td>맛만 보면 4.5, 모든걸 더하면 5 배를 채우러 가기 보다는 음식이라는 하나의 주...</td>\n",
              "    </tr>\n",
              "    <tr>\n",
              "      <th>3</th>\n",
              "      <td>정식당</td>\n",
              "      <td>5.0</td>\n",
              "      <td>금액이 좀 비싸지만 미슐렝가이드 레스토랑을 제대로 즐길 수 있어요. 모든 음식은 한...</td>\n",
              "    </tr>\n",
              "    <tr>\n",
              "      <th>4</th>\n",
              "      <td>정식당</td>\n",
              "      <td>5.0</td>\n",
              "      <td>정말 세상에서 제일 맛있는 음식과 친절한 직원들  파인다이닝인데 큰 기교를 부리기보...</td>\n",
              "    </tr>\n",
              "  </tbody>\n",
              "</table>\n",
              "</div>"
            ]
          },
          "metadata": {},
          "execution_count": 237
        }
      ]
    },
    {
      "cell_type": "code",
      "source": [
        "# 결측값 확인\n",
        "google.isna().sum()"
      ],
      "metadata": {
        "colab": {
          "base_uri": "https://localhost:8080/"
        },
        "id": "2uX7bKktBa8Y",
        "outputId": "afbbff07-3a1b-4da4-b4ce-98a7b883ce0e"
      },
      "execution_count": null,
      "outputs": [
        {
          "output_type": "execute_result",
          "data": {
            "text/plain": [
              "식당    0\n",
              "별점    0\n",
              "리뷰    0\n",
              "dtype: int64"
            ]
          },
          "metadata": {},
          "execution_count": 239
        }
      ]
    },
    {
      "cell_type": "code",
      "source": [
        "# shape 확인\n",
        "google.shape"
      ],
      "metadata": {
        "colab": {
          "base_uri": "https://localhost:8080/"
        },
        "id": "ZsuvL8WNBeOR",
        "outputId": "96ece75b-1d21-4164-d712-4c8933cc3040"
      },
      "execution_count": null,
      "outputs": [
        {
          "output_type": "execute_result",
          "data": {
            "text/plain": [
              "(37562, 3)"
            ]
          },
          "metadata": {},
          "execution_count": 241
        }
      ]
    },
    {
      "cell_type": "code",
      "source": [
        "yogiyo = pd.read_csv('yogiyo_preprocessing.csv')\n",
        "yogiyo.head()"
      ],
      "metadata": {
        "colab": {
          "base_uri": "https://localhost:8080/",
          "height": 206
        },
        "id": "M9fz0-4K0WKF",
        "outputId": "ab8a7cef-4d47-4f5e-f2d6-11850ec052fe"
      },
      "execution_count": null,
      "outputs": [
        {
          "output_type": "execute_result",
          "data": {
            "text/plain": [
              "            식당                                                 리뷰   별점\n",
              "0  최배달떡순튀-서수원점  오늘은 기사님이 배달완료 문자를 안주셔서 모르다가 밖에 나가보니 있었습니다. 떡볶이...  4.5\n",
              "1  최배달떡순튀-서수원점                                       탱글탱글한 순대 맛나요  5.0\n",
              "2  최배달떡순튀-서수원점                                        맛있게 잘 먹었습니다  5.0\n",
              "3  최배달떡순튀-서수원점                                  오늘도 맛있게 잘 먹었습니다~~  5.0\n",
              "4  최배달떡순튀-서수원점                           오랜만에 먹어도 맛있네요 많이 파세요~~~~  5.0"
            ],
            "text/html": [
              "<div>\n",
              "<style scoped>\n",
              "    .dataframe tbody tr th:only-of-type {\n",
              "        vertical-align: middle;\n",
              "    }\n",
              "\n",
              "    .dataframe tbody tr th {\n",
              "        vertical-align: top;\n",
              "    }\n",
              "\n",
              "    .dataframe thead th {\n",
              "        text-align: right;\n",
              "    }\n",
              "</style>\n",
              "<table border=\"1\" class=\"dataframe\">\n",
              "  <thead>\n",
              "    <tr style=\"text-align: right;\">\n",
              "      <th></th>\n",
              "      <th>식당</th>\n",
              "      <th>리뷰</th>\n",
              "      <th>별점</th>\n",
              "    </tr>\n",
              "  </thead>\n",
              "  <tbody>\n",
              "    <tr>\n",
              "      <th>0</th>\n",
              "      <td>최배달떡순튀-서수원점</td>\n",
              "      <td>오늘은 기사님이 배달완료 문자를 안주셔서 모르다가 밖에 나가보니 있었습니다. 떡볶이...</td>\n",
              "      <td>4.5</td>\n",
              "    </tr>\n",
              "    <tr>\n",
              "      <th>1</th>\n",
              "      <td>최배달떡순튀-서수원점</td>\n",
              "      <td>탱글탱글한 순대 맛나요</td>\n",
              "      <td>5.0</td>\n",
              "    </tr>\n",
              "    <tr>\n",
              "      <th>2</th>\n",
              "      <td>최배달떡순튀-서수원점</td>\n",
              "      <td>맛있게 잘 먹었습니다</td>\n",
              "      <td>5.0</td>\n",
              "    </tr>\n",
              "    <tr>\n",
              "      <th>3</th>\n",
              "      <td>최배달떡순튀-서수원점</td>\n",
              "      <td>오늘도 맛있게 잘 먹었습니다~~</td>\n",
              "      <td>5.0</td>\n",
              "    </tr>\n",
              "    <tr>\n",
              "      <th>4</th>\n",
              "      <td>최배달떡순튀-서수원점</td>\n",
              "      <td>오랜만에 먹어도 맛있네요 많이 파세요~~~~</td>\n",
              "      <td>5.0</td>\n",
              "    </tr>\n",
              "  </tbody>\n",
              "</table>\n",
              "</div>"
            ]
          },
          "metadata": {},
          "execution_count": 243
        }
      ]
    },
    {
      "cell_type": "code",
      "source": [
        "# 결측값 확인\n",
        "yogiyo.isna().sum()"
      ],
      "metadata": {
        "colab": {
          "base_uri": "https://localhost:8080/"
        },
        "id": "baiJvj7-BmwD",
        "outputId": "5d8f1565-acf3-4001-e9a1-68869a632cc8"
      },
      "execution_count": null,
      "outputs": [
        {
          "output_type": "execute_result",
          "data": {
            "text/plain": [
              "식당    0\n",
              "리뷰    0\n",
              "별점    0\n",
              "dtype: int64"
            ]
          },
          "metadata": {},
          "execution_count": 244
        }
      ]
    },
    {
      "cell_type": "code",
      "source": [
        "# shape 확인\n",
        "yogiyo.shape"
      ],
      "metadata": {
        "colab": {
          "base_uri": "https://localhost:8080/"
        },
        "id": "umfJU5X6BpJh",
        "outputId": "1fae423b-8ab7-4fd3-a303-a68b467b5c15"
      },
      "execution_count": null,
      "outputs": [
        {
          "output_type": "execute_result",
          "data": {
            "text/plain": [
              "(109340, 3)"
            ]
          },
          "metadata": {},
          "execution_count": 245
        }
      ]
    },
    {
      "cell_type": "code",
      "source": [
        "# 합치면 나올 행 수 확인\n",
        "google.shape[0]+yogiyo.shape[0]"
      ],
      "metadata": {
        "colab": {
          "base_uri": "https://localhost:8080/"
        },
        "id": "OaL6ryr4Brlx",
        "outputId": "4740c898-0cf5-490b-8002-0d3121f7b5f9"
      },
      "execution_count": null,
      "outputs": [
        {
          "output_type": "execute_result",
          "data": {
            "text/plain": [
              "146902"
            ]
          },
          "metadata": {},
          "execution_count": 246
        }
      ]
    },
    {
      "cell_type": "code",
      "source": [
        "df = pd.concat([google, yy])\n",
        "df.head()"
      ],
      "metadata": {
        "colab": {
          "base_uri": "https://localhost:8080/",
          "height": 206
        },
        "id": "VspcstSz9R9m",
        "outputId": "b55c2720-197d-46a4-a14b-1b6524d52030"
      },
      "execution_count": null,
      "outputs": [
        {
          "output_type": "execute_result",
          "data": {
            "text/plain": [
              "    식당   별점                                                 리뷰\n",
              "0  정식당  5.0  저의 개인적 취향을 두고 볼 때에는 소스가 전체적으로 오일리하고 무거운 느낌이 있습...\n",
              "1  정식당  5.0  이정도 가격대의 식당을 방문하시는분이라면 식사에 대한 기준이 높을꺼라 생각합니다. ...\n",
              "2  정식당  5.0  맛만 보면 4.5, 모든걸 더하면 5 배를 채우러 가기 보다는 음식이라는 하나의 주...\n",
              "3  정식당  5.0  금액이 좀 비싸지만 미슐렝가이드 레스토랑을 제대로 즐길 수 있어요. 모든 음식은 한...\n",
              "4  정식당  5.0  정말 세상에서 제일 맛있는 음식과 친절한 직원들  파인다이닝인데 큰 기교를 부리기보..."
            ],
            "text/html": [
              "<div>\n",
              "<style scoped>\n",
              "    .dataframe tbody tr th:only-of-type {\n",
              "        vertical-align: middle;\n",
              "    }\n",
              "\n",
              "    .dataframe tbody tr th {\n",
              "        vertical-align: top;\n",
              "    }\n",
              "\n",
              "    .dataframe thead th {\n",
              "        text-align: right;\n",
              "    }\n",
              "</style>\n",
              "<table border=\"1\" class=\"dataframe\">\n",
              "  <thead>\n",
              "    <tr style=\"text-align: right;\">\n",
              "      <th></th>\n",
              "      <th>식당</th>\n",
              "      <th>별점</th>\n",
              "      <th>리뷰</th>\n",
              "    </tr>\n",
              "  </thead>\n",
              "  <tbody>\n",
              "    <tr>\n",
              "      <th>0</th>\n",
              "      <td>정식당</td>\n",
              "      <td>5.0</td>\n",
              "      <td>저의 개인적 취향을 두고 볼 때에는 소스가 전체적으로 오일리하고 무거운 느낌이 있습...</td>\n",
              "    </tr>\n",
              "    <tr>\n",
              "      <th>1</th>\n",
              "      <td>정식당</td>\n",
              "      <td>5.0</td>\n",
              "      <td>이정도 가격대의 식당을 방문하시는분이라면 식사에 대한 기준이 높을꺼라 생각합니다. ...</td>\n",
              "    </tr>\n",
              "    <tr>\n",
              "      <th>2</th>\n",
              "      <td>정식당</td>\n",
              "      <td>5.0</td>\n",
              "      <td>맛만 보면 4.5, 모든걸 더하면 5 배를 채우러 가기 보다는 음식이라는 하나의 주...</td>\n",
              "    </tr>\n",
              "    <tr>\n",
              "      <th>3</th>\n",
              "      <td>정식당</td>\n",
              "      <td>5.0</td>\n",
              "      <td>금액이 좀 비싸지만 미슐렝가이드 레스토랑을 제대로 즐길 수 있어요. 모든 음식은 한...</td>\n",
              "    </tr>\n",
              "    <tr>\n",
              "      <th>4</th>\n",
              "      <td>정식당</td>\n",
              "      <td>5.0</td>\n",
              "      <td>정말 세상에서 제일 맛있는 음식과 친절한 직원들  파인다이닝인데 큰 기교를 부리기보...</td>\n",
              "    </tr>\n",
              "  </tbody>\n",
              "</table>\n",
              "</div>"
            ]
          },
          "metadata": {},
          "execution_count": 247
        }
      ]
    },
    {
      "cell_type": "code",
      "source": [
        "df.shape"
      ],
      "metadata": {
        "colab": {
          "base_uri": "https://localhost:8080/"
        },
        "id": "HjVcGnWE9WyS",
        "outputId": "62ad4179-f758-4a5a-caf3-a8edd3a92bd8"
      },
      "execution_count": null,
      "outputs": [
        {
          "output_type": "execute_result",
          "data": {
            "text/plain": [
              "(146902, 3)"
            ]
          },
          "metadata": {},
          "execution_count": 248
        }
      ]
    },
    {
      "cell_type": "code",
      "source": [
        "df.info()"
      ],
      "metadata": {
        "colab": {
          "base_uri": "https://localhost:8080/"
        },
        "id": "LxrKzrjk9uGt",
        "outputId": "23462e28-9c29-41b6-fee1-8f68644d9407"
      },
      "execution_count": null,
      "outputs": [
        {
          "output_type": "stream",
          "name": "stdout",
          "text": [
            "<class 'pandas.core.frame.DataFrame'>\n",
            "Index: 146902 entries, 0 to 109339\n",
            "Data columns (total 3 columns):\n",
            " #   Column  Non-Null Count   Dtype  \n",
            "---  ------  --------------   -----  \n",
            " 0   식당      146902 non-null  object \n",
            " 1   별점      146902 non-null  float64\n",
            " 2   리뷰      146902 non-null  object \n",
            "dtypes: float64(1), object(2)\n",
            "memory usage: 4.5+ MB\n"
          ]
        }
      ]
    },
    {
      "cell_type": "code",
      "source": [
        "df.isna().sum()"
      ],
      "metadata": {
        "colab": {
          "base_uri": "https://localhost:8080/"
        },
        "id": "uYZbNt7b-EBZ",
        "outputId": "e31d4541-d818-459f-e736-a53f2afc1cde"
      },
      "execution_count": null,
      "outputs": [
        {
          "output_type": "execute_result",
          "data": {
            "text/plain": [
              "식당    0\n",
              "별점    0\n",
              "리뷰    0\n",
              "dtype: int64"
            ]
          },
          "metadata": {},
          "execution_count": 250
        }
      ]
    },
    {
      "cell_type": "code",
      "source": [
        "df.to_csv('pn_df.csv', index=False, encoding='utf-8')"
      ],
      "metadata": {
        "id": "aaM3myWq-jdd"
      },
      "execution_count": null,
      "outputs": []
    },
    {
      "cell_type": "markdown",
      "source": [
        "# 여러 df 한 번에 concat"
      ],
      "metadata": {
        "id": "dgvIY7hR-DEx"
      }
    },
    {
      "cell_type": "code",
      "source": [
        "csv_list = glob.glob('서울/*.csv')\n",
        "csv_list"
      ],
      "metadata": {
        "id": "6z9L3fHcB8-m",
        "colab": {
          "base_uri": "https://localhost:8080/"
        },
        "outputId": "19b3685e-efba-4467-822c-9a0f0e7949f4"
      },
      "execution_count": null,
      "outputs": [
        {
          "output_type": "execute_result",
          "data": {
            "text/plain": [
              "['서울\\\\광진구.csv',\n",
              " '서울\\\\동대문구.csv',\n",
              " '서울\\\\성동구.csv',\n",
              " '서울\\\\송파구.csv',\n",
              " '서울\\\\용산구.csv',\n",
              " '서울\\\\종로구.csv',\n",
              " '서울\\\\중구.csv']"
            ]
          },
          "metadata": {},
          "execution_count": 5
        }
      ]
    },
    {
      "cell_type": "code",
      "source": [
        "cnt = 0\n",
        "for csv in csv_list:\n",
        "  df = pd.read_csv(csv)\n",
        "  cnt += df.shape[0]\n",
        "print(cnt)"
      ],
      "metadata": {
        "colab": {
          "base_uri": "https://localhost:8080/"
        },
        "id": "T6lnyrsA6amo",
        "outputId": "99b1176d-9314-4789-e900-9fa03325114d"
      },
      "execution_count": null,
      "outputs": [
        {
          "output_type": "stream",
          "name": "stdout",
          "text": [
            "107119\n"
          ]
        }
      ]
    },
    {
      "cell_type": "code",
      "source": [
        "df = pd.read_csv('서울/용산구.csv', usecols=['store_name', 'taste_point', 'quantity_point', 'review_text'])\n",
        "df.head()"
      ],
      "metadata": {
        "colab": {
          "base_uri": "https://localhost:8080/",
          "height": 206
        },
        "id": "BwncfhH66wr2",
        "outputId": "1f9d3b0e-38d5-480c-f96d-eee2d9e7d161"
      },
      "execution_count": null,
      "outputs": [
        {
          "output_type": "execute_result",
          "data": {
            "text/plain": [
              "   store_name  taste_point  quantity_point  \\\n",
              "0  또래오래-송파문정점            5               5   \n",
              "1  또래오래-송파문정점            5               5   \n",
              "2  또래오래-송파문정점            5               5   \n",
              "3  또래오래-송파문정점            5               5   \n",
              "4  또래오래-송파문정점            5               5   \n",
              "\n",
              "                                         review_text  \n",
              "0                                         😄😁😄😁😄😁😄😁😄😁  \n",
              "1                            역시 맛있어요 휴가 갔다오고 바로 먹었네용  \n",
              "2                                        잘먹었습니다!~~~~  \n",
              "3                                    맛있게잘먹었습니다!!!!!!  \n",
              "4  왠만하면 리뷰안쓰는데 진짜 개맛있어요 다만 혼자 먹기엔 떡이 너무 많은데 떡보단 김...  "
            ],
            "text/html": [
              "<div>\n",
              "<style scoped>\n",
              "    .dataframe tbody tr th:only-of-type {\n",
              "        vertical-align: middle;\n",
              "    }\n",
              "\n",
              "    .dataframe tbody tr th {\n",
              "        vertical-align: top;\n",
              "    }\n",
              "\n",
              "    .dataframe thead th {\n",
              "        text-align: right;\n",
              "    }\n",
              "</style>\n",
              "<table border=\"1\" class=\"dataframe\">\n",
              "  <thead>\n",
              "    <tr style=\"text-align: right;\">\n",
              "      <th></th>\n",
              "      <th>store_name</th>\n",
              "      <th>taste_point</th>\n",
              "      <th>quantity_point</th>\n",
              "      <th>review_text</th>\n",
              "    </tr>\n",
              "  </thead>\n",
              "  <tbody>\n",
              "    <tr>\n",
              "      <th>0</th>\n",
              "      <td>또래오래-송파문정점</td>\n",
              "      <td>5</td>\n",
              "      <td>5</td>\n",
              "      <td>😄😁😄😁😄😁😄😁😄😁</td>\n",
              "    </tr>\n",
              "    <tr>\n",
              "      <th>1</th>\n",
              "      <td>또래오래-송파문정점</td>\n",
              "      <td>5</td>\n",
              "      <td>5</td>\n",
              "      <td>역시 맛있어요 휴가 갔다오고 바로 먹었네용</td>\n",
              "    </tr>\n",
              "    <tr>\n",
              "      <th>2</th>\n",
              "      <td>또래오래-송파문정점</td>\n",
              "      <td>5</td>\n",
              "      <td>5</td>\n",
              "      <td>잘먹었습니다!~~~~</td>\n",
              "    </tr>\n",
              "    <tr>\n",
              "      <th>3</th>\n",
              "      <td>또래오래-송파문정점</td>\n",
              "      <td>5</td>\n",
              "      <td>5</td>\n",
              "      <td>맛있게잘먹었습니다!!!!!!</td>\n",
              "    </tr>\n",
              "    <tr>\n",
              "      <th>4</th>\n",
              "      <td>또래오래-송파문정점</td>\n",
              "      <td>5</td>\n",
              "      <td>5</td>\n",
              "      <td>왠만하면 리뷰안쓰는데 진짜 개맛있어요 다만 혼자 먹기엔 떡이 너무 많은데 떡보단 김...</td>\n",
              "    </tr>\n",
              "  </tbody>\n",
              "</table>\n",
              "</div>"
            ]
          },
          "metadata": {},
          "execution_count": 50
        }
      ]
    },
    {
      "cell_type": "code",
      "source": [
        "df.shape"
      ],
      "metadata": {
        "colab": {
          "base_uri": "https://localhost:8080/"
        },
        "id": "gUOFAZ9D8ixv",
        "outputId": "b64de177-83ad-4cbf-b6d8-a506c64f7278"
      },
      "execution_count": null,
      "outputs": [
        {
          "output_type": "execute_result",
          "data": {
            "text/plain": [
              "(14650, 4)"
            ]
          },
          "metadata": {},
          "execution_count": 51
        }
      ]
    },
    {
      "cell_type": "code",
      "source": [
        "# 결측값\n",
        "df.isna().sum()"
      ],
      "metadata": {
        "colab": {
          "base_uri": "https://localhost:8080/"
        },
        "id": "e0MdL8nz7Cnt",
        "outputId": "d14e09ad-ddf7-4244-b15f-ffb3e73722a6"
      },
      "execution_count": null,
      "outputs": [
        {
          "output_type": "execute_result",
          "data": {
            "text/plain": [
              "store_name        0\n",
              "taste_point       0\n",
              "quantity_point    0\n",
              "review_text       0\n",
              "dtype: int64"
            ]
          },
          "metadata": {},
          "execution_count": 52
        }
      ]
    },
    {
      "cell_type": "code",
      "source": [
        "# 별점 평균\n",
        "df['별점'] = (df['taste_point']+df['quantity_point'])/2\n",
        "df.head()"
      ],
      "metadata": {
        "colab": {
          "base_uri": "https://localhost:8080/",
          "height": 206
        },
        "id": "qEqz4N0s7NpA",
        "outputId": "a8fc06a1-285e-4960-c1f1-86fe36041d72"
      },
      "execution_count": null,
      "outputs": [
        {
          "output_type": "execute_result",
          "data": {
            "text/plain": [
              "   store_name  taste_point  quantity_point  \\\n",
              "0  또래오래-송파문정점            5               5   \n",
              "1  또래오래-송파문정점            5               5   \n",
              "2  또래오래-송파문정점            5               5   \n",
              "3  또래오래-송파문정점            5               5   \n",
              "4  또래오래-송파문정점            5               5   \n",
              "\n",
              "                                         review_text   별점  \n",
              "0                                         😄😁😄😁😄😁😄😁😄😁  5.0  \n",
              "1                            역시 맛있어요 휴가 갔다오고 바로 먹었네용  5.0  \n",
              "2                                        잘먹었습니다!~~~~  5.0  \n",
              "3                                    맛있게잘먹었습니다!!!!!!  5.0  \n",
              "4  왠만하면 리뷰안쓰는데 진짜 개맛있어요 다만 혼자 먹기엔 떡이 너무 많은데 떡보단 김...  5.0  "
            ],
            "text/html": [
              "<div>\n",
              "<style scoped>\n",
              "    .dataframe tbody tr th:only-of-type {\n",
              "        vertical-align: middle;\n",
              "    }\n",
              "\n",
              "    .dataframe tbody tr th {\n",
              "        vertical-align: top;\n",
              "    }\n",
              "\n",
              "    .dataframe thead th {\n",
              "        text-align: right;\n",
              "    }\n",
              "</style>\n",
              "<table border=\"1\" class=\"dataframe\">\n",
              "  <thead>\n",
              "    <tr style=\"text-align: right;\">\n",
              "      <th></th>\n",
              "      <th>store_name</th>\n",
              "      <th>taste_point</th>\n",
              "      <th>quantity_point</th>\n",
              "      <th>review_text</th>\n",
              "      <th>별점</th>\n",
              "    </tr>\n",
              "  </thead>\n",
              "  <tbody>\n",
              "    <tr>\n",
              "      <th>0</th>\n",
              "      <td>또래오래-송파문정점</td>\n",
              "      <td>5</td>\n",
              "      <td>5</td>\n",
              "      <td>😄😁😄😁😄😁😄😁😄😁</td>\n",
              "      <td>5.0</td>\n",
              "    </tr>\n",
              "    <tr>\n",
              "      <th>1</th>\n",
              "      <td>또래오래-송파문정점</td>\n",
              "      <td>5</td>\n",
              "      <td>5</td>\n",
              "      <td>역시 맛있어요 휴가 갔다오고 바로 먹었네용</td>\n",
              "      <td>5.0</td>\n",
              "    </tr>\n",
              "    <tr>\n",
              "      <th>2</th>\n",
              "      <td>또래오래-송파문정점</td>\n",
              "      <td>5</td>\n",
              "      <td>5</td>\n",
              "      <td>잘먹었습니다!~~~~</td>\n",
              "      <td>5.0</td>\n",
              "    </tr>\n",
              "    <tr>\n",
              "      <th>3</th>\n",
              "      <td>또래오래-송파문정점</td>\n",
              "      <td>5</td>\n",
              "      <td>5</td>\n",
              "      <td>맛있게잘먹었습니다!!!!!!</td>\n",
              "      <td>5.0</td>\n",
              "    </tr>\n",
              "    <tr>\n",
              "      <th>4</th>\n",
              "      <td>또래오래-송파문정점</td>\n",
              "      <td>5</td>\n",
              "      <td>5</td>\n",
              "      <td>왠만하면 리뷰안쓰는데 진짜 개맛있어요 다만 혼자 먹기엔 떡이 너무 많은데 떡보단 김...</td>\n",
              "      <td>5.0</td>\n",
              "    </tr>\n",
              "  </tbody>\n",
              "</table>\n",
              "</div>"
            ]
          },
          "metadata": {},
          "execution_count": 14
        }
      ]
    },
    {
      "cell_type": "code",
      "source": [
        "# 컬럼 이름 재정의\n",
        "df.rename(columns={'store_name':'식당', 'review_text':'리뷰'}, inplace=True)\n",
        "df.head()"
      ],
      "metadata": {
        "colab": {
          "base_uri": "https://localhost:8080/",
          "height": 206
        },
        "id": "VWMk2mcP7eMD",
        "outputId": "74afd176-84ba-40c9-c095-6705ea085835"
      },
      "execution_count": null,
      "outputs": [
        {
          "output_type": "execute_result",
          "data": {
            "text/plain": [
              "           식당  taste_point  quantity_point  \\\n",
              "0  또래오래-송파문정점            5               5   \n",
              "1  또래오래-송파문정점            5               5   \n",
              "2  또래오래-송파문정점            5               5   \n",
              "3  또래오래-송파문정점            5               5   \n",
              "4  또래오래-송파문정점            5               5   \n",
              "\n",
              "                                                  리뷰   별점  \n",
              "0                                         😄😁😄😁😄😁😄😁😄😁  5.0  \n",
              "1                            역시 맛있어요 휴가 갔다오고 바로 먹었네용  5.0  \n",
              "2                                        잘먹었습니다!~~~~  5.0  \n",
              "3                                    맛있게잘먹었습니다!!!!!!  5.0  \n",
              "4  왠만하면 리뷰안쓰는데 진짜 개맛있어요 다만 혼자 먹기엔 떡이 너무 많은데 떡보단 김...  5.0  "
            ],
            "text/html": [
              "<div>\n",
              "<style scoped>\n",
              "    .dataframe tbody tr th:only-of-type {\n",
              "        vertical-align: middle;\n",
              "    }\n",
              "\n",
              "    .dataframe tbody tr th {\n",
              "        vertical-align: top;\n",
              "    }\n",
              "\n",
              "    .dataframe thead th {\n",
              "        text-align: right;\n",
              "    }\n",
              "</style>\n",
              "<table border=\"1\" class=\"dataframe\">\n",
              "  <thead>\n",
              "    <tr style=\"text-align: right;\">\n",
              "      <th></th>\n",
              "      <th>식당</th>\n",
              "      <th>taste_point</th>\n",
              "      <th>quantity_point</th>\n",
              "      <th>리뷰</th>\n",
              "      <th>별점</th>\n",
              "    </tr>\n",
              "  </thead>\n",
              "  <tbody>\n",
              "    <tr>\n",
              "      <th>0</th>\n",
              "      <td>또래오래-송파문정점</td>\n",
              "      <td>5</td>\n",
              "      <td>5</td>\n",
              "      <td>😄😁😄😁😄😁😄😁😄😁</td>\n",
              "      <td>5.0</td>\n",
              "    </tr>\n",
              "    <tr>\n",
              "      <th>1</th>\n",
              "      <td>또래오래-송파문정점</td>\n",
              "      <td>5</td>\n",
              "      <td>5</td>\n",
              "      <td>역시 맛있어요 휴가 갔다오고 바로 먹었네용</td>\n",
              "      <td>5.0</td>\n",
              "    </tr>\n",
              "    <tr>\n",
              "      <th>2</th>\n",
              "      <td>또래오래-송파문정점</td>\n",
              "      <td>5</td>\n",
              "      <td>5</td>\n",
              "      <td>잘먹었습니다!~~~~</td>\n",
              "      <td>5.0</td>\n",
              "    </tr>\n",
              "    <tr>\n",
              "      <th>3</th>\n",
              "      <td>또래오래-송파문정점</td>\n",
              "      <td>5</td>\n",
              "      <td>5</td>\n",
              "      <td>맛있게잘먹었습니다!!!!!!</td>\n",
              "      <td>5.0</td>\n",
              "    </tr>\n",
              "    <tr>\n",
              "      <th>4</th>\n",
              "      <td>또래오래-송파문정점</td>\n",
              "      <td>5</td>\n",
              "      <td>5</td>\n",
              "      <td>왠만하면 리뷰안쓰는데 진짜 개맛있어요 다만 혼자 먹기엔 떡이 너무 많은데 떡보단 김...</td>\n",
              "      <td>5.0</td>\n",
              "    </tr>\n",
              "  </tbody>\n",
              "</table>\n",
              "</div>"
            ]
          },
          "metadata": {},
          "execution_count": 17
        }
      ]
    },
    {
      "cell_type": "code",
      "source": [
        "# 사용하는 컬럼만\n",
        "df.drop(axis=1, columns=['taste_point', 'quantity_point'], inplace=True)\n",
        "df.head()"
      ],
      "metadata": {
        "colab": {
          "base_uri": "https://localhost:8080/",
          "height": 206
        },
        "id": "sFz2wWqT7oM2",
        "outputId": "cf010815-d50b-4128-8a73-72d22631d98b"
      },
      "execution_count": null,
      "outputs": [
        {
          "output_type": "execute_result",
          "data": {
            "text/plain": [
              "           식당                                                 리뷰   별점\n",
              "0  또래오래-송파문정점                                         😄😁😄😁😄😁😄😁😄😁  5.0\n",
              "1  또래오래-송파문정점                            역시 맛있어요 휴가 갔다오고 바로 먹었네용  5.0\n",
              "2  또래오래-송파문정점                                        잘먹었습니다!~~~~  5.0\n",
              "3  또래오래-송파문정점                                    맛있게잘먹었습니다!!!!!!  5.0\n",
              "4  또래오래-송파문정점  왠만하면 리뷰안쓰는데 진짜 개맛있어요 다만 혼자 먹기엔 떡이 너무 많은데 떡보단 김...  5.0"
            ],
            "text/html": [
              "<div>\n",
              "<style scoped>\n",
              "    .dataframe tbody tr th:only-of-type {\n",
              "        vertical-align: middle;\n",
              "    }\n",
              "\n",
              "    .dataframe tbody tr th {\n",
              "        vertical-align: top;\n",
              "    }\n",
              "\n",
              "    .dataframe thead th {\n",
              "        text-align: right;\n",
              "    }\n",
              "</style>\n",
              "<table border=\"1\" class=\"dataframe\">\n",
              "  <thead>\n",
              "    <tr style=\"text-align: right;\">\n",
              "      <th></th>\n",
              "      <th>식당</th>\n",
              "      <th>리뷰</th>\n",
              "      <th>별점</th>\n",
              "    </tr>\n",
              "  </thead>\n",
              "  <tbody>\n",
              "    <tr>\n",
              "      <th>0</th>\n",
              "      <td>또래오래-송파문정점</td>\n",
              "      <td>😄😁😄😁😄😁😄😁😄😁</td>\n",
              "      <td>5.0</td>\n",
              "    </tr>\n",
              "    <tr>\n",
              "      <th>1</th>\n",
              "      <td>또래오래-송파문정점</td>\n",
              "      <td>역시 맛있어요 휴가 갔다오고 바로 먹었네용</td>\n",
              "      <td>5.0</td>\n",
              "    </tr>\n",
              "    <tr>\n",
              "      <th>2</th>\n",
              "      <td>또래오래-송파문정점</td>\n",
              "      <td>잘먹었습니다!~~~~</td>\n",
              "      <td>5.0</td>\n",
              "    </tr>\n",
              "    <tr>\n",
              "      <th>3</th>\n",
              "      <td>또래오래-송파문정점</td>\n",
              "      <td>맛있게잘먹었습니다!!!!!!</td>\n",
              "      <td>5.0</td>\n",
              "    </tr>\n",
              "    <tr>\n",
              "      <th>4</th>\n",
              "      <td>또래오래-송파문정점</td>\n",
              "      <td>왠만하면 리뷰안쓰는데 진짜 개맛있어요 다만 혼자 먹기엔 떡이 너무 많은데 떡보단 김...</td>\n",
              "      <td>5.0</td>\n",
              "    </tr>\n",
              "  </tbody>\n",
              "</table>\n",
              "</div>"
            ]
          },
          "metadata": {},
          "execution_count": 21
        }
      ]
    },
    {
      "cell_type": "code",
      "source": [
        "# 이모지 제거\n",
        "def preprocessing(text):\n",
        "    text = re.sub(r'[^ .,?!/@$%~％·∼()\\x00-\\x7Fㄱ-ㅣ가-힣]+', '', text)\n",
        "    text = re.sub(r'[\\n]+', ' ', text)\n",
        "    return text\n",
        "\n",
        "df['리뷰'] = df['리뷰'].map(preprocessing)\n",
        "df.head()"
      ],
      "metadata": {
        "colab": {
          "base_uri": "https://localhost:8080/",
          "height": 206
        },
        "id": "t8IwmkEE7_z-",
        "outputId": "20a88159-e8bc-4565-986e-211f50d549c6"
      },
      "execution_count": null,
      "outputs": [
        {
          "output_type": "execute_result",
          "data": {
            "text/plain": [
              "           식당                                                 리뷰   별점\n",
              "0  또래오래-송파문정점                                                     5.0\n",
              "1  또래오래-송파문정점                            역시 맛있어요 휴가 갔다오고 바로 먹었네용  5.0\n",
              "2  또래오래-송파문정점                                        잘먹었습니다!~~~~  5.0\n",
              "3  또래오래-송파문정점                                    맛있게잘먹었습니다!!!!!!  5.0\n",
              "4  또래오래-송파문정점  왠만하면 리뷰안쓰는데 진짜 개맛있어요 다만 혼자 먹기엔 떡이 너무 많은데 떡보단 김...  5.0"
            ],
            "text/html": [
              "<div>\n",
              "<style scoped>\n",
              "    .dataframe tbody tr th:only-of-type {\n",
              "        vertical-align: middle;\n",
              "    }\n",
              "\n",
              "    .dataframe tbody tr th {\n",
              "        vertical-align: top;\n",
              "    }\n",
              "\n",
              "    .dataframe thead th {\n",
              "        text-align: right;\n",
              "    }\n",
              "</style>\n",
              "<table border=\"1\" class=\"dataframe\">\n",
              "  <thead>\n",
              "    <tr style=\"text-align: right;\">\n",
              "      <th></th>\n",
              "      <th>식당</th>\n",
              "      <th>리뷰</th>\n",
              "      <th>별점</th>\n",
              "    </tr>\n",
              "  </thead>\n",
              "  <tbody>\n",
              "    <tr>\n",
              "      <th>0</th>\n",
              "      <td>또래오래-송파문정점</td>\n",
              "      <td></td>\n",
              "      <td>5.0</td>\n",
              "    </tr>\n",
              "    <tr>\n",
              "      <th>1</th>\n",
              "      <td>또래오래-송파문정점</td>\n",
              "      <td>역시 맛있어요 휴가 갔다오고 바로 먹었네용</td>\n",
              "      <td>5.0</td>\n",
              "    </tr>\n",
              "    <tr>\n",
              "      <th>2</th>\n",
              "      <td>또래오래-송파문정점</td>\n",
              "      <td>잘먹었습니다!~~~~</td>\n",
              "      <td>5.0</td>\n",
              "    </tr>\n",
              "    <tr>\n",
              "      <th>3</th>\n",
              "      <td>또래오래-송파문정점</td>\n",
              "      <td>맛있게잘먹었습니다!!!!!!</td>\n",
              "      <td>5.0</td>\n",
              "    </tr>\n",
              "    <tr>\n",
              "      <th>4</th>\n",
              "      <td>또래오래-송파문정점</td>\n",
              "      <td>왠만하면 리뷰안쓰는데 진짜 개맛있어요 다만 혼자 먹기엔 떡이 너무 많은데 떡보단 김...</td>\n",
              "      <td>5.0</td>\n",
              "    </tr>\n",
              "  </tbody>\n",
              "</table>\n",
              "</div>"
            ]
          },
          "metadata": {},
          "execution_count": 23
        }
      ]
    },
    {
      "cell_type": "code",
      "source": [
        "# 이모지 제거 후 빈 문자열 확인\n",
        "df[df['리뷰']=='']"
      ],
      "metadata": {
        "colab": {
          "base_uri": "https://localhost:8080/",
          "height": 424
        },
        "id": "wy64e3yL8QH8",
        "outputId": "133df5d0-c85a-46f7-e772-22bee0097378"
      },
      "execution_count": null,
      "outputs": [
        {
          "output_type": "execute_result",
          "data": {
            "text/plain": [
              "                  식당 리뷰   별점\n",
              "0         또래오래-송파문정점     5.0\n",
              "326    지코바치킨-서울송파1호점     5.0\n",
              "357    지코바치킨-서울송파1호점     5.0\n",
              "542      피자엠소마-오금거여점     5.0\n",
              "1162     피자엠소마-오금거여점     5.0\n",
              "...              ... ..  ...\n",
              "19889       번쩍피자-강남점     5.0\n",
              "20288       번쩍피자-강남점     5.0\n",
              "20342       번쩍피자-강남점     5.0\n",
              "20426       번쩍피자-강남점     5.0\n",
              "20455       번쩍피자-강남점     5.0\n",
              "\n",
              "[123 rows x 3 columns]"
            ],
            "text/html": [
              "<div>\n",
              "<style scoped>\n",
              "    .dataframe tbody tr th:only-of-type {\n",
              "        vertical-align: middle;\n",
              "    }\n",
              "\n",
              "    .dataframe tbody tr th {\n",
              "        vertical-align: top;\n",
              "    }\n",
              "\n",
              "    .dataframe thead th {\n",
              "        text-align: right;\n",
              "    }\n",
              "</style>\n",
              "<table border=\"1\" class=\"dataframe\">\n",
              "  <thead>\n",
              "    <tr style=\"text-align: right;\">\n",
              "      <th></th>\n",
              "      <th>식당</th>\n",
              "      <th>리뷰</th>\n",
              "      <th>별점</th>\n",
              "    </tr>\n",
              "  </thead>\n",
              "  <tbody>\n",
              "    <tr>\n",
              "      <th>0</th>\n",
              "      <td>또래오래-송파문정점</td>\n",
              "      <td></td>\n",
              "      <td>5.0</td>\n",
              "    </tr>\n",
              "    <tr>\n",
              "      <th>326</th>\n",
              "      <td>지코바치킨-서울송파1호점</td>\n",
              "      <td></td>\n",
              "      <td>5.0</td>\n",
              "    </tr>\n",
              "    <tr>\n",
              "      <th>357</th>\n",
              "      <td>지코바치킨-서울송파1호점</td>\n",
              "      <td></td>\n",
              "      <td>5.0</td>\n",
              "    </tr>\n",
              "    <tr>\n",
              "      <th>542</th>\n",
              "      <td>피자엠소마-오금거여점</td>\n",
              "      <td></td>\n",
              "      <td>5.0</td>\n",
              "    </tr>\n",
              "    <tr>\n",
              "      <th>1162</th>\n",
              "      <td>피자엠소마-오금거여점</td>\n",
              "      <td></td>\n",
              "      <td>5.0</td>\n",
              "    </tr>\n",
              "    <tr>\n",
              "      <th>...</th>\n",
              "      <td>...</td>\n",
              "      <td>...</td>\n",
              "      <td>...</td>\n",
              "    </tr>\n",
              "    <tr>\n",
              "      <th>19889</th>\n",
              "      <td>번쩍피자-강남점</td>\n",
              "      <td></td>\n",
              "      <td>5.0</td>\n",
              "    </tr>\n",
              "    <tr>\n",
              "      <th>20288</th>\n",
              "      <td>번쩍피자-강남점</td>\n",
              "      <td></td>\n",
              "      <td>5.0</td>\n",
              "    </tr>\n",
              "    <tr>\n",
              "      <th>20342</th>\n",
              "      <td>번쩍피자-강남점</td>\n",
              "      <td></td>\n",
              "      <td>5.0</td>\n",
              "    </tr>\n",
              "    <tr>\n",
              "      <th>20426</th>\n",
              "      <td>번쩍피자-강남점</td>\n",
              "      <td></td>\n",
              "      <td>5.0</td>\n",
              "    </tr>\n",
              "    <tr>\n",
              "      <th>20455</th>\n",
              "      <td>번쩍피자-강남점</td>\n",
              "      <td></td>\n",
              "      <td>5.0</td>\n",
              "    </tr>\n",
              "  </tbody>\n",
              "</table>\n",
              "<p>123 rows × 3 columns</p>\n",
              "</div>"
            ]
          },
          "metadata": {},
          "execution_count": 25
        }
      ]
    },
    {
      "cell_type": "code",
      "source": [
        "new_df = df[df['리뷰']!='']\n",
        "new_df.head()"
      ],
      "metadata": {
        "colab": {
          "base_uri": "https://localhost:8080/",
          "height": 206
        },
        "id": "_EvUVKzr8Wxr",
        "outputId": "0d31f95c-a1e6-4472-b0bb-776d34e31732"
      },
      "execution_count": null,
      "outputs": [
        {
          "output_type": "execute_result",
          "data": {
            "text/plain": [
              "           식당                                                 리뷰   별점\n",
              "1  또래오래-송파문정점                            역시 맛있어요 휴가 갔다오고 바로 먹었네용  5.0\n",
              "2  또래오래-송파문정점                                        잘먹었습니다!~~~~  5.0\n",
              "3  또래오래-송파문정점                                    맛있게잘먹었습니다!!!!!!  5.0\n",
              "4  또래오래-송파문정점  왠만하면 리뷰안쓰는데 진짜 개맛있어요 다만 혼자 먹기엔 떡이 너무 많은데 떡보단 김...  5.0\n",
              "5  또래오래-송파문정점  치킨배달왔다해서 나가보니까 치킨이없어서 황당한데 배달기사님은 전화도 안받으시고 가게...  5.0"
            ],
            "text/html": [
              "<div>\n",
              "<style scoped>\n",
              "    .dataframe tbody tr th:only-of-type {\n",
              "        vertical-align: middle;\n",
              "    }\n",
              "\n",
              "    .dataframe tbody tr th {\n",
              "        vertical-align: top;\n",
              "    }\n",
              "\n",
              "    .dataframe thead th {\n",
              "        text-align: right;\n",
              "    }\n",
              "</style>\n",
              "<table border=\"1\" class=\"dataframe\">\n",
              "  <thead>\n",
              "    <tr style=\"text-align: right;\">\n",
              "      <th></th>\n",
              "      <th>식당</th>\n",
              "      <th>리뷰</th>\n",
              "      <th>별점</th>\n",
              "    </tr>\n",
              "  </thead>\n",
              "  <tbody>\n",
              "    <tr>\n",
              "      <th>1</th>\n",
              "      <td>또래오래-송파문정점</td>\n",
              "      <td>역시 맛있어요 휴가 갔다오고 바로 먹었네용</td>\n",
              "      <td>5.0</td>\n",
              "    </tr>\n",
              "    <tr>\n",
              "      <th>2</th>\n",
              "      <td>또래오래-송파문정점</td>\n",
              "      <td>잘먹었습니다!~~~~</td>\n",
              "      <td>5.0</td>\n",
              "    </tr>\n",
              "    <tr>\n",
              "      <th>3</th>\n",
              "      <td>또래오래-송파문정점</td>\n",
              "      <td>맛있게잘먹었습니다!!!!!!</td>\n",
              "      <td>5.0</td>\n",
              "    </tr>\n",
              "    <tr>\n",
              "      <th>4</th>\n",
              "      <td>또래오래-송파문정점</td>\n",
              "      <td>왠만하면 리뷰안쓰는데 진짜 개맛있어요 다만 혼자 먹기엔 떡이 너무 많은데 떡보단 김...</td>\n",
              "      <td>5.0</td>\n",
              "    </tr>\n",
              "    <tr>\n",
              "      <th>5</th>\n",
              "      <td>또래오래-송파문정점</td>\n",
              "      <td>치킨배달왔다해서 나가보니까 치킨이없어서 황당한데 배달기사님은 전화도 안받으시고 가게...</td>\n",
              "      <td>5.0</td>\n",
              "    </tr>\n",
              "  </tbody>\n",
              "</table>\n",
              "</div>"
            ]
          },
          "metadata": {},
          "execution_count": 29
        }
      ]
    },
    {
      "cell_type": "code",
      "source": [
        "# re.search(r'/([가-힣]+).', '서울/광진구.csv').group(1)"
      ],
      "metadata": {
        "colab": {
          "base_uri": "https://localhost:8080/"
        },
        "id": "Mj6RqJ6u8gTm",
        "outputId": "340f9f7b-db18-4d17-9caf-d3ec4c6956af"
      },
      "execution_count": null,
      "outputs": [
        {
          "output_type": "execute_result",
          "data": {
            "text/plain": [
              "'광진구'"
            ]
          },
          "metadata": {},
          "execution_count": 41
        }
      ]
    },
    {
      "cell_type": "markdown",
      "source": [
        "# concat 전 저장"
      ],
      "metadata": {
        "id": "q5h30mAx-bnw"
      }
    },
    {
      "cell_type": "code",
      "source": [
        "# 이모지 제거\n",
        "def preprocessing(text):\n",
        "    text = re.sub(r'[^ .,?!/@$%~％·∼()\\x00-\\x7Fㄱ-ㅣ가-힣]+', '', text) # 이모지 제거\n",
        "    text = re.sub(r'[\\n]+', ' ', text) # 줄바꿈 제거\n",
        "    text = re.sub(r'^[\\s]+$', '', text) # 빈 문자열 제거\n",
        "    return text\n",
        "\n",
        "for csv in glob.glob('서울/*.csv'):\n",
        "  df = pd.read_csv(csv, usecols=['store_name', 'taste_point', 'quantity_point', 'review_text'])\n",
        "  df.dropna(axis=0, inplace=True)\n",
        "  df['별점'] = (df['taste_point']+df['quantity_point'])/2 # 별점 평균\n",
        "  df.rename(columns={'store_name':'식당', 'review_text':'리뷰'}, inplace=True) # 컬럼 이름 재정의\n",
        "  df.drop(axis=1, columns=['taste_point', 'quantity_point'], inplace=True) # 사용하는 컬럼만\n",
        "  df['리뷰'] = df['리뷰'].map(preprocessing)\n",
        "  new_df = df[df['리뷰']!='']\n",
        "  new_df.to_csv(csv, index=False, encoding='utf-8')"
      ],
      "metadata": {
        "id": "lE2NlmDd-c_7"
      },
      "execution_count": null,
      "outputs": []
    },
    {
      "cell_type": "markdown",
      "source": [
        "# concat"
      ],
      "metadata": {
        "id": "Ip_K7UQS-sWA"
      }
    },
    {
      "cell_type": "code",
      "source": [
        "glob.glob('서울/*.csv')"
      ],
      "metadata": {
        "colab": {
          "base_uri": "https://localhost:8080/"
        },
        "id": "2N8peX8nCesf",
        "outputId": "2e522053-8241-47e7-94e7-5c343bb30755"
      },
      "execution_count": null,
      "outputs": [
        {
          "output_type": "execute_result",
          "data": {
            "text/plain": [
              "['서울\\\\광진구.csv',\n",
              " '서울\\\\동대문구.csv',\n",
              " '서울\\\\성동구.csv',\n",
              " '서울\\\\송파구.csv',\n",
              " '서울\\\\용산구.csv',\n",
              " '서울\\\\종로구.csv',\n",
              " '서울\\\\중구.csv']"
            ]
          },
          "metadata": {},
          "execution_count": 80
        }
      ]
    },
    {
      "cell_type": "code",
      "source": [
        "concat_seoul = pd.concat([pd.read_csv(csv) for csv in glob.glob('서울/*.csv')])"
      ],
      "metadata": {
        "id": "E7_sDylj-x7q"
      },
      "execution_count": null,
      "outputs": []
    },
    {
      "cell_type": "code",
      "source": [
        "concat_seoul.head()"
      ],
      "metadata": {
        "colab": {
          "base_uri": "https://localhost:8080/",
          "height": 206
        },
        "id": "Z28aNCQn-5kB",
        "outputId": "005cabc2-ea71-412b-b509-9bdb18d79d21"
      },
      "execution_count": null,
      "outputs": [
        {
          "output_type": "execute_result",
          "data": {
            "text/plain": [
              "           식당                                                 리뷰   별점\n",
              "0  또래오래-송파문정점                            역시 맛있어요 휴가 갔다오고 바로 먹었네용  5.0\n",
              "1  또래오래-송파문정점                                        잘먹었습니다!~~~~  5.0\n",
              "2  또래오래-송파문정점                                    맛있게잘먹었습니다!!!!!!  5.0\n",
              "3  또래오래-송파문정점  왠만하면 리뷰안쓰는데 진짜 개맛있어요 다만 혼자 먹기엔 떡이 너무 많은데 떡보단 김...  5.0\n",
              "4  또래오래-송파문정점  치킨배달왔다해서 나가보니까 치킨이없어서 황당한데 배달기사님은 전화도 안받으시고 가게...  5.0"
            ],
            "text/html": [
              "<div>\n",
              "<style scoped>\n",
              "    .dataframe tbody tr th:only-of-type {\n",
              "        vertical-align: middle;\n",
              "    }\n",
              "\n",
              "    .dataframe tbody tr th {\n",
              "        vertical-align: top;\n",
              "    }\n",
              "\n",
              "    .dataframe thead th {\n",
              "        text-align: right;\n",
              "    }\n",
              "</style>\n",
              "<table border=\"1\" class=\"dataframe\">\n",
              "  <thead>\n",
              "    <tr style=\"text-align: right;\">\n",
              "      <th></th>\n",
              "      <th>식당</th>\n",
              "      <th>리뷰</th>\n",
              "      <th>별점</th>\n",
              "    </tr>\n",
              "  </thead>\n",
              "  <tbody>\n",
              "    <tr>\n",
              "      <th>0</th>\n",
              "      <td>또래오래-송파문정점</td>\n",
              "      <td>역시 맛있어요 휴가 갔다오고 바로 먹었네용</td>\n",
              "      <td>5.0</td>\n",
              "    </tr>\n",
              "    <tr>\n",
              "      <th>1</th>\n",
              "      <td>또래오래-송파문정점</td>\n",
              "      <td>잘먹었습니다!~~~~</td>\n",
              "      <td>5.0</td>\n",
              "    </tr>\n",
              "    <tr>\n",
              "      <th>2</th>\n",
              "      <td>또래오래-송파문정점</td>\n",
              "      <td>맛있게잘먹었습니다!!!!!!</td>\n",
              "      <td>5.0</td>\n",
              "    </tr>\n",
              "    <tr>\n",
              "      <th>3</th>\n",
              "      <td>또래오래-송파문정점</td>\n",
              "      <td>왠만하면 리뷰안쓰는데 진짜 개맛있어요 다만 혼자 먹기엔 떡이 너무 많은데 떡보단 김...</td>\n",
              "      <td>5.0</td>\n",
              "    </tr>\n",
              "    <tr>\n",
              "      <th>4</th>\n",
              "      <td>또래오래-송파문정점</td>\n",
              "      <td>치킨배달왔다해서 나가보니까 치킨이없어서 황당한데 배달기사님은 전화도 안받으시고 가게...</td>\n",
              "      <td>5.0</td>\n",
              "    </tr>\n",
              "  </tbody>\n",
              "</table>\n",
              "</div>"
            ]
          },
          "metadata": {},
          "execution_count": 79
        }
      ]
    },
    {
      "cell_type": "code",
      "source": [
        "concat_seoul.shape"
      ],
      "metadata": {
        "colab": {
          "base_uri": "https://localhost:8080/"
        },
        "id": "2LeZY7QX-6yE",
        "outputId": "a001e312-7033-4895-f3c8-c49c624b17d8"
      },
      "execution_count": null,
      "outputs": [
        {
          "output_type": "execute_result",
          "data": {
            "text/plain": [
              "(106458, 3)"
            ]
          },
          "metadata": {},
          "execution_count": 81
        }
      ]
    },
    {
      "cell_type": "code",
      "source": [
        "concat_seoul.isna().sum()"
      ],
      "metadata": {
        "colab": {
          "base_uri": "https://localhost:8080/"
        },
        "id": "_ectoytQ-8Ue",
        "outputId": "f6696685-8e15-40b8-c5d5-aebeab3acb86"
      },
      "execution_count": null,
      "outputs": [
        {
          "output_type": "execute_result",
          "data": {
            "text/plain": [
              "식당    0\n",
              "리뷰    0\n",
              "별점    0\n",
              "dtype: int64"
            ]
          },
          "metadata": {},
          "execution_count": 82
        }
      ]
    },
    {
      "cell_type": "code",
      "source": [
        "concat_seoul[concat_seoul['리뷰']=='']"
      ],
      "metadata": {
        "colab": {
          "base_uri": "https://localhost:8080/",
          "height": 49
        },
        "id": "_xDGL_g6Ckhf",
        "outputId": "ac4f2e1c-c575-468b-a163-25bc52fbcbf7"
      },
      "execution_count": null,
      "outputs": [
        {
          "output_type": "execute_result",
          "data": {
            "text/plain": [
              "Empty DataFrame\n",
              "Columns: [식당, 리뷰, 별점]\n",
              "Index: []"
            ],
            "text/html": [
              "<div>\n",
              "<style scoped>\n",
              "    .dataframe tbody tr th:only-of-type {\n",
              "        vertical-align: middle;\n",
              "    }\n",
              "\n",
              "    .dataframe tbody tr th {\n",
              "        vertical-align: top;\n",
              "    }\n",
              "\n",
              "    .dataframe thead th {\n",
              "        text-align: right;\n",
              "    }\n",
              "</style>\n",
              "<table border=\"1\" class=\"dataframe\">\n",
              "  <thead>\n",
              "    <tr style=\"text-align: right;\">\n",
              "      <th></th>\n",
              "      <th>식당</th>\n",
              "      <th>리뷰</th>\n",
              "      <th>별점</th>\n",
              "    </tr>\n",
              "  </thead>\n",
              "  <tbody>\n",
              "  </tbody>\n",
              "</table>\n",
              "</div>"
            ]
          },
          "metadata": {},
          "execution_count": 87
        }
      ]
    },
    {
      "cell_type": "code",
      "source": [
        "concat_seoul[concat_seoul['리뷰']==' ']"
      ],
      "metadata": {
        "colab": {
          "base_uri": "https://localhost:8080/",
          "height": 49
        },
        "id": "UafvWNn_AQGn",
        "outputId": "9df2d4d2-00aa-4db2-9878-26fb0d58503e"
      },
      "execution_count": null,
      "outputs": [
        {
          "output_type": "execute_result",
          "data": {
            "text/plain": [
              "Empty DataFrame\n",
              "Columns: [식당, 리뷰, 별점]\n",
              "Index: []"
            ],
            "text/html": [
              "<div>\n",
              "<style scoped>\n",
              "    .dataframe tbody tr th:only-of-type {\n",
              "        vertical-align: middle;\n",
              "    }\n",
              "\n",
              "    .dataframe tbody tr th {\n",
              "        vertical-align: top;\n",
              "    }\n",
              "\n",
              "    .dataframe thead th {\n",
              "        text-align: right;\n",
              "    }\n",
              "</style>\n",
              "<table border=\"1\" class=\"dataframe\">\n",
              "  <thead>\n",
              "    <tr style=\"text-align: right;\">\n",
              "      <th></th>\n",
              "      <th>식당</th>\n",
              "      <th>리뷰</th>\n",
              "      <th>별점</th>\n",
              "    </tr>\n",
              "  </thead>\n",
              "  <tbody>\n",
              "  </tbody>\n",
              "</table>\n",
              "</div>"
            ]
          },
          "metadata": {},
          "execution_count": 85
        }
      ]
    },
    {
      "cell_type": "code",
      "source": [
        "concat_seoul.to_csv('concat_seoul.csv', index=False, encoding='utf-8')"
      ],
      "metadata": {
        "id": "ofypGw1JAThq"
      },
      "execution_count": null,
      "outputs": []
    },
    {
      "cell_type": "markdown",
      "source": [
        "# 구글 판교"
      ],
      "metadata": {
        "id": "MHuNxjllQ_lq"
      }
    },
    {
      "cell_type": "code",
      "source": [
        "pangyo = pd.read_csv('판교맛집리뷰.csv', usecols=['식당', '리뷰 내용', '평점'])\n",
        "pangyo.head()"
      ],
      "metadata": {
        "colab": {
          "base_uri": "https://localhost:8080/",
          "height": 206
        },
        "id": "7k4Uo4ayRBQI",
        "outputId": "347891f2-0f1c-4160-b67b-55e46fc0ddcc"
      },
      "execution_count": 92,
      "outputs": [
        {
          "output_type": "execute_result",
          "data": {
            "text/plain": [
              "     식당                                              리뷰 내용  평점\n",
              "0  h541  버거와 프렌치 토스트를 먹었습니다. 버거는 패티가 두툼하고 번이 부드럽습니다. 다만...   3\n",
              "1  h541  판교 현백 9층에 있는 파스타 맛집이다. 딸이랑 한달에 한 두번은 간다. 직원 수에...   4\n",
              "2  h541  판교 현대백화점 9층에 있는 이탈리안 식당. 공간이 오픈 되어있는 스타일이고 주말은...   4\n",
              "3  h541  음식이 정말 맛있고 서버 분들도 착하세요, 다만 벽이 없어서 사람들 지나다니는게 다...   5\n",
              "4  h541  분당지역에서 잘하는 이태리 음식점들 중에 하나\\n현백에 있어서 쇼핑 후 식사하기도 좋음.   5"
            ],
            "text/html": [
              "<div>\n",
              "<style scoped>\n",
              "    .dataframe tbody tr th:only-of-type {\n",
              "        vertical-align: middle;\n",
              "    }\n",
              "\n",
              "    .dataframe tbody tr th {\n",
              "        vertical-align: top;\n",
              "    }\n",
              "\n",
              "    .dataframe thead th {\n",
              "        text-align: right;\n",
              "    }\n",
              "</style>\n",
              "<table border=\"1\" class=\"dataframe\">\n",
              "  <thead>\n",
              "    <tr style=\"text-align: right;\">\n",
              "      <th></th>\n",
              "      <th>식당</th>\n",
              "      <th>리뷰 내용</th>\n",
              "      <th>평점</th>\n",
              "    </tr>\n",
              "  </thead>\n",
              "  <tbody>\n",
              "    <tr>\n",
              "      <th>0</th>\n",
              "      <td>h541</td>\n",
              "      <td>버거와 프렌치 토스트를 먹었습니다. 버거는 패티가 두툼하고 번이 부드럽습니다. 다만...</td>\n",
              "      <td>3</td>\n",
              "    </tr>\n",
              "    <tr>\n",
              "      <th>1</th>\n",
              "      <td>h541</td>\n",
              "      <td>판교 현백 9층에 있는 파스타 맛집이다. 딸이랑 한달에 한 두번은 간다. 직원 수에...</td>\n",
              "      <td>4</td>\n",
              "    </tr>\n",
              "    <tr>\n",
              "      <th>2</th>\n",
              "      <td>h541</td>\n",
              "      <td>판교 현대백화점 9층에 있는 이탈리안 식당. 공간이 오픈 되어있는 스타일이고 주말은...</td>\n",
              "      <td>4</td>\n",
              "    </tr>\n",
              "    <tr>\n",
              "      <th>3</th>\n",
              "      <td>h541</td>\n",
              "      <td>음식이 정말 맛있고 서버 분들도 착하세요, 다만 벽이 없어서 사람들 지나다니는게 다...</td>\n",
              "      <td>5</td>\n",
              "    </tr>\n",
              "    <tr>\n",
              "      <th>4</th>\n",
              "      <td>h541</td>\n",
              "      <td>분당지역에서 잘하는 이태리 음식점들 중에 하나\\n현백에 있어서 쇼핑 후 식사하기도 좋음.</td>\n",
              "      <td>5</td>\n",
              "    </tr>\n",
              "  </tbody>\n",
              "</table>\n",
              "</div>"
            ]
          },
          "metadata": {},
          "execution_count": 92
        }
      ]
    },
    {
      "cell_type": "code",
      "source": [
        "pangyo['식당'].unique()"
      ],
      "metadata": {
        "colab": {
          "base_uri": "https://localhost:8080/"
        },
        "id": "PRxe3URbRMR2",
        "outputId": "e872df01-9008-49be-d3af-09cd481d6dfb"
      },
      "execution_count": 93,
      "outputs": [
        {
          "output_type": "execute_result",
          "data": {
            "text/plain": [
              "array(['h541', 'js가든 현대백화점판교점', '경복궁 판교점', '계란집', '공화춘 현대백화점판교점',\n",
              "       '광화문국밥 판교점', '긴자료코 판교점', '까몬 판교아브뉴프랑점', '능라도 본점', '담소사골순대 판교점',\n",
              "       '더 키친 일뽀르노 현대백화점 판교점', '더이탈리안클럽 판교테크원점', '더플레이스 판교점', '데이빗앤룰스',\n",
              "       '도원참치', '돈블랑 판교점', '동청담', '돼지맨숀', '됐소 판교본점', '뚜에이오', '라디오베이',\n",
              "       '라멘천하', '라비떼', '라스토리아1001', '락빈칼국수', '람바다', '루프일레븐(ROOF 11)',\n",
              "       '리스카페 판교', '리얼스페인 판교점', '마라공방 판교점', '마루심 판교점', '마마문스 판교본점',\n",
              "       '매드포갈릭 판교라스트리트점', '매일식당', '명품국수', '모모야 현대백화점판교점', '모모카페',\n",
              "       '몽중헌 판교점', '미소한우소고기국밥 판교역점', '박가부대찌개 판교라스트리트점', '반포식스 판교역점', '방아깐',\n",
              "       '방유당 요즘 한식 다이닝 그레이츠 판교점', '베네쿠치', '베이징스토리', '봉우리 현대백화점 판교점',\n",
              "       '분짜라붐 현대백화점 판교점', \"붓처스컷 아브뉴프랑판교점 steak house BUTCHER'S CUT\",\n",
              "       '브루클린 더 버거 조인트', '비스트로도마', '비앙또아 판교점', '빈티지1988', '사라베스-판교 현대백화점',\n",
              "       '삼미칼국수', '삿뽀로판교점', '새마을식당 판교점', '샘밭막국수 판교점', '생어거스틴아브뉴프랑판교점',\n",
              "       '샤슬릭', '서호돈가스', '선한레시피 판교점', '세렌', '소호정 판교아브뉴프랑점', '소호정 판교테크노밸리점',\n",
              "       '송추가마골 인어반 판교점', '수수커피 판교알파돔타워점', '쉐누하누', '스시이도', '스시쿤', '스시혼',\n",
              "       '신도세기 판교역점', '신승반점 판교현대백화점', '아르고', '아방베이커리 판교카카오점', '아브뉴프랑 판교점',\n",
              "       '아웃백스테이크하우스 판교점', '안안', '양바위 본점', '어글리스토브 알파돔시티점',\n",
              "       '어글리스토브 판교라스트리트점', '에덴식당', '에머이 판교점', '엔바이콘', '여의나룻판교점', '예향정 판교점',\n",
              "       '오리지널팬케이크하우스 판교점', '오한수우육면가 판교점', '온센 판교점', '우몽 판교본점', '우설화 판교점',\n",
              "       '우영관', '우테이블', '울프스덴', '원조감자탕일미집 판교점', '원조부안집 판교직영점',\n",
              "       '이가네양꼬치 판교본점', '이탈리 현대백화점 판교점 (Eataly Pangyo)', '이태리부대찌개 판교점',\n",
              "       '인디테이블 판교아브뉴프랑점', '일도씨닭갈비 판교점', '자산어보 판교직영점', '장모밥상', '장비빔국수와 굴국밥',\n",
              "       '정돈 현대백화점판교점', '정선한우', \"제이스 팟 J's pot\", '조재벌식당', '찜하우스', '차알',\n",
              "       '차이나레스토랑오라', '참다운 정육식당', '창고43 판교점', '천지연 판교점', '최고집짬뽕', '카페랄로',\n",
              "       '카페아임홈 백현점', '크래버 대게나라 판교점', '클준빛날영', '탭퍼블릭 판교점', '테이블스푼 판교점',\n",
              "       '텍사스로드하우스 현대백화점 판교점', '토속상황삼계탕', '파파라구 Papa Ragu', '판교장어타운', '판교집',\n",
              "       '판교집 판교역점', '페이딤 판교점', '푸에르코 판교점', '푸치니', '풍천숯불재벌장어', '피그인더가든 판교점',\n",
              "       '피제리아비니스', '하누마루 판교점', '한국집현대백화점판교점', '한와담 판교점', '해우리 판교점',\n",
              "       '헤비스테이크 판교테크노밸리점', '현대옥 판교점', '홀썸치킨', '화포식당 판교점', '효 판교점',\n",
              "       '후라토식당 아브뉴프랑 판교점', '훠궈야 판교아브뉴프랑점', '흥도식당 판교점'], dtype=object)"
            ]
          },
          "metadata": {},
          "execution_count": 93
        }
      ]
    },
    {
      "cell_type": "code",
      "source": [
        "pangyo.rename(columns={'리뷰 내용': '리뷰', '평점':'별점'}, inplace=True)\n",
        "pangyo.head()"
      ],
      "metadata": {
        "colab": {
          "base_uri": "https://localhost:8080/",
          "height": 206
        },
        "id": "nRdjcmDORT_U",
        "outputId": "b8cf750e-39ba-4636-8fcb-7915f3c94acb"
      },
      "execution_count": 95,
      "outputs": [
        {
          "output_type": "execute_result",
          "data": {
            "text/plain": [
              "     식당                                                 리뷰  별점\n",
              "0  h541  버거와 프렌치 토스트를 먹었습니다. 버거는 패티가 두툼하고 번이 부드럽습니다. 다만...   3\n",
              "1  h541  판교 현백 9층에 있는 파스타 맛집이다. 딸이랑 한달에 한 두번은 간다. 직원 수에...   4\n",
              "2  h541  판교 현대백화점 9층에 있는 이탈리안 식당. 공간이 오픈 되어있는 스타일이고 주말은...   4\n",
              "3  h541  음식이 정말 맛있고 서버 분들도 착하세요, 다만 벽이 없어서 사람들 지나다니는게 다...   5\n",
              "4  h541  분당지역에서 잘하는 이태리 음식점들 중에 하나\\n현백에 있어서 쇼핑 후 식사하기도 좋음.   5"
            ],
            "text/html": [
              "<div>\n",
              "<style scoped>\n",
              "    .dataframe tbody tr th:only-of-type {\n",
              "        vertical-align: middle;\n",
              "    }\n",
              "\n",
              "    .dataframe tbody tr th {\n",
              "        vertical-align: top;\n",
              "    }\n",
              "\n",
              "    .dataframe thead th {\n",
              "        text-align: right;\n",
              "    }\n",
              "</style>\n",
              "<table border=\"1\" class=\"dataframe\">\n",
              "  <thead>\n",
              "    <tr style=\"text-align: right;\">\n",
              "      <th></th>\n",
              "      <th>식당</th>\n",
              "      <th>리뷰</th>\n",
              "      <th>별점</th>\n",
              "    </tr>\n",
              "  </thead>\n",
              "  <tbody>\n",
              "    <tr>\n",
              "      <th>0</th>\n",
              "      <td>h541</td>\n",
              "      <td>버거와 프렌치 토스트를 먹었습니다. 버거는 패티가 두툼하고 번이 부드럽습니다. 다만...</td>\n",
              "      <td>3</td>\n",
              "    </tr>\n",
              "    <tr>\n",
              "      <th>1</th>\n",
              "      <td>h541</td>\n",
              "      <td>판교 현백 9층에 있는 파스타 맛집이다. 딸이랑 한달에 한 두번은 간다. 직원 수에...</td>\n",
              "      <td>4</td>\n",
              "    </tr>\n",
              "    <tr>\n",
              "      <th>2</th>\n",
              "      <td>h541</td>\n",
              "      <td>판교 현대백화점 9층에 있는 이탈리안 식당. 공간이 오픈 되어있는 스타일이고 주말은...</td>\n",
              "      <td>4</td>\n",
              "    </tr>\n",
              "    <tr>\n",
              "      <th>3</th>\n",
              "      <td>h541</td>\n",
              "      <td>음식이 정말 맛있고 서버 분들도 착하세요, 다만 벽이 없어서 사람들 지나다니는게 다...</td>\n",
              "      <td>5</td>\n",
              "    </tr>\n",
              "    <tr>\n",
              "      <th>4</th>\n",
              "      <td>h541</td>\n",
              "      <td>분당지역에서 잘하는 이태리 음식점들 중에 하나\\n현백에 있어서 쇼핑 후 식사하기도 좋음.</td>\n",
              "      <td>5</td>\n",
              "    </tr>\n",
              "  </tbody>\n",
              "</table>\n",
              "</div>"
            ]
          },
          "metadata": {},
          "execution_count": 95
        }
      ]
    },
    {
      "cell_type": "code",
      "source": [
        "# 이모지 제거\n",
        "def preprocessing(text):\n",
        "    text = re.sub(r'[^ .,?!/@$%~％·∼()\\x00-\\x7Fㄱ-ㅣ가-힣]+', '', text) # 이모지 제거\n",
        "    text = re.sub(r'[\\n]+', ' ', text) # 줄바꿈 제거\n",
        "    text = re.sub(r'^[\\s]+$', '', text) # 빈 문자열 제거\n",
        "    return text"
      ],
      "metadata": {
        "id": "3Rvt3tv0UEKh"
      },
      "execution_count": 96,
      "outputs": []
    },
    {
      "cell_type": "code",
      "source": [
        "pangyo['리뷰'] = pangyo['리뷰'].map(preprocessing)\n",
        "pangyo.head()"
      ],
      "metadata": {
        "colab": {
          "base_uri": "https://localhost:8080/",
          "height": 206
        },
        "id": "r48zCk3bUbaJ",
        "outputId": "e33d000e-6458-4576-804e-3a4ed335a5f2"
      },
      "execution_count": 97,
      "outputs": [
        {
          "output_type": "execute_result",
          "data": {
            "text/plain": [
              "     식당                                                 리뷰  별점\n",
              "0  h541  버거와 프렌치 토스트를 먹었습니다. 버거는 패티가 두툼하고 번이 부드럽습니다. 다만...   3\n",
              "1  h541  판교 현백 9층에 있는 파스타 맛집이다. 딸이랑 한달에 한 두번은 간다. 직원 수에...   4\n",
              "2  h541  판교 현대백화점 9층에 있는 이탈리안 식당. 공간이 오픈 되어있는 스타일이고 주말은...   4\n",
              "3  h541  음식이 정말 맛있고 서버 분들도 착하세요, 다만 벽이 없어서 사람들 지나다니는게 다...   5\n",
              "4  h541   분당지역에서 잘하는 이태리 음식점들 중에 하나 현백에 있어서 쇼핑 후 식사하기도 좋음.   5"
            ],
            "text/html": [
              "<div>\n",
              "<style scoped>\n",
              "    .dataframe tbody tr th:only-of-type {\n",
              "        vertical-align: middle;\n",
              "    }\n",
              "\n",
              "    .dataframe tbody tr th {\n",
              "        vertical-align: top;\n",
              "    }\n",
              "\n",
              "    .dataframe thead th {\n",
              "        text-align: right;\n",
              "    }\n",
              "</style>\n",
              "<table border=\"1\" class=\"dataframe\">\n",
              "  <thead>\n",
              "    <tr style=\"text-align: right;\">\n",
              "      <th></th>\n",
              "      <th>식당</th>\n",
              "      <th>리뷰</th>\n",
              "      <th>별점</th>\n",
              "    </tr>\n",
              "  </thead>\n",
              "  <tbody>\n",
              "    <tr>\n",
              "      <th>0</th>\n",
              "      <td>h541</td>\n",
              "      <td>버거와 프렌치 토스트를 먹었습니다. 버거는 패티가 두툼하고 번이 부드럽습니다. 다만...</td>\n",
              "      <td>3</td>\n",
              "    </tr>\n",
              "    <tr>\n",
              "      <th>1</th>\n",
              "      <td>h541</td>\n",
              "      <td>판교 현백 9층에 있는 파스타 맛집이다. 딸이랑 한달에 한 두번은 간다. 직원 수에...</td>\n",
              "      <td>4</td>\n",
              "    </tr>\n",
              "    <tr>\n",
              "      <th>2</th>\n",
              "      <td>h541</td>\n",
              "      <td>판교 현대백화점 9층에 있는 이탈리안 식당. 공간이 오픈 되어있는 스타일이고 주말은...</td>\n",
              "      <td>4</td>\n",
              "    </tr>\n",
              "    <tr>\n",
              "      <th>3</th>\n",
              "      <td>h541</td>\n",
              "      <td>음식이 정말 맛있고 서버 분들도 착하세요, 다만 벽이 없어서 사람들 지나다니는게 다...</td>\n",
              "      <td>5</td>\n",
              "    </tr>\n",
              "    <tr>\n",
              "      <th>4</th>\n",
              "      <td>h541</td>\n",
              "      <td>분당지역에서 잘하는 이태리 음식점들 중에 하나 현백에 있어서 쇼핑 후 식사하기도 좋음.</td>\n",
              "      <td>5</td>\n",
              "    </tr>\n",
              "  </tbody>\n",
              "</table>\n",
              "</div>"
            ]
          },
          "metadata": {},
          "execution_count": 97
        }
      ]
    },
    {
      "cell_type": "code",
      "source": [
        "pangyo[pangyo['리뷰']=='']"
      ],
      "metadata": {
        "colab": {
          "base_uri": "https://localhost:8080/",
          "height": 237
        },
        "id": "9lyaOin9Ufea",
        "outputId": "5d234f7d-998f-409f-e9a6-e663fa0c9ea0"
      },
      "execution_count": 100,
      "outputs": [
        {
          "output_type": "execute_result",
          "data": {
            "text/plain": [
              "                       식당 리뷰  별점\n",
              "2253                 돼지맨숀      5\n",
              "5310                 모모카페      4\n",
              "8295            선한레시피 판교점      5\n",
              "10310           아브뉴프랑 판교점      5\n",
              "14698         정돈 현대백화점판교점      5\n",
              "17641  텍사스로드하우스 현대백화점 판교점      5"
            ],
            "text/html": [
              "<div>\n",
              "<style scoped>\n",
              "    .dataframe tbody tr th:only-of-type {\n",
              "        vertical-align: middle;\n",
              "    }\n",
              "\n",
              "    .dataframe tbody tr th {\n",
              "        vertical-align: top;\n",
              "    }\n",
              "\n",
              "    .dataframe thead th {\n",
              "        text-align: right;\n",
              "    }\n",
              "</style>\n",
              "<table border=\"1\" class=\"dataframe\">\n",
              "  <thead>\n",
              "    <tr style=\"text-align: right;\">\n",
              "      <th></th>\n",
              "      <th>식당</th>\n",
              "      <th>리뷰</th>\n",
              "      <th>별점</th>\n",
              "    </tr>\n",
              "  </thead>\n",
              "  <tbody>\n",
              "    <tr>\n",
              "      <th>2253</th>\n",
              "      <td>돼지맨숀</td>\n",
              "      <td></td>\n",
              "      <td>5</td>\n",
              "    </tr>\n",
              "    <tr>\n",
              "      <th>5310</th>\n",
              "      <td>모모카페</td>\n",
              "      <td></td>\n",
              "      <td>4</td>\n",
              "    </tr>\n",
              "    <tr>\n",
              "      <th>8295</th>\n",
              "      <td>선한레시피 판교점</td>\n",
              "      <td></td>\n",
              "      <td>5</td>\n",
              "    </tr>\n",
              "    <tr>\n",
              "      <th>10310</th>\n",
              "      <td>아브뉴프랑 판교점</td>\n",
              "      <td></td>\n",
              "      <td>5</td>\n",
              "    </tr>\n",
              "    <tr>\n",
              "      <th>14698</th>\n",
              "      <td>정돈 현대백화점판교점</td>\n",
              "      <td></td>\n",
              "      <td>5</td>\n",
              "    </tr>\n",
              "    <tr>\n",
              "      <th>17641</th>\n",
              "      <td>텍사스로드하우스 현대백화점 판교점</td>\n",
              "      <td></td>\n",
              "      <td>5</td>\n",
              "    </tr>\n",
              "  </tbody>\n",
              "</table>\n",
              "</div>"
            ]
          },
          "metadata": {},
          "execution_count": 100
        }
      ]
    },
    {
      "cell_type": "code",
      "source": [
        "pangyo.shape"
      ],
      "metadata": {
        "colab": {
          "base_uri": "https://localhost:8080/"
        },
        "id": "vx-VIDZEUrZT",
        "outputId": "d058d9b8-8fec-4f67-8a2c-8512a367d6d4"
      },
      "execution_count": 101,
      "outputs": [
        {
          "output_type": "execute_result",
          "data": {
            "text/plain": [
              "(19388, 3)"
            ]
          },
          "metadata": {},
          "execution_count": 101
        }
      ]
    },
    {
      "cell_type": "code",
      "source": [
        "pangyo[pangyo['리뷰']!=''].shape"
      ],
      "metadata": {
        "colab": {
          "base_uri": "https://localhost:8080/"
        },
        "id": "I3hXaE8vUjo2",
        "outputId": "b3ae6b40-c842-4143-fd56-c39503d11342"
      },
      "execution_count": 103,
      "outputs": [
        {
          "output_type": "execute_result",
          "data": {
            "text/plain": [
              "(19382, 3)"
            ]
          },
          "metadata": {},
          "execution_count": 103
        }
      ]
    },
    {
      "cell_type": "code",
      "source": [
        "preprocessing_pangyo = pangyo[pangyo['리뷰']!='']\n",
        "preprocessing_pangyo.shape"
      ],
      "metadata": {
        "colab": {
          "base_uri": "https://localhost:8080/"
        },
        "id": "v_2-aUdHU3Fu",
        "outputId": "d4569ac7-79d7-4c74-863b-619b3cbf7e9f"
      },
      "execution_count": 104,
      "outputs": [
        {
          "output_type": "execute_result",
          "data": {
            "text/plain": [
              "(19382, 3)"
            ]
          },
          "metadata": {},
          "execution_count": 104
        }
      ]
    },
    {
      "cell_type": "code",
      "source": [
        "preprocessing_pangyo.to_csv('preprocessing_pangyo.csv', index=False, encoding='utf-8')"
      ],
      "metadata": {
        "id": "zd77wyxSVK9K"
      },
      "execution_count": 105,
      "outputs": []
    },
    {
      "cell_type": "markdown",
      "source": [
        "# pn_df, concat_seoul, preprocessing_pangyo 합치기(최종)"
      ],
      "metadata": {
        "id": "ig3kkH2PVbBA"
      }
    },
    {
      "cell_type": "code",
      "source": [
        "pn_df = pd.read_csv('pn_df.csv')\n",
        "pn_df.head()"
      ],
      "metadata": {
        "colab": {
          "base_uri": "https://localhost:8080/",
          "height": 206
        },
        "id": "X5tMCei0VO7z",
        "outputId": "6ca4e78d-1cd8-4e5a-eb68-654d7e20ba9f"
      },
      "execution_count": 106,
      "outputs": [
        {
          "output_type": "execute_result",
          "data": {
            "text/plain": [
              "    식당   별점                                                 리뷰\n",
              "0  정식당  5.0  저의 개인적 취향을 두고 볼 때에는 소스가 전체적으로 오일리하고 무거운 느낌이 있습...\n",
              "1  정식당  5.0  이정도 가격대의 식당을 방문하시는분이라면 식사에 대한 기준이 높을꺼라 생각합니다. ...\n",
              "2  정식당  5.0  맛만 보면 4.5, 모든걸 더하면 5 배를 채우러 가기 보다는 음식이라는 하나의 주...\n",
              "3  정식당  5.0  금액이 좀 비싸지만 미슐렝가이드 레스토랑을 제대로 즐길 수 있어요. 모든 음식은 한...\n",
              "4  정식당  5.0  정말 세상에서 제일 맛있는 음식과 친절한 직원들  파인다이닝인데 큰 기교를 부리기보..."
            ],
            "text/html": [
              "<div>\n",
              "<style scoped>\n",
              "    .dataframe tbody tr th:only-of-type {\n",
              "        vertical-align: middle;\n",
              "    }\n",
              "\n",
              "    .dataframe tbody tr th {\n",
              "        vertical-align: top;\n",
              "    }\n",
              "\n",
              "    .dataframe thead th {\n",
              "        text-align: right;\n",
              "    }\n",
              "</style>\n",
              "<table border=\"1\" class=\"dataframe\">\n",
              "  <thead>\n",
              "    <tr style=\"text-align: right;\">\n",
              "      <th></th>\n",
              "      <th>식당</th>\n",
              "      <th>별점</th>\n",
              "      <th>리뷰</th>\n",
              "    </tr>\n",
              "  </thead>\n",
              "  <tbody>\n",
              "    <tr>\n",
              "      <th>0</th>\n",
              "      <td>정식당</td>\n",
              "      <td>5.0</td>\n",
              "      <td>저의 개인적 취향을 두고 볼 때에는 소스가 전체적으로 오일리하고 무거운 느낌이 있습...</td>\n",
              "    </tr>\n",
              "    <tr>\n",
              "      <th>1</th>\n",
              "      <td>정식당</td>\n",
              "      <td>5.0</td>\n",
              "      <td>이정도 가격대의 식당을 방문하시는분이라면 식사에 대한 기준이 높을꺼라 생각합니다. ...</td>\n",
              "    </tr>\n",
              "    <tr>\n",
              "      <th>2</th>\n",
              "      <td>정식당</td>\n",
              "      <td>5.0</td>\n",
              "      <td>맛만 보면 4.5, 모든걸 더하면 5 배를 채우러 가기 보다는 음식이라는 하나의 주...</td>\n",
              "    </tr>\n",
              "    <tr>\n",
              "      <th>3</th>\n",
              "      <td>정식당</td>\n",
              "      <td>5.0</td>\n",
              "      <td>금액이 좀 비싸지만 미슐렝가이드 레스토랑을 제대로 즐길 수 있어요. 모든 음식은 한...</td>\n",
              "    </tr>\n",
              "    <tr>\n",
              "      <th>4</th>\n",
              "      <td>정식당</td>\n",
              "      <td>5.0</td>\n",
              "      <td>정말 세상에서 제일 맛있는 음식과 친절한 직원들  파인다이닝인데 큰 기교를 부리기보...</td>\n",
              "    </tr>\n",
              "  </tbody>\n",
              "</table>\n",
              "</div>"
            ]
          },
          "metadata": {},
          "execution_count": 106
        }
      ]
    },
    {
      "cell_type": "code",
      "source": [
        "seoul = pd.read_csv('concat_seoul.csv')\n",
        "seoul.head()"
      ],
      "metadata": {
        "colab": {
          "base_uri": "https://localhost:8080/",
          "height": 206
        },
        "id": "PdpHXq9oV0re",
        "outputId": "068c39d6-edb6-4452-b7e3-9c800e1a7755"
      },
      "execution_count": 107,
      "outputs": [
        {
          "output_type": "execute_result",
          "data": {
            "text/plain": [
              "           식당                                                 리뷰   별점\n",
              "0  또래오래-송파문정점                            역시 맛있어요 휴가 갔다오고 바로 먹었네용  5.0\n",
              "1  또래오래-송파문정점                                        잘먹었습니다!~~~~  5.0\n",
              "2  또래오래-송파문정점                                    맛있게잘먹었습니다!!!!!!  5.0\n",
              "3  또래오래-송파문정점  왠만하면 리뷰안쓰는데 진짜 개맛있어요 다만 혼자 먹기엔 떡이 너무 많은데 떡보단 김...  5.0\n",
              "4  또래오래-송파문정점  치킨배달왔다해서 나가보니까 치킨이없어서 황당한데 배달기사님은 전화도 안받으시고 가게...  5.0"
            ],
            "text/html": [
              "<div>\n",
              "<style scoped>\n",
              "    .dataframe tbody tr th:only-of-type {\n",
              "        vertical-align: middle;\n",
              "    }\n",
              "\n",
              "    .dataframe tbody tr th {\n",
              "        vertical-align: top;\n",
              "    }\n",
              "\n",
              "    .dataframe thead th {\n",
              "        text-align: right;\n",
              "    }\n",
              "</style>\n",
              "<table border=\"1\" class=\"dataframe\">\n",
              "  <thead>\n",
              "    <tr style=\"text-align: right;\">\n",
              "      <th></th>\n",
              "      <th>식당</th>\n",
              "      <th>리뷰</th>\n",
              "      <th>별점</th>\n",
              "    </tr>\n",
              "  </thead>\n",
              "  <tbody>\n",
              "    <tr>\n",
              "      <th>0</th>\n",
              "      <td>또래오래-송파문정점</td>\n",
              "      <td>역시 맛있어요 휴가 갔다오고 바로 먹었네용</td>\n",
              "      <td>5.0</td>\n",
              "    </tr>\n",
              "    <tr>\n",
              "      <th>1</th>\n",
              "      <td>또래오래-송파문정점</td>\n",
              "      <td>잘먹었습니다!~~~~</td>\n",
              "      <td>5.0</td>\n",
              "    </tr>\n",
              "    <tr>\n",
              "      <th>2</th>\n",
              "      <td>또래오래-송파문정점</td>\n",
              "      <td>맛있게잘먹었습니다!!!!!!</td>\n",
              "      <td>5.0</td>\n",
              "    </tr>\n",
              "    <tr>\n",
              "      <th>3</th>\n",
              "      <td>또래오래-송파문정점</td>\n",
              "      <td>왠만하면 리뷰안쓰는데 진짜 개맛있어요 다만 혼자 먹기엔 떡이 너무 많은데 떡보단 김...</td>\n",
              "      <td>5.0</td>\n",
              "    </tr>\n",
              "    <tr>\n",
              "      <th>4</th>\n",
              "      <td>또래오래-송파문정점</td>\n",
              "      <td>치킨배달왔다해서 나가보니까 치킨이없어서 황당한데 배달기사님은 전화도 안받으시고 가게...</td>\n",
              "      <td>5.0</td>\n",
              "    </tr>\n",
              "  </tbody>\n",
              "</table>\n",
              "</div>"
            ]
          },
          "metadata": {},
          "execution_count": 107
        }
      ]
    },
    {
      "cell_type": "code",
      "source": [
        "pangyo = pd.read_csv('preprocessing_pangyo.csv')\n",
        "pangyo.head()"
      ],
      "metadata": {
        "colab": {
          "base_uri": "https://localhost:8080/",
          "height": 206
        },
        "id": "CHZf1-qZV4C0",
        "outputId": "6adb9324-ed83-452c-e35b-e899c87ce66a"
      },
      "execution_count": 108,
      "outputs": [
        {
          "output_type": "execute_result",
          "data": {
            "text/plain": [
              "     식당                                                 리뷰  별점\n",
              "0  h541  버거와 프렌치 토스트를 먹었습니다. 버거는 패티가 두툼하고 번이 부드럽습니다. 다만...   3\n",
              "1  h541  판교 현백 9층에 있는 파스타 맛집이다. 딸이랑 한달에 한 두번은 간다. 직원 수에...   4\n",
              "2  h541  판교 현대백화점 9층에 있는 이탈리안 식당. 공간이 오픈 되어있는 스타일이고 주말은...   4\n",
              "3  h541  음식이 정말 맛있고 서버 분들도 착하세요, 다만 벽이 없어서 사람들 지나다니는게 다...   5\n",
              "4  h541   분당지역에서 잘하는 이태리 음식점들 중에 하나 현백에 있어서 쇼핑 후 식사하기도 좋음.   5"
            ],
            "text/html": [
              "<div>\n",
              "<style scoped>\n",
              "    .dataframe tbody tr th:only-of-type {\n",
              "        vertical-align: middle;\n",
              "    }\n",
              "\n",
              "    .dataframe tbody tr th {\n",
              "        vertical-align: top;\n",
              "    }\n",
              "\n",
              "    .dataframe thead th {\n",
              "        text-align: right;\n",
              "    }\n",
              "</style>\n",
              "<table border=\"1\" class=\"dataframe\">\n",
              "  <thead>\n",
              "    <tr style=\"text-align: right;\">\n",
              "      <th></th>\n",
              "      <th>식당</th>\n",
              "      <th>리뷰</th>\n",
              "      <th>별점</th>\n",
              "    </tr>\n",
              "  </thead>\n",
              "  <tbody>\n",
              "    <tr>\n",
              "      <th>0</th>\n",
              "      <td>h541</td>\n",
              "      <td>버거와 프렌치 토스트를 먹었습니다. 버거는 패티가 두툼하고 번이 부드럽습니다. 다만...</td>\n",
              "      <td>3</td>\n",
              "    </tr>\n",
              "    <tr>\n",
              "      <th>1</th>\n",
              "      <td>h541</td>\n",
              "      <td>판교 현백 9층에 있는 파스타 맛집이다. 딸이랑 한달에 한 두번은 간다. 직원 수에...</td>\n",
              "      <td>4</td>\n",
              "    </tr>\n",
              "    <tr>\n",
              "      <th>2</th>\n",
              "      <td>h541</td>\n",
              "      <td>판교 현대백화점 9층에 있는 이탈리안 식당. 공간이 오픈 되어있는 스타일이고 주말은...</td>\n",
              "      <td>4</td>\n",
              "    </tr>\n",
              "    <tr>\n",
              "      <th>3</th>\n",
              "      <td>h541</td>\n",
              "      <td>음식이 정말 맛있고 서버 분들도 착하세요, 다만 벽이 없어서 사람들 지나다니는게 다...</td>\n",
              "      <td>5</td>\n",
              "    </tr>\n",
              "    <tr>\n",
              "      <th>4</th>\n",
              "      <td>h541</td>\n",
              "      <td>분당지역에서 잘하는 이태리 음식점들 중에 하나 현백에 있어서 쇼핑 후 식사하기도 좋음.</td>\n",
              "      <td>5</td>\n",
              "    </tr>\n",
              "  </tbody>\n",
              "</table>\n",
              "</div>"
            ]
          },
          "metadata": {},
          "execution_count": 108
        }
      ]
    },
    {
      "cell_type": "code",
      "source": [
        "pn_df.shape, seoul.shape, pangyo.shape"
      ],
      "metadata": {
        "colab": {
          "base_uri": "https://localhost:8080/"
        },
        "id": "ZEdNYcwAWAlN",
        "outputId": "78998605-8f6b-475d-f6a1-6b9494e749d4"
      },
      "execution_count": 110,
      "outputs": [
        {
          "output_type": "execute_result",
          "data": {
            "text/plain": [
              "((146902, 3), (106458, 3), (19382, 3))"
            ]
          },
          "metadata": {},
          "execution_count": 110
        }
      ]
    },
    {
      "cell_type": "code",
      "source": [
        "pd.concat([pn_df, seoul, pangyo]).shape"
      ],
      "metadata": {
        "colab": {
          "base_uri": "https://localhost:8080/"
        },
        "id": "lNQuZtrJV7mq",
        "outputId": "0caf8b2e-2436-490a-89d7-cd931ee72409"
      },
      "execution_count": 109,
      "outputs": [
        {
          "output_type": "execute_result",
          "data": {
            "text/plain": [
              "(272742, 3)"
            ]
          },
          "metadata": {},
          "execution_count": 109
        }
      ]
    },
    {
      "cell_type": "code",
      "source": [
        "last = pd.concat([pn_df, seoul, pangyo])\n",
        "last.shape"
      ],
      "metadata": {
        "colab": {
          "base_uri": "https://localhost:8080/"
        },
        "id": "TqCV1chXV_f7",
        "outputId": "498a5889-96de-4b69-a840-56bc386691fa"
      },
      "execution_count": 111,
      "outputs": [
        {
          "output_type": "execute_result",
          "data": {
            "text/plain": [
              "(272742, 3)"
            ]
          },
          "metadata": {},
          "execution_count": 111
        }
      ]
    },
    {
      "cell_type": "code",
      "source": [
        "last.to_csv('last_review.csv', index=False, encoding='utf-8')"
      ],
      "metadata": {
        "id": "-xgXw9a4WHhK"
      },
      "execution_count": 112,
      "outputs": []
    },
    {
      "cell_type": "code",
      "source": [],
      "metadata": {
        "id": "3z_iVzPpWMvl"
      },
      "execution_count": null,
      "outputs": []
    }
  ]
}
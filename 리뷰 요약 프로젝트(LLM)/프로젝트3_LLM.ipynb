{
  "nbformat": 4,
  "nbformat_minor": 0,
  "metadata": {
    "colab": {
      "provenance": []
    },
    "kernelspec": {
      "name": "python3",
      "display_name": "Python 3"
    },
    "language_info": {
      "name": "python"
    }
  },
  "cells": [
    {
      "cell_type": "markdown",
      "source": [
        "# 필요 라이브러리 임포트"
      ],
      "metadata": {
        "id": "A-P8udxG5Fp9"
      }
    },
    {
      "cell_type": "code",
      "execution_count": null,
      "metadata": {
        "id": "m53VQs_J5CuM"
      },
      "outputs": [],
      "source": [
        "from langchain_community.document_loaders import CSVLoader\n",
        "from langchain_text_splitters import RecursiveCharacterTextSplitter\n",
        "from langchain.vectorstores import Chroma\n",
        "from langchain.retrievers.multi_vector import MultiVectorRetriever\n",
        "from langchain.prompts import PromptTemplate\n",
        "import pandas as pd\n",
        "import time\n",
        "from langchain.embeddings import OpenAIEmbeddings\n",
        "from langchain.vectorstores import Chroma\n",
        "import os\n",
        "from langchain.llms import Ollama\n",
        "from langchain.llms import OpenAI\n",
        "from langchain_core.runnables import RunnablePassthrough"
      ]
    },
    {
      "cell_type": "markdown",
      "source": [
        "# 데이터프레임"
      ],
      "metadata": {
        "id": "L7gpd9Ys5Mfk"
      }
    },
    {
      "cell_type": "code",
      "source": [
        "df = pd.read_csv('filtered_review.csv')\n",
        "df.head()"
      ],
      "metadata": {
        "colab": {
          "base_uri": "https://localhost:8080/",
          "height": 206
        },
        "id": "W9B3Fx7w5LUm",
        "outputId": "9fc5c625-d5d1-4260-e1be-ea33ed468c60"
      },
      "execution_count": null,
      "outputs": [
        {
          "output_type": "execute_result",
          "data": {
            "text/plain": [
              "   식당                                                 리뷰\n",
              "0  호반  Rating : 👍👍👍\\nPlace : 낙원동 호반\\n\\n종로 3가 낙원상가 인근에...\n",
              "1  호반  여기 진짜 노포 찐맛집이네요. 병어조림을 먹었는데, 양념벨런스가 너무 좋고 입에서 ...\n",
              "2  호반  순대국밥에 들어있는 순대가 너무 특이하네요. 하얀색 대창??에 속에 두부가 들어있어...\n",
              "3  호반  예전부터 여러 블러거들의  맛있다는 소문은 들었지만 우연찮게 지나다 들렀던 집.\\n...\n",
              "4  호반  순대를 좋아하고, 노포를 좋아한다면 가볼만한 곳\\n다만 가게가 크지 않아 1차보다는..."
            ],
            "text/html": [
              "<div>\n",
              "<style scoped>\n",
              "    .dataframe tbody tr th:only-of-type {\n",
              "        vertical-align: middle;\n",
              "    }\n",
              "\n",
              "    .dataframe tbody tr th {\n",
              "        vertical-align: top;\n",
              "    }\n",
              "\n",
              "    .dataframe thead th {\n",
              "        text-align: right;\n",
              "    }\n",
              "</style>\n",
              "<table border=\"1\" class=\"dataframe\">\n",
              "  <thead>\n",
              "    <tr style=\"text-align: right;\">\n",
              "      <th></th>\n",
              "      <th>식당</th>\n",
              "      <th>리뷰</th>\n",
              "    </tr>\n",
              "  </thead>\n",
              "  <tbody>\n",
              "    <tr>\n",
              "      <th>0</th>\n",
              "      <td>호반</td>\n",
              "      <td>Rating : 👍👍👍\\nPlace : 낙원동 호반\\n\\n종로 3가 낙원상가 인근에...</td>\n",
              "    </tr>\n",
              "    <tr>\n",
              "      <th>1</th>\n",
              "      <td>호반</td>\n",
              "      <td>여기 진짜 노포 찐맛집이네요. 병어조림을 먹었는데, 양념벨런스가 너무 좋고 입에서 ...</td>\n",
              "    </tr>\n",
              "    <tr>\n",
              "      <th>2</th>\n",
              "      <td>호반</td>\n",
              "      <td>순대국밥에 들어있는 순대가 너무 특이하네요. 하얀색 대창??에 속에 두부가 들어있어...</td>\n",
              "    </tr>\n",
              "    <tr>\n",
              "      <th>3</th>\n",
              "      <td>호반</td>\n",
              "      <td>예전부터 여러 블러거들의  맛있다는 소문은 들었지만 우연찮게 지나다 들렀던 집.\\n...</td>\n",
              "    </tr>\n",
              "    <tr>\n",
              "      <th>4</th>\n",
              "      <td>호반</td>\n",
              "      <td>순대를 좋아하고, 노포를 좋아한다면 가볼만한 곳\\n다만 가게가 크지 않아 1차보다는...</td>\n",
              "    </tr>\n",
              "  </tbody>\n",
              "</table>\n",
              "</div>"
            ]
          },
          "metadata": {},
          "execution_count": 3
        }
      ]
    },
    {
      "cell_type": "markdown",
      "source": [
        "# openai를 위한 키"
      ],
      "metadata": {
        "id": "vqGnnWQC5aAV"
      }
    },
    {
      "cell_type": "code",
      "source": [
        "os.environ['OPENAI_API_KEY'] = ''"
      ],
      "metadata": {
        "id": "2ZAl5foP5Zvm"
      },
      "execution_count": null,
      "outputs": []
    },
    {
      "cell_type": "markdown",
      "source": [
        "# RAG 사용"
      ],
      "metadata": {
        "id": "orBGj4GR5Hos"
      }
    },
    {
      "cell_type": "code",
      "source": [
        "# 저장해놓은 벡터 저장소 불러오기\n",
        "food_openai_db = Chroma(\n",
        "    persist_directory='food_openai_db',\n",
        "    embedding_function=OpenAIEmbeddings()\n",
        ")"
      ],
      "metadata": {
        "id": "wv6OT-Yf5JiV"
      },
      "execution_count": null,
      "outputs": []
    },
    {
      "cell_type": "markdown",
      "source": [
        "## 정보 확인하기"
      ],
      "metadata": {
        "id": "5p7XB1eZ5uTA"
      }
    },
    {
      "cell_type": "code",
      "source": [
        "template = \"\"\"\n",
        "너는 서울뚝배기 식당의 리뷰들을 요약해주는 ai야.\n",
        "리뷰들 요약해서 맛, 양, 가격, 서비스 부분에서 어떤지 줄글로 설명해줘.\n",
        "\"\"\"\n",
        "\n",
        "openai_retriever = food_openai_db.as_retriever(\n",
        "    search_type=\"similarity_score_threshold\",\n",
        "    search_kwargs={'k':50, 'score_threshold': 0.7}\n",
        ")\n",
        "\n",
        "docs = openai_retriever.invoke(template)\n",
        "docs"
      ],
      "metadata": {
        "colab": {
          "base_uri": "https://localhost:8080/"
        },
        "id": "u2RyH6SQ5fVf",
        "outputId": "58906cc9-5807-466e-e2a8-5203fe0e7156"
      },
      "execution_count": null,
      "outputs": [
        {
          "output_type": "execute_result",
          "data": {
            "text/plain": [
              "[Document(metadata={'row': 534, 'source': 'filtered_review.csv'}, page_content='식당: 서울맛집\\n리뷰: 가격 서비스 맛  전부 환상입니다'),\n",
              " Document(metadata={'row': 4928, 'source': 'filtered_review.csv'}, page_content='식당: 서울맛집\\n리뷰: 가격 서비스 맛  전부 환상입니다'),\n",
              " Document(metadata={'row': 483, 'source': 'filtered_review.csv'}, page_content='식당: 서울맛집\\n리뷰: 가격에 비해 분위기도 좋고 맛도 좋고 사장님 서비스도 좋아요.'),\n",
              " Document(metadata={'row': 4877, 'source': 'filtered_review.csv'}, page_content='식당: 서울맛집\\n리뷰: 가격에 비해 분위기도 좋고 맛도 좋고 사장님 서비스도 좋아요.'),\n",
              " Document(metadata={'row': 467, 'source': 'filtered_review.csv'}, page_content='식당: 서울맛집\\n리뷰: 맛있어요! 가격 착해요! 더이상 설명 불가!'),\n",
              " Document(metadata={'row': 4861, 'source': 'filtered_review.csv'}, page_content='식당: 서울맛집\\n리뷰: 맛있어요! 가격 착해요! 더이상 설명 불가!'),\n",
              " Document(metadata={'row': 4897, 'source': 'filtered_review.csv'}, page_content='식당: 서울맛집\\n리뷰: 가격대비 맛있게 푸짐하게\\n먹을수있는것 같아요.'),\n",
              " Document(metadata={'row': 503, 'source': 'filtered_review.csv'}, page_content='식당: 서울맛집\\n리뷰: 가격대비 맛있게 푸짐하게\\n먹을수있는것 같아요.'),\n",
              " Document(metadata={'row': 2665, 'source': 'filtered_review.csv'}, page_content='식당: 서울고기집\\n리뷰: 음식 맛있고 서비스 좋고 반찬 리필도 말하기전에 이미 가져다 주시는 이모님들 ㄷㄷ'),\n",
              " Document(metadata={'row': 828, 'source': 'filtered_review.csv'}, page_content='식당: 서울뚝배기\\n리뷰: 음식 맛있는데...\\n서비스만 좀더 친절히 해준다면\\n정말 좋을텐데요. 아쉽습니다'),\n",
              " Document(metadata={'row': 937, 'source': 'filtered_review.csv'}, page_content='식당: 서울뚝배기\\n리뷰: 저렴하고 맛있고 친절한 서비스'),\n",
              " Document(metadata={'row': 4938, 'source': 'filtered_review.csv'}, page_content='식당: 서울맛집\\n리뷰: 싸고 가격대비 괜찮은 음식.'),\n",
              " Document(metadata={'row': 544, 'source': 'filtered_review.csv'}, page_content='식당: 서울맛집\\n리뷰: 싸고 가격대비 괜찮은 음식.'),\n",
              " Document(metadata={'row': 457, 'source': 'filtered_review.csv'}, page_content='식당: 서울맛집\\n리뷰: 음식도 다 훌륭하고 가격도 착하고 주인분들도 친절하셔서 단골됐습니다.'),\n",
              " Document(metadata={'row': 4851, 'source': 'filtered_review.csv'}, page_content='식당: 서울맛집\\n리뷰: 음식도 다 훌륭하고 가격도 착하고 주인분들도 친절하셔서 단골됐습니다.'),\n",
              " Document(metadata={'row': 760, 'source': 'filtered_review.csv'}, page_content='식당: 금자네생등심\\n리뷰: 친절하고 넉넉하게 서비스하는 맛집'),\n",
              " Document(metadata={'row': 506, 'source': 'filtered_review.csv'}, page_content='식당: 서울맛집\\n리뷰: 좋은가격으로 맛있는 음식 먹을 수 있는 가게'),\n",
              " Document(metadata={'row': 4900, 'source': 'filtered_review.csv'}, page_content='식당: 서울맛집\\n리뷰: 좋은가격으로 맛있는 음식 먹을 수 있는 가게'),\n",
              " Document(metadata={'row': 4948, 'source': 'filtered_review.csv'}, page_content='식당: 서울맛집\\n리뷰: 맛집 맛집 하는 이유가 다 있습니다'),\n",
              " Document(metadata={'row': 554, 'source': 'filtered_review.csv'}, page_content='식당: 서울맛집\\n리뷰: 맛집 맛집 하는 이유가 다 있습니다'),\n",
              " Document(metadata={'row': 10332, 'source': 'filtered_review.csv'}, page_content='식당: 돈돈정 그랑서울점\\n리뷰: 일단 전반적으로 음식 맛이 깔끔하구여. 맛과 가격대가 잘 맛는것같아서 좋습니다.'),\n",
              " Document(metadata={'row': 12231, 'source': 'filtered_review.csv'}, page_content='식당: 뜨거웍시애틀아시안퓨전\\n리뷰: 음식도 넘 맛있구 양도 많고 너무 서비스도.. 넘 감동이에요'),\n",
              " Document(metadata={'row': 578, 'source': 'filtered_review.csv'}, page_content='식당: 서울맛집\\n리뷰: 맛나요'),\n",
              " Document(metadata={'row': 4972, 'source': 'filtered_review.csv'}, page_content='식당: 서울맛집\\n리뷰: 맛나요'),\n",
              " Document(metadata={'row': 12151, 'source': 'filtered_review.csv'}, page_content='식당: 뜨거웍시애틀아시안퓨전\\n리뷰: 항상 맛있게 먹고 있어요. 제 최애 맛집이에요. 서비스도 감사합니다~!'),\n",
              " Document(metadata={'row': 525, 'source': 'filtered_review.csv'}, page_content='식당: 서울맛집\\n리뷰: 가격대비 음식은 좋으나 청결도는 글쎄....'),\n",
              " Document(metadata={'row': 4918, 'source': 'filtered_review.csv'}, page_content='식당: 서울맛집\\n리뷰: 가격대비 음식은 좋으나 청결도는 글쎄....'),\n",
              " Document(metadata={'row': 551, 'source': 'filtered_review.csv'}, page_content='식당: 서울맛집\\n리뷰: 싸고 맛있음. 친절함'),\n",
              " Document(metadata={'row': 4945, 'source': 'filtered_review.csv'}, page_content='식당: 서울맛집\\n리뷰: 싸고 맛있음. 친절함'),\n",
              " Document(metadata={'row': 553, 'source': 'filtered_review.csv'}, page_content='식당: 서울맛집\\n리뷰: 저렴하고  맛있는  가성비 맛집'),\n",
              " Document(metadata={'row': 4927, 'source': 'filtered_review.csv'}, page_content='식당: 서울맛집\\n리뷰: 생각나면 다시 찾는 가성비 좋은 음식점'),\n",
              " Document(metadata={'row': 533, 'source': 'filtered_review.csv'}, page_content='식당: 서울맛집\\n리뷰: 생각나면 다시 찾는 가성비 좋은 음식점'),\n",
              " Document(metadata={'row': 312, 'source': 'filtered_review.csv'}, page_content='식당: 남도식당\\n리뷰: 음식은 맛있어요.\\n서비스는...'),\n",
              " Document(metadata={'row': 15073, 'source': 'filtered_review.csv'}, page_content='식당: 진맥 건대점\\n리뷰: 맛 서비스 분위기 모두 사로잡은 맛집~\\n최고의 만족도였어요 ㅎㅎ'),\n",
              " Document(metadata={'row': 4839, 'source': 'filtered_review.csv'}, page_content='식당: 서울맛집\\n리뷰: 노포분위기가 맘에 드는곳입니다.\\n친절하고 맛도좋고 가격도 좋은. ㅎㅎ\\n잘먹었습니다.'),\n",
              " Document(metadata={'row': 445, 'source': 'filtered_review.csv'}, page_content='식당: 서울맛집\\n리뷰: 노포분위기가 맘에 드는곳입니다.\\n친절하고 맛도좋고 가격도 좋은. ㅎㅎ\\n잘먹었습니다.'),\n",
              " Document(metadata={'row': 4862, 'source': 'filtered_review.csv'}, page_content='식당: 서울맛집\\n리뷰: 가격 저렴하고 양많고 맛있고 전체적으로 만족합니다 시장맛집'),\n",
              " Document(metadata={'row': 468, 'source': 'filtered_review.csv'}, page_content='식당: 서울맛집\\n리뷰: 가격 저렴하고 양많고 맛있고 전체적으로 만족합니다 시장맛집'),\n",
              " Document(metadata={'row': 2884, 'source': 'filtered_review.csv'}, page_content='식당: 853\\n리뷰: 아쉽게..사진을 못남긴..맛있는고기..친절한 설명 서비스..분위기는 보통..조금비싼 가격..\\n맛은 좋아요'),\n",
              " Document(metadata={'row': 4955, 'source': 'filtered_review.csv'}, page_content='식당: 서울맛집\\n리뷰: 시장 맛집 이에요'),\n",
              " Document(metadata={'row': 4947, 'source': 'filtered_review.csv'}, page_content='식당: 서울맛집\\n리뷰: 저렴하고  맛있는  가성비 맛집'),\n",
              " Document(metadata={'row': 4919, 'source': 'filtered_review.csv'}, page_content='식당: 서울맛집\\n리뷰: 가격대비 맛있었습니다'),\n",
              " Document(metadata={'row': 524, 'source': 'filtered_review.csv'}, page_content='식당: 서울맛집\\n리뷰: 가격대비 맛있었습니다'),\n",
              " Document(metadata={'row': 558, 'source': 'filtered_review.csv'}, page_content='식당: 서울맛집\\n리뷰: 맛있어요'),\n",
              " Document(metadata={'row': 528, 'source': 'filtered_review.csv'}, page_content='식당: 서울맛집\\n리뷰: 맛있어요'),\n",
              " Document(metadata={'row': 4922, 'source': 'filtered_review.csv'}, page_content='식당: 서울맛집\\n리뷰: 맛있어요'),\n",
              " Document(metadata={'row': 4952, 'source': 'filtered_review.csv'}, page_content='식당: 서울맛집\\n리뷰: 맛있어요'),\n",
              " Document(metadata={'row': 4964, 'source': 'filtered_review.csv'}, page_content='식당: 서울맛집\\n리뷰: 싸고 맛있음'),\n",
              " Document(metadata={'row': 4975, 'source': 'filtered_review.csv'}, page_content='식당: 서울맛집\\n리뷰: 찐맛집'),\n",
              " Document(metadata={'row': 561, 'source': 'filtered_review.csv'}, page_content='식당: 서울맛집\\n리뷰: 시장 맛집 이에요')]"
            ]
          },
          "metadata": {},
          "execution_count": 11
        }
      ]
    },
    {
      "cell_type": "code",
      "source": [
        "# 프롬프트\n",
        "template = \"\"\"\n",
        "너는 {store} 식당의 리뷰들을 요약해주는 ai야.\n",
        "리뷰들 요약해서 맛, 양, 가격, 서비스 부분에서 어떤지 줄글로 설명해줘.\n",
        "\"\"\"\n",
        "custom_prompt = PromptTemplate.from_template(template=template)\n",
        "custom_prompt"
      ],
      "metadata": {
        "colab": {
          "base_uri": "https://localhost:8080/"
        },
        "id": "GMyF55zV54RS",
        "outputId": "a6e3e7b1-df0a-4e06-c188-ef3730d0f2ee"
      },
      "execution_count": null,
      "outputs": [
        {
          "output_type": "execute_result",
          "data": {
            "text/plain": [
              "PromptTemplate(input_variables=['store'], template='\\n너는 {store} 식당의 리뷰들을 요약해주는 ai야.\\n리뷰들 요약해서 맛, 양, 가격, 서비스 부분에서 어떤지 줄글로 설명해줘.\\n')"
            ]
          },
          "metadata": {},
          "execution_count": 10
        }
      ]
    },
    {
      "cell_type": "markdown",
      "source": [
        "### Ollama 사용"
      ],
      "metadata": {
        "id": "V4zcjeB56rFF"
      }
    },
    {
      "cell_type": "code",
      "source": [
        "llama = Ollama(\n",
        "    model=\"llama3.1\",\n",
        "    temperature = 0.3\n",
        ")\n",
        "\n",
        "rag_chain = (\n",
        "    {\"context\": openai_retriever, \"store\": RunnablePassthrough()}\n",
        "    | custom_prompt\n",
        "    | llama # 모델에 넣어서 답변 생성\n",
        ")\n",
        "query = \"서울뚝배기\"\n",
        "response = rag_chain.invoke(query)\n",
        "\n",
        "for chunk in response:\n",
        "    print(chunk, end=\"\", flush=True)"
      ],
      "metadata": {
        "colab": {
          "base_uri": "https://localhost:8080/"
        },
        "id": "x5nx7Lsp6UH0",
        "outputId": "ff24fb1a-69ec-434b-86af-c58f730b4c23"
      },
      "execution_count": null,
      "outputs": [
        {
          "output_type": "stream",
          "name": "stdout",
          "text": [
            "서울뚝배기는 한식 전문 레스토랑으로 다양한 한식料理를 제공합니다. \n",
            "\n",
            "**맛:**\n",
            "서울뚝배기에서는 다양한 한식요리들이 제공되며, 고기가 풍부하고 맛이 좋습니다. 특히, 전복죽과 삼겹살은 인기 메뉴 중 하나입니다.\n",
            "\n",
            "**양:**\n",
            "음식 양은 충분하며, 가격대에 맞는 양을 제공합니다. \n",
            "\n",
            "**가격:**\n",
            "서울뚝배기의 가격대는 일반적인 한식 레스토랑보다 조금 높습니다. 하지만, 고급한 한식 요리들을 제공하기 때문에 이해가 갑니다.\n",
            "\n",
            "**서비스:**\n",
            "서비스 또한 매우 좋으며, 친절하고 빠른 서비스를 제공합니다."
          ]
        }
      ]
    },
    {
      "cell_type": "markdown",
      "source": [
        "### gpt 사용"
      ],
      "metadata": {
        "id": "Mpu9NaHc7ROP"
      }
    },
    {
      "cell_type": "code",
      "source": [
        "gpt = OpenAI(\n",
        "    model_name=\"gpt-4o-mini\",\n",
        "    temperature = 0.3\n",
        ")\n",
        "\n",
        "rag_chain = (\n",
        "    {\"context\": openai_retriever, \"store\": RunnablePassthrough()}\n",
        "    | custom_prompt\n",
        "    | gpt # 모델에 넣어서 답변 생성\n",
        ")\n",
        "query = \"서울뚝배기\"\n",
        "response = rag_chain.invoke(query)\n",
        "\n",
        "for chunk in response:\n",
        "    print(chunk, end=\"\", flush=True)"
      ],
      "metadata": {
        "colab": {
          "base_uri": "https://localhost:8080/"
        },
        "id": "gvGbfk396csv",
        "outputId": "5fad5696-d177-4eed-e9ea-a6318ba624f1"
      },
      "execution_count": null,
      "outputs": [
        {
          "output_type": "stream",
          "name": "stderr",
          "text": [
            "C:\\NLP\\nlp\\Lib\\site-packages\\langchain_community\\llms\\openai.py:253: UserWarning: You are trying to use a chat model. This way of initializing it is no longer supported. Instead, please use: `from langchain_community.chat_models import ChatOpenAI`\n",
            "  warnings.warn(\n",
            "C:\\NLP\\nlp\\Lib\\site-packages\\langchain_community\\llms\\openai.py:1076: UserWarning: You are trying to use a chat model. This way of initializing it is no longer supported. Instead, please use: `from langchain_community.chat_models import ChatOpenAI`\n",
            "  warnings.warn(\n"
          ]
        },
        {
          "output_type": "stream",
          "name": "stdout",
          "text": [
            "서울뚝배기 식당에 대한 리뷰를 종합해보면, 전반적으로 맛, 양, 가격, 서비스 측면에서 긍정적인 평가가 많습니다.\n",
            "\n",
            "**맛**: 서울뚝배기의 음식은 깊고 진한 국물 맛이 특징이며, 재료의 신선함이 돋보입니다. 특히, 뚝배기 요리는 풍부한 풍미와 함께 따뜻한 온기를 제공하여 많은 손님들이 만족감을 표현하고 있습니다.\n",
            "\n",
            "**양**: 제공되는 양은 대체로 푸짐하다는 평가가 많습니다. 특히, 뚝배기 메뉴는 한 끼 식사로 충분할 정도로 넉넉하게 나와서, 배고픈 손님들에게 좋은 선택이 됩니다.\n",
            "\n",
            "**가격**: 가격대는 합리적이라는 의견이 많습니다. 맛과 양을 고려했을 때, 가성비가 뛰어난 편이라는 평이 주를 이루고 있습니다. 많은 손님들이 가격 대비 만족스러운 경험을 했다고 언급하고 있습니다.\n",
            "\n",
            "**서비스**: 서비스 측면에서도 대체로 긍정적인 반응이 많습니다. 직원들은 친절하고, 신속하게 음식을 제공하며, 손님들의 요청에 잘 응대하는 편입니다. 이러한 서비스는 식사 경험을 더욱 즐겁게 만들어 주는 요소로 작용하고 있습니다.\n",
            "\n",
            "종합적으로 볼 때, 서울뚝배기 식당은 맛, 양, 가격, 서비스 모두에서 좋은 평가를 받고 있으며, 많은 손님들이 재방문 의사를 밝히고 있습니다."
          ]
        }
      ]
    },
    {
      "cell_type": "markdown",
      "source": [
        "# 리뷰들을 프롬프트에 넣어주기"
      ],
      "metadata": {
        "id": "bJ_BPR3y7cx4"
      }
    },
    {
      "cell_type": "code",
      "source": [
        "# 50개의 리뷰를 넣는 프롬프트템플릿 만들기\n",
        "template = \"\"\"\n",
        "너는 {store} 식당의 리뷰들을 요약해주는 ai야.\n",
        "리뷰들 요약해서 맛, 양, 가격, 서비스 부분에서 어떤지 줄글로 설명해줘.\n",
        "리뷰는 {text}야.\n",
        "\"\"\"\n",
        "\n",
        "query = '서울뚝배기'\n",
        "template = PromptTemplate.from_template(template=template)\n",
        "custom_prompt = template.format(store=query, text=[review for review in df.loc[df['식당']==query, '리뷰'].sample(50)])\n",
        "custom_prompt"
      ],
      "metadata": {
        "colab": {
          "base_uri": "https://localhost:8080/"
        },
        "id": "eVS8eCOH64nx",
        "outputId": "1ffb158c-e2aa-40fc-e4e9-9fa180d8fb03"
      },
      "execution_count": null,
      "outputs": [
        {
          "output_type": "execute_result",
          "data": {
            "text/plain": [
              "\"\\n너는 서울뚝배기 식당의 리뷰들을 요약해주는 ai야.\\n리뷰들 요약해서 맛, 양, 가격, 서비스 부분에서 어떤지 줄글로 설명해줘.\\n리뷰는 \\n['해물 된장찌개 맛있음', '가성비 최고내요', '더웠음... 차라리 밖이 바람불어서 더 시원했음\\\\n전체적으로 음식이 자극적이지않았음', '점심시간에  자주감니다', '점심 메뉴는 심플하게\\\\n된장은 밥을 비벼먹을 수 있게 준비해 주셔서 좋슴니다~~', '벼르고 벼르다 드디어 다녀왔습니다. 역시 오래된 곳은 다 이유가 있네요. 반찬도 맛깔스럽고 제육도 자극적이지 않으면서 간이 알맞게 좋아요. 밥도둑처럼 순식간에 해치우고 나왔어요. 한번씩 들러서 모든 메뉴를 뽀개보려고 합니다. 너무너무 소중한 밥집이에요!', '혼밥하기좋은곳. 순두부 맛있어요', '회식장소 24시간', '맛있구요. 깨끗해요.', '직원분도 친절하시고 음식이 진짜 맛있어요!\\\\n도토리묵무침이랑 미역국 맛집입니다!', '점심은 5 종류의 메뉴에서 선택하는 것 같습니다.', '해장도 할수 있고, 점심 저녁 식사도 무난합니다.\\\\n휴일에 다른곳 다 문닫아도 열어서 감사하게 이용하고 있습니다 ㅎㅎ', '저렴하게 아침식사가 가능함. 2023년 2월 현재 식사 메뉴 9000원.', '밑반찬 다 맛있고 딴건 다 좋은데 파전은 너무 부실함.딱 그 가격에 그 퀄이라서 좀 아쉬움.', '싱싱한 야채로만 해물뚝배기 !  북어국! 미역국 !\\\\n반찬도 싱싱한 오이무침 !열무김치! 채장아치 !\\\\n완전집밥 같아요 ^~^ 강추!  강치 !', '맛도 좋고 가성비도 👍 👍 👍…', '점심메뉴에 한해서 육류를 좋아하는 분들은 별로 일수도 있습니다. 미역국 북어국 해물된장찌개 중에 하나밖에 주문이 안되기 때문이고 반찬도 거의 김치종류가 다라고 보시면 됩니다. 된장찌개 에는 비빔밥 재료가 나와서 비벼 드실 수 있고 찌개도 괜찮은 편입니다. 미역국 좋아하는 분들은 미역국이 맛있다고 하더라구요. 북어국도 괜찮긴 한데 매우 맛있는 건 아니고요. 인근 식당에서 가격대비 괜찮다 정도 입니다.\\\\n개인적 취향에는 별 셋 이지만 동행하신 분들의 의견을 반영하여 네개 드리고, 점심메뉴 외에 먹어보지 못했기에 여지를 남깁니다.\\\\n좌석이 협소한 편이고 가게도 넓진 않아 다소 불편함이 있지만 서빙하는 분들이 친절한 편이어서 충분히 커버가 되는 것 같습니다.\\\\n인근에 점심드시는 분들 한번쯤은 들러보세요. 망하진 않습니다.', '절대 실패하지 않는 믿고 찾는 음식점입니다.', '점심시간에는 미역국,순두부가 주력이고\\\\n비빔공기애  비벼먹는 맛이 있습니다\\\\n빠른 음식제공으로 바쁜 직장인들에겐 좋은\\\\n식당으로 보여집니다', '괜찮음', '해물된장찌개가 새우와 조개가 있고 진한 된장맛이 국물에서 우러나와 맛있었음. 야채에 비벼먹을 수 있어 좋았음', '좋은', '김치찌개를 시켰는데 고기가 오래 되었는지 질기고 냄새가 나는거 같아 대충 먹다 나왔네요..', '24시간 아님', '추억의 맛집. 앞으로도 오랫동안 영업해주시면 좋겠음', '매일 새롭게 만든 것 같은 정갈하고\\\\n윤기가 좔좔 흐르는 밑반찬에\\\\n본연의 맛에 충실한 미역국과 북어국\\\\n가격대비 맛 일등 맛집', '맛이 없어요', '이른 아침 식사를 하기 좋은 곳, 한국식!', '우리는 좀 더 전통적인 한국식 아침 식사를 찾다가 국, 밥, 반찬 세트로 구성된 간단한 아침 식사 세트가 있는 이곳을 찾았습니다. 우리는 아름답게 크림 같은 두부 덩어리가 들어간 정말 좋은 미역 수프와 매운 두부 수프를 먹었습니다. 영어를 못하지만 영어 메뉴도 있고 직원들도 친절하고 친절했어요. 수저와 냅킨은 테이블 아래 서랍에 있고, 컵은 테이블 위에 있으며, 직접 부을 수 있는 물 한 병을 가져다 줍니다. 퇴실 시 문 옆 카운터에서 결제하세요.', '아침식사나 저녁 소주한잔하기에 좋은식당\\\\n아침메뉴 된장찌게&비빔밥 강추', '좋아요', '친절한 직워들였습니다', '내가 가본 최고의 정통 한국 장소. 이 곳은 맛있는 음식을 두 번이나 제공했기 때문에 별 5개를 받을 자격이 있습니다. 꼭 방문해야합니다!', '20년이지나도 그때그맛♡♡♡\\\\n아직도 똑같아요~~\\\\n생각나게 하는 오이무침 무생채 열무 .김치\\\\n뚝배기 된장찌개 정말 맛있어요\\\\n미역국도 맛있어요', '뚝배기 비빔밥 최고!', '그냥 보통..,\\\\n깔끔해요.', '정식 가게이므로 혼자서도 보통 입점 할 수 있고, 텐장치게 밖에 먹은 적이 없지만, 안정된 맛으로 안심 (경찰서가 가까워 경찰관의 손님이 많다)하고 식사 할 수 있습니다.', '음식 맛있어요', '밥은 밥대로 술은 술 대로 실망스럽지 않다. 게다가24시간 이라니!', '오랜전통의집 이죠 가격도저령합니다', '적당한 건강식 맛이고 24시간 식당임', '좋아요', '맛있고 신선하고 매우 만족했어요', '확실히 숨겨진 보석입니다.', '해물된장찌개,북어국,미역국등...깔끔한 반찬 너무 좋아요.', '점심에 인기있는 퇴계로 한식식당입니다.\\\\n해물된장찌개 아주 좋아요. 북어국도 최고~♡\\\\n반찬도 신선하고 맛있어요. 친절한 직원분 서빙의 더 최고~^^', '충무로 위치한 맛있는 해장국집', '도한시에는 한 번은 내점하고 있는 사랑하는 가게\\\\n\\\\n점심 시간 조금 전 12시 전에 갔습니다만 이미 꽤 혼잡 마지막 테이블에 착석. 그 후에는 밖에 열이 생겼습니다.\\\\n요리는 w8000\\\\n맛있게 받았습니다.', '여기가 숨은맛집...젊은이들이 여기 안오길.... 밑반찬만으로 끝..비벼드시면돼요', '아침 식사하기 좋은 곳, 24시간 영업']야.\\n\""
            ]
          },
          "metadata": {},
          "execution_count": 27
        }
      ]
    },
    {
      "cell_type": "markdown",
      "source": [
        "### Ollama 이용"
      ],
      "metadata": {
        "id": "TaOMTVl97rYx"
      }
    },
    {
      "cell_type": "code",
      "source": [
        "llm = Ollama(\n",
        "    model='llama3.1',\n",
        "    temperature=0.3\n",
        ")\n",
        "\n",
        "response = llm.invoke(custom_prompt)\n",
        "print(response)\n",
        "\n",
        "for chunk in response:\n",
        "    print(chunk, end=\"\", flush=True)"
      ],
      "metadata": {
        "colab": {
          "base_uri": "https://localhost:8080/"
        },
        "id": "8NcjhKn47ji-",
        "outputId": "fe483d6e-9622-489c-830b-60e83a083db4"
      },
      "execution_count": null,
      "outputs": [
        {
          "output_type": "stream",
          "name": "stdout",
          "text": [
            "**맛:**\n",
            "해물된장 뚝배기, 해물된장찌개, 낙지볶음, 미역국, 해물아귀찜 등 다양한 메뉴의 맛이 좋다는 리뷰가 많습니다. 해물된장 뚝배기는 특히 강추되는 메뉴입니다.\n",
            "\n",
            "**양:**\n",
            "반찬 양이 적다는 리뷰도 있지만, 해물된장찌개와 같은 메뉴는 양이 충분하다고 리뷰하는 경우도 있습니다.\n",
            "\n",
            "**가격:**\n",
            "평균 가격은 7천원에서 8천원 사이이며, 점심 시간에는 인상되어 8000원에 판매되는 곳도 있습니다. 가격대가 합리적이라고 생각하는 리뷰도 있습니다.\n",
            "\n",
            "**서비스:**\n",
            "직원들의 친절함과 깔끔한 서비스는 리뷰의 일반적인 평점입니다.\n",
            "**맛:**\n",
            "해물된장 뚝배기, 해물된장찌개, 낙지볶음, 미역국, 해물아귀찜 등 다양한 메뉴의 맛이 좋다는 리뷰가 많습니다. 해물된장 뚝배기는 특히 강추되는 메뉴입니다.\n",
            "\n",
            "**양:**\n",
            "반찬 양이 적다는 리뷰도 있지만, 해물된장찌개와 같은 메뉴는 양이 충분하다고 리뷰하는 경우도 있습니다.\n",
            "\n",
            "**가격:**\n",
            "평균 가격은 7천원에서 8천원 사이이며, 점심 시간에는 인상되어 8000원에 판매되는 곳도 있습니다. 가격대가 합리적이라고 생각하는 리뷰도 있습니다.\n",
            "\n",
            "**서비스:**\n",
            "직원들의 친절함과 깔끔한 서비스는 리뷰의 일반적인 평점입니다."
          ]
        }
      ]
    },
    {
      "cell_type": "markdown",
      "source": [
        "### gpt 사용"
      ],
      "metadata": {
        "id": "0owRJZ3M75Ds"
      }
    },
    {
      "cell_type": "code",
      "source": [
        "gpt = OpenAI(\n",
        "    model_name=\"gpt-4o-mini\",\n",
        "    temperature = 0.3\n",
        "    )\n",
        "\n",
        "\n",
        "response = gpt.invoke(custom_prompt)\n",
        "\n",
        "for chunk in response:\n",
        "    print(chunk, end=\"\", flush=True)"
      ],
      "metadata": {
        "colab": {
          "base_uri": "https://localhost:8080/"
        },
        "id": "vFhMgI2Z73Vo",
        "outputId": "2f97705e-f43b-43ab-9509-f23aed2d4598"
      },
      "execution_count": null,
      "outputs": [
        {
          "output_type": "stream",
          "name": "stderr",
          "text": [
            "C:\\NLP\\nlp\\Lib\\site-packages\\langchain_community\\llms\\openai.py:253: UserWarning: You are trying to use a chat model. This way of initializing it is no longer supported. Instead, please use: `from langchain_community.chat_models import ChatOpenAI`\n",
            "  warnings.warn(\n",
            "C:\\NLP\\nlp\\Lib\\site-packages\\langchain_community\\llms\\openai.py:1076: UserWarning: You are trying to use a chat model. This way of initializing it is no longer supported. Instead, please use: `from langchain_community.chat_models import ChatOpenAI`\n",
            "  warnings.warn(\n"
          ]
        },
        {
          "output_type": "stream",
          "name": "stdout",
          "text": [
            "서울뚝배기 식당에 대한 리뷰를 종합해보면, 전반적으로 맛, 양, 가격, 서비스 모두 긍정적인 평가를 받고 있습니다.\n",
            "\n",
            "**맛**: 해물된장찌개와 아귀찜, 제육볶음 등 다양한 메뉴가 맛있다는 의견이 많습니다. 특히 해물된장찌개는 신선한 해산물과 진한 된장 맛이 잘 어우러져 있다는 평이 많고, 미역국과 밑반찬도 정갈하고 맛있다는 언급이 있습니다. 반면, 김치전은 별로라는 의견도 있어 메뉴에 따라 차이가 있을 수 있습니다.\n",
            "\n",
            "**양**: 양에 대한 평가는 대체로 긍정적입니다. 밥이 푸짐하게 제공되며, 찌개와 반찬도 적당히 나와서 만족스럽다는 의견이 많습니다. 특히, 해물된장찌개와 함께 나오는 밥은 '밥도둑'이라는 표현으로 그 양과 맛을 강조하는 리뷰도 있었습니다.\n",
            "\n",
            "**가격**: 가격은 대체로 저렴하다는 평가를 받고 있습니다. 해물된장찌개가 7천 원으로 가성비가 뛰어난 편이며, 점심 메뉴도 8천 원으로 합리적인 가격에 제공된다는 의견이 많습니다. 오랜 역사를 가진 대중음식점으로서 가격 대비 맛이 좋다는 점이 강조됩니다.\n",
            "\n",
            "**서비스**: 서비스에 대한 평가는 대체로 긍정적입니다. 직원들이 친절하다는 의견이 많고, 음식이 빠르게 제공된다는 점도 언급됩니다. 그러나 일부 리뷰에서는 혼잡한 시간대에 서비스가 다소 미흡할 수 있다는 점도 지적되었습니다.\n",
            "\n",
            "종합적으로 볼 때, 서울뚝배기 식당은 맛과 양, 가격, 서비스 모두에서 좋은 평가를 받고 있는 곳으로, 특히 해물된장찌개와 아귀찜이 인기 메뉴로 자리 잡고 있습니다."
          ]
        }
      ]
    },
    {
      "cell_type": "markdown",
      "source": [
        "# 최종"
      ],
      "metadata": {
        "id": "O8VaksbdBwMm"
      }
    },
    {
      "cell_type": "code",
      "source": [
        "# 50개의 리뷰를 넣는 프롬프트템플릿 만들기\n",
        "template = \"\"\"\n",
        "너는 {store} 식당의 리뷰들을 요약해주는 ai야.\n",
        "리뷰들 요약해서 맛, 양, 가격, 서비스 부분에서 어떤지 줄글로 설명해줘.\n",
        "리뷰는 {text}야.\n",
        "\"\"\"\n",
        "\n",
        "query = '서울뚝배기'\n",
        "template = PromptTemplate.from_template(template=template)\n",
        "custom_prompt = template.format(store=query, text=[review for review in df.loc[df['식당']==query, '리뷰'][:100]])\n",
        "custom_prompt\n",
        "\n",
        "gpt = OpenAI(\n",
        "    model_name=\"gpt-4o-mini\",\n",
        "    temperature = 0.3\n",
        "    )\n",
        "\n",
        "\n",
        "response = gpt.invoke(custom_prompt)\n",
        "\n",
        "for chunk in response:\n",
        "    print(chunk, end=\"\", flush=True)"
      ],
      "metadata": {
        "colab": {
          "base_uri": "https://localhost:8080/"
        },
        "id": "T11-7FGO_fV9",
        "outputId": "c8a7d73e-682f-401a-ee35-977372b7311b"
      },
      "execution_count": null,
      "outputs": [
        {
          "output_type": "stream",
          "name": "stderr",
          "text": [
            "C:\\NLP\\nlp\\Lib\\site-packages\\langchain_community\\llms\\openai.py:253: UserWarning: You are trying to use a chat model. This way of initializing it is no longer supported. Instead, please use: `from langchain_community.chat_models import ChatOpenAI`\n",
            "  warnings.warn(\n",
            "C:\\NLP\\nlp\\Lib\\site-packages\\langchain_community\\llms\\openai.py:1076: UserWarning: You are trying to use a chat model. This way of initializing it is no longer supported. Instead, please use: `from langchain_community.chat_models import ChatOpenAI`\n",
            "  warnings.warn(\n"
          ]
        },
        {
          "output_type": "stream",
          "name": "stdout",
          "text": [
            "서울뚝배기 식당에 대한 리뷰를 종합해보면, 전반적으로 맛, 양, 가격, 서비스 측면에서 긍정적인 평가가 많습니다.\n",
            "\n",
            "**맛**: 식당에서 제공하는 주요 메뉴인 미역국, 된장찌개, 순두부찌개, 북어국은 대체로 맛있다는 평가를 받고 있습니다. 특히 미역국과 해물된장찌개는 깊은 맛을 자랑하며, 반찬들도 신선하고 맛있다는 의견이 많습니다. 다만, 일부 리뷰에서는 특정 메뉴가 평범하다는 언급도 있어, 개인의 취향에 따라 다소 차이가 있을 수 있습니다.\n",
            "\n",
            "**양**: 제공되는 양은 적당하다는 평가가 많으며, 특히 비빔밥과 함께 나오는 찌개는 양이 충분하다는 의견이 있습니다. 반찬도 여러 종류가 제공되어 식사를 더욱 풍성하게 만들어줍니다.\n",
            "\n",
            "**가격**: 가격은 대체로 합리적이라는 평가가 많습니다. 대부분의 리뷰에서 9,000원이라는 가격이 만족스럽다는 의견이 있으며, 가성비가 뛰어난 식당으로 언급되고 있습니다. 특히 아침식사 메뉴는 저렴한 가격에 제공되어 많은 손님들이 찾는 이유 중 하나입니다.\n",
            "\n",
            "**서비스**: 서비스는 신속하고 친절하다는 평가가 많습니다. 직원들이 손님을 잘 응대하며, 음식이 빨리 나오는 점이 특히 긍정적으로 언급되고 있습니다. 다만, 일부 리뷰에서는 서비스의 친절함이 부족하다는 의견도 있어, 일관성이 다소 떨어질 수 있습니다.\n",
            "\n",
            "종합적으로 서울뚝배기 식당은 맛과 가격, 서비스 측면에서 만족스러운 경험을 제공하는 곳으로, 특히 간단하고 건강한 한식을 원하시는 분들에게 추천할 만한 식당입니다."
          ]
        }
      ]
    },
    {
      "cell_type": "code",
      "source": [
        "df.loc[df['식당']=='서울뚝배기', ['리뷰']][:100]"
      ],
      "metadata": {
        "colab": {
          "base_uri": "https://localhost:8080/",
          "height": 423
        },
        "id": "3bJ4FJRN_g03",
        "outputId": "3da05f02-ec0c-4d35-d834-2c9d0bf409e5"
      },
      "execution_count": null,
      "outputs": [
        {
          "output_type": "execute_result",
          "data": {
            "text/plain": [
              "                                                    리뷰\n",
              "802  This shop only offers 4 options - seaweed soup...\n",
              "803  벼르고 벼르다 드디어 다녀왔습니다. 역시 오래된 곳은 다 이유가 있네요. 반찬도 맛...\n",
              "804  여기 음식 다 진국(맛있음)\\n\\n밑반찬 맛있고 신선함.\\n\\n된장찌개, 미역국, ...\n",
              "805  점심에 인기있는 퇴계로 한식식당입니다.\\n해물된장찌개 아주 좋아요. 북어국도 최고~...\n",
              "806  소박한 해물된장뚝배기에 곁들여 나오는 야채 비빔밥이 맛도 좋고 건강에도 좋을 것 같...\n",
              "..                                                 ...\n",
              "897                            집밥 같아요. 안질리는 맛입니다. 가세요.\n",
              "898                                    반찬이 깔끔하고 빨리 나와요\n",
              "899                               건강한 맛!식당 이모님들이 착하세요!\n",
              "900                                       점심시간에  자주감니다\n",
              "901                                        특히 미역국이 좋아요\n",
              "\n",
              "[100 rows x 1 columns]"
            ],
            "text/html": [
              "<div>\n",
              "<style scoped>\n",
              "    .dataframe tbody tr th:only-of-type {\n",
              "        vertical-align: middle;\n",
              "    }\n",
              "\n",
              "    .dataframe tbody tr th {\n",
              "        vertical-align: top;\n",
              "    }\n",
              "\n",
              "    .dataframe thead th {\n",
              "        text-align: right;\n",
              "    }\n",
              "</style>\n",
              "<table border=\"1\" class=\"dataframe\">\n",
              "  <thead>\n",
              "    <tr style=\"text-align: right;\">\n",
              "      <th></th>\n",
              "      <th>리뷰</th>\n",
              "    </tr>\n",
              "  </thead>\n",
              "  <tbody>\n",
              "    <tr>\n",
              "      <th>802</th>\n",
              "      <td>This shop only offers 4 options - seaweed soup...</td>\n",
              "    </tr>\n",
              "    <tr>\n",
              "      <th>803</th>\n",
              "      <td>벼르고 벼르다 드디어 다녀왔습니다. 역시 오래된 곳은 다 이유가 있네요. 반찬도 맛...</td>\n",
              "    </tr>\n",
              "    <tr>\n",
              "      <th>804</th>\n",
              "      <td>여기 음식 다 진국(맛있음)\\n\\n밑반찬 맛있고 신선함.\\n\\n된장찌개, 미역국, ...</td>\n",
              "    </tr>\n",
              "    <tr>\n",
              "      <th>805</th>\n",
              "      <td>점심에 인기있는 퇴계로 한식식당입니다.\\n해물된장찌개 아주 좋아요. 북어국도 최고~...</td>\n",
              "    </tr>\n",
              "    <tr>\n",
              "      <th>806</th>\n",
              "      <td>소박한 해물된장뚝배기에 곁들여 나오는 야채 비빔밥이 맛도 좋고 건강에도 좋을 것 같...</td>\n",
              "    </tr>\n",
              "    <tr>\n",
              "      <th>...</th>\n",
              "      <td>...</td>\n",
              "    </tr>\n",
              "    <tr>\n",
              "      <th>897</th>\n",
              "      <td>집밥 같아요. 안질리는 맛입니다. 가세요.</td>\n",
              "    </tr>\n",
              "    <tr>\n",
              "      <th>898</th>\n",
              "      <td>반찬이 깔끔하고 빨리 나와요</td>\n",
              "    </tr>\n",
              "    <tr>\n",
              "      <th>899</th>\n",
              "      <td>건강한 맛!식당 이모님들이 착하세요!</td>\n",
              "    </tr>\n",
              "    <tr>\n",
              "      <th>900</th>\n",
              "      <td>점심시간에  자주감니다</td>\n",
              "    </tr>\n",
              "    <tr>\n",
              "      <th>901</th>\n",
              "      <td>특히 미역국이 좋아요</td>\n",
              "    </tr>\n",
              "  </tbody>\n",
              "</table>\n",
              "<p>100 rows × 1 columns</p>\n",
              "</div>"
            ]
          },
          "metadata": {},
          "execution_count": 38
        }
      ]
    },
    {
      "cell_type": "code",
      "source": [
        "import gradio as gr"
      ],
      "metadata": {
        "id": "lP03XqMd_ruu"
      },
      "execution_count": null,
      "outputs": []
    }
  ]
}
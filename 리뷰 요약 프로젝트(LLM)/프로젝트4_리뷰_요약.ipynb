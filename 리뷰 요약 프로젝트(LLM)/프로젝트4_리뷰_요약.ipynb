{
  "cells": [
    {
      "cell_type": "code",
      "execution_count": null,
      "metadata": {
        "colab": {
          "base_uri": "https://localhost:8080/"
        },
        "id": "GlCquEm4eN2x",
        "outputId": "2763f85c-b96d-4925-9482-d871a450a9c2"
      },
      "outputs": [
        {
          "name": "stdout",
          "output_type": "stream",
          "text": [
            "Collecting gradio==4.2.0\n",
            "  Using cached gradio-4.2.0-py3-none-any.whl.metadata (17 kB)\n",
            "Collecting aiofiles<24.0,>=22.0 (from gradio==4.2.0)\n",
            "  Using cached aiofiles-23.2.1-py3-none-any.whl.metadata (9.7 kB)\n",
            "Collecting altair<6.0,>=4.2.0 (from gradio==4.2.0)\n",
            "  Downloading altair-5.4.1-py3-none-any.whl.metadata (9.4 kB)\n",
            "Requirement already satisfied: fastapi in c:\\nlp\\nlp\\lib\\site-packages (from gradio==4.2.0) (0.112.0)\n",
            "Collecting ffmpy (from gradio==4.2.0)\n",
            "  Using cached ffmpy-0.4.0-py3-none-any.whl.metadata (2.9 kB)\n",
            "Collecting gradio-client==0.7.0 (from gradio==4.2.0)\n",
            "  Using cached gradio_client-0.7.0-py3-none-any.whl.metadata (7.1 kB)\n",
            "Requirement already satisfied: httpx in c:\\nlp\\nlp\\lib\\site-packages (from gradio==4.2.0) (0.27.0)\n",
            "Requirement already satisfied: huggingface-hub>=0.14.0 in c:\\nlp\\nlp\\lib\\site-packages (from gradio==4.2.0) (0.24.5)\n",
            "Requirement already satisfied: importlib-resources<7.0,>=1.3 in c:\\nlp\\nlp\\lib\\site-packages (from gradio==4.2.0) (6.4.0)\n",
            "Requirement already satisfied: jinja2<4.0 in c:\\nlp\\nlp\\lib\\site-packages (from gradio==4.2.0) (3.1.4)\n",
            "Requirement already satisfied: markupsafe~=2.0 in c:\\nlp\\nlp\\lib\\site-packages (from gradio==4.2.0) (2.1.5)\n",
            "Requirement already satisfied: matplotlib~=3.0 in c:\\nlp\\nlp\\lib\\site-packages (from gradio==4.2.0) (3.9.1.post1)\n",
            "Requirement already satisfied: numpy~=1.0 in c:\\nlp\\nlp\\lib\\site-packages (from gradio==4.2.0) (1.26.4)\n",
            "Requirement already satisfied: orjson~=3.0 in c:\\nlp\\nlp\\lib\\site-packages (from gradio==4.2.0) (3.10.7)\n",
            "Requirement already satisfied: packaging in c:\\nlp\\nlp\\lib\\site-packages (from gradio==4.2.0) (24.1)\n",
            "Requirement already satisfied: pandas<3.0,>=1.0 in c:\\nlp\\nlp\\lib\\site-packages (from gradio==4.2.0) (2.2.2)\n",
            "Requirement already satisfied: pillow<11.0,>=8.0 in c:\\nlp\\nlp\\lib\\site-packages (from gradio==4.2.0) (10.4.0)\n",
            "Requirement already satisfied: pydantic>=2.0 in c:\\nlp\\nlp\\lib\\site-packages (from gradio==4.2.0) (2.8.2)\n",
            "Collecting pydub (from gradio==4.2.0)\n",
            "  Using cached pydub-0.25.1-py2.py3-none-any.whl.metadata (1.4 kB)\n",
            "Collecting python-multipart (from gradio==4.2.0)\n",
            "  Using cached python_multipart-0.0.9-py3-none-any.whl.metadata (2.5 kB)\n",
            "Requirement already satisfied: pyyaml<7.0,>=5.0 in c:\\nlp\\nlp\\lib\\site-packages (from gradio==4.2.0) (6.0.1)\n",
            "Requirement already satisfied: requests~=2.0 in c:\\nlp\\nlp\\lib\\site-packages (from gradio==4.2.0) (2.32.3)\n",
            "Collecting semantic-version~=2.0 (from gradio==4.2.0)\n",
            "  Using cached semantic_version-2.10.0-py2.py3-none-any.whl.metadata (9.7 kB)\n",
            "Collecting tomlkit==0.12.0 (from gradio==4.2.0)\n",
            "  Using cached tomlkit-0.12.0-py3-none-any.whl.metadata (2.7 kB)\n",
            "Requirement already satisfied: typer<1.0,>=0.9 in c:\\nlp\\nlp\\lib\\site-packages (from typer[all]<1.0,>=0.9->gradio==4.2.0) (0.12.3)\n",
            "Requirement already satisfied: typing-extensions~=4.0 in c:\\nlp\\nlp\\lib\\site-packages (from gradio==4.2.0) (4.12.2)\n",
            "Requirement already satisfied: uvicorn>=0.14.0 in c:\\nlp\\nlp\\lib\\site-packages (from gradio==4.2.0) (0.30.5)\n",
            "Collecting websockets<12.0,>=10.0 (from gradio==4.2.0)\n",
            "  Using cached websockets-11.0.3-py3-none-any.whl.metadata (6.6 kB)\n",
            "Requirement already satisfied: fsspec in c:\\nlp\\nlp\\lib\\site-packages (from gradio-client==0.7.0->gradio==4.2.0) (2024.6.1)\n",
            "Requirement already satisfied: jsonschema>=3.0 in c:\\nlp\\nlp\\lib\\site-packages (from altair<6.0,>=4.2.0->gradio==4.2.0) (4.23.0)\n",
            "Collecting narwhals>=1.5.2 (from altair<6.0,>=4.2.0->gradio==4.2.0)\n",
            "  Downloading narwhals-1.6.4-py3-none-any.whl.metadata (5.8 kB)\n",
            "Requirement already satisfied: filelock in c:\\nlp\\nlp\\lib\\site-packages (from huggingface-hub>=0.14.0->gradio==4.2.0) (3.15.4)\n",
            "Requirement already satisfied: tqdm>=4.42.1 in c:\\nlp\\nlp\\lib\\site-packages (from huggingface-hub>=0.14.0->gradio==4.2.0) (4.66.5)\n",
            "Requirement already satisfied: contourpy>=1.0.1 in c:\\nlp\\nlp\\lib\\site-packages (from matplotlib~=3.0->gradio==4.2.0) (1.2.1)\n",
            "Requirement already satisfied: cycler>=0.10 in c:\\nlp\\nlp\\lib\\site-packages (from matplotlib~=3.0->gradio==4.2.0) (0.12.1)\n",
            "Requirement already satisfied: fonttools>=4.22.0 in c:\\nlp\\nlp\\lib\\site-packages (from matplotlib~=3.0->gradio==4.2.0) (4.53.1)\n",
            "Requirement already satisfied: kiwisolver>=1.3.1 in c:\\nlp\\nlp\\lib\\site-packages (from matplotlib~=3.0->gradio==4.2.0) (1.4.5)\n",
            "Requirement already satisfied: pyparsing>=2.3.1 in c:\\nlp\\nlp\\lib\\site-packages (from matplotlib~=3.0->gradio==4.2.0) (3.1.2)\n",
            "Requirement already satisfied: python-dateutil>=2.7 in c:\\nlp\\nlp\\lib\\site-packages (from matplotlib~=3.0->gradio==4.2.0) (2.9.0.post0)\n",
            "Requirement already satisfied: pytz>=2020.1 in c:\\nlp\\nlp\\lib\\site-packages (from pandas<3.0,>=1.0->gradio==4.2.0) (2024.1)\n",
            "Requirement already satisfied: tzdata>=2022.7 in c:\\nlp\\nlp\\lib\\site-packages (from pandas<3.0,>=1.0->gradio==4.2.0) (2024.1)\n",
            "Requirement already satisfied: annotated-types>=0.4.0 in c:\\nlp\\nlp\\lib\\site-packages (from pydantic>=2.0->gradio==4.2.0) (0.7.0)\n",
            "Requirement already satisfied: pydantic-core==2.20.1 in c:\\nlp\\nlp\\lib\\site-packages (from pydantic>=2.0->gradio==4.2.0) (2.20.1)\n",
            "Requirement already satisfied: charset-normalizer<4,>=2 in c:\\nlp\\nlp\\lib\\site-packages (from requests~=2.0->gradio==4.2.0) (3.3.2)\n",
            "Requirement already satisfied: idna<4,>=2.5 in c:\\nlp\\nlp\\lib\\site-packages (from requests~=2.0->gradio==4.2.0) (3.7)\n",
            "Requirement already satisfied: urllib3<3,>=1.21.1 in c:\\nlp\\nlp\\lib\\site-packages (from requests~=2.0->gradio==4.2.0) (2.2.2)\n",
            "Requirement already satisfied: certifi>=2017.4.17 in c:\\nlp\\nlp\\lib\\site-packages (from requests~=2.0->gradio==4.2.0) (2024.7.4)\n",
            "Requirement already satisfied: click>=8.0.0 in c:\\nlp\\nlp\\lib\\site-packages (from typer<1.0,>=0.9->typer[all]<1.0,>=0.9->gradio==4.2.0) (8.1.7)\n",
            "Requirement already satisfied: shellingham>=1.3.0 in c:\\nlp\\nlp\\lib\\site-packages (from typer<1.0,>=0.9->typer[all]<1.0,>=0.9->gradio==4.2.0) (1.5.4)\n",
            "Requirement already satisfied: rich>=10.11.0 in c:\\nlp\\nlp\\lib\\site-packages (from typer<1.0,>=0.9->typer[all]<1.0,>=0.9->gradio==4.2.0) (13.7.1)\n",
            "Requirement already satisfied: h11>=0.8 in c:\\nlp\\nlp\\lib\\site-packages (from uvicorn>=0.14.0->gradio==4.2.0) (0.14.0)\n",
            "Requirement already satisfied: starlette<0.38.0,>=0.37.2 in c:\\nlp\\nlp\\lib\\site-packages (from fastapi->gradio==4.2.0) (0.37.2)\n",
            "Requirement already satisfied: anyio in c:\\nlp\\nlp\\lib\\site-packages (from httpx->gradio==4.2.0) (4.4.0)\n",
            "Requirement already satisfied: httpcore==1.* in c:\\nlp\\nlp\\lib\\site-packages (from httpx->gradio==4.2.0) (1.0.5)\n",
            "Requirement already satisfied: sniffio in c:\\nlp\\nlp\\lib\\site-packages (from httpx->gradio==4.2.0) (1.3.1)\n",
            "Requirement already satisfied: colorama in c:\\nlp\\nlp\\lib\\site-packages (from click>=8.0.0->typer<1.0,>=0.9->typer[all]<1.0,>=0.9->gradio==4.2.0) (0.4.6)\n",
            "Requirement already satisfied: attrs>=22.2.0 in c:\\nlp\\nlp\\lib\\site-packages (from jsonschema>=3.0->altair<6.0,>=4.2.0->gradio==4.2.0) (23.2.0)\n",
            "Requirement already satisfied: jsonschema-specifications>=2023.03.6 in c:\\nlp\\nlp\\lib\\site-packages (from jsonschema>=3.0->altair<6.0,>=4.2.0->gradio==4.2.0) (2023.12.1)\n",
            "Requirement already satisfied: referencing>=0.28.4 in c:\\nlp\\nlp\\lib\\site-packages (from jsonschema>=3.0->altair<6.0,>=4.2.0->gradio==4.2.0) (0.35.1)\n",
            "Requirement already satisfied: rpds-py>=0.7.1 in c:\\nlp\\nlp\\lib\\site-packages (from jsonschema>=3.0->altair<6.0,>=4.2.0->gradio==4.2.0) (0.19.1)\n",
            "Requirement already satisfied: six>=1.5 in c:\\nlp\\nlp\\lib\\site-packages (from python-dateutil>=2.7->matplotlib~=3.0->gradio==4.2.0) (1.16.0)\n",
            "Requirement already satisfied: markdown-it-py>=2.2.0 in c:\\nlp\\nlp\\lib\\site-packages (from rich>=10.11.0->typer<1.0,>=0.9->typer[all]<1.0,>=0.9->gradio==4.2.0) (3.0.0)\n",
            "Requirement already satisfied: pygments<3.0.0,>=2.13.0 in c:\\nlp\\nlp\\lib\\site-packages (from rich>=10.11.0->typer<1.0,>=0.9->typer[all]<1.0,>=0.9->gradio==4.2.0) (2.18.0)\n",
            "Requirement already satisfied: mdurl~=0.1 in c:\\nlp\\nlp\\lib\\site-packages (from markdown-it-py>=2.2.0->rich>=10.11.0->typer<1.0,>=0.9->typer[all]<1.0,>=0.9->gradio==4.2.0) (0.1.2)\n",
            "Using cached gradio-4.2.0-py3-none-any.whl (15.4 MB)\n",
            "Using cached gradio_client-0.7.0-py3-none-any.whl (302 kB)\n",
            "Using cached tomlkit-0.12.0-py3-none-any.whl (37 kB)\n",
            "Using cached aiofiles-23.2.1-py3-none-any.whl (15 kB)\n",
            "Downloading altair-5.4.1-py3-none-any.whl (658 kB)\n",
            "   ---------------------------------------- 0.0/658.1 kB ? eta -:--:--\n",
            "   ----- ---------------------------------- 92.2/658.1 kB 2.6 MB/s eta 0:00:01\n",
            "   ---------------------------------------- 658.1/658.1 kB 8.3 MB/s eta 0:00:00\n",
            "Using cached semantic_version-2.10.0-py2.py3-none-any.whl (15 kB)\n",
            "Using cached websockets-11.0.3-py3-none-any.whl (118 kB)\n",
            "Using cached ffmpy-0.4.0-py3-none-any.whl (5.8 kB)\n",
            "Using cached pydub-0.25.1-py2.py3-none-any.whl (32 kB)\n",
            "Using cached python_multipart-0.0.9-py3-none-any.whl (22 kB)\n",
            "Downloading narwhals-1.6.4-py3-none-any.whl (163 kB)\n",
            "   ---------------------------------------- 0.0/163.9 kB ? eta -:--:--\n",
            "   ---------------------------------------- 163.9/163.9 kB ? eta 0:00:00\n",
            "Installing collected packages: pydub, websockets, tomlkit, semantic-version, python-multipart, narwhals, ffmpy, aiofiles, gradio-client, altair, gradio\n",
            "  Attempting uninstall: websockets\n",
            "    Found existing installation: websockets 12.0\n",
            "    Uninstalling websockets-12.0:\n",
            "      Successfully uninstalled websockets-12.0\n",
            "Successfully installed aiofiles-23.2.1 altair-5.4.1 ffmpy-0.4.0 gradio-4.2.0 gradio-client-0.7.0 narwhals-1.6.4 pydub-0.25.1 python-multipart-0.0.9 semantic-version-2.10.0 tomlkit-0.12.0 websockets-11.0.3\n"
          ]
        },
        {
          "name": "stderr",
          "output_type": "stream",
          "text": [
            "WARNING: typer 0.12.3 does not provide the extra 'all'\n",
            "\n",
            "[notice] A new release of pip is available: 24.0 -> 24.2\n",
            "[notice] To update, run: python.exe -m pip install --upgrade pip\n"
          ]
        }
      ],
      "source": [
        "!pip install gradio==4.2.0"
      ]
    },
    {
      "cell_type": "markdown",
      "metadata": {
        "id": "qOP5JhpSh2FD"
      },
      "source": [
        "# 목록 저장"
      ]
    },
    {
      "cell_type": "code",
      "execution_count": 25,
      "metadata": {
        "colab": {
          "base_uri": "https://localhost:8080/",
          "height": 206
        },
        "id": "5FuwBEpYptvu",
        "outputId": "53242e16-69ae-472e-f67b-b1915a43b338"
      },
      "outputs": [
        {
          "data": {
            "text/html": [
              "<div>\n",
              "<style scoped>\n",
              "    .dataframe tbody tr th:only-of-type {\n",
              "        vertical-align: middle;\n",
              "    }\n",
              "\n",
              "    .dataframe tbody tr th {\n",
              "        vertical-align: top;\n",
              "    }\n",
              "\n",
              "    .dataframe thead th {\n",
              "        text-align: right;\n",
              "    }\n",
              "</style>\n",
              "<table border=\"1\" class=\"dataframe\">\n",
              "  <thead>\n",
              "    <tr style=\"text-align: right;\">\n",
              "      <th></th>\n",
              "      <th>식당</th>\n",
              "      <th>리뷰</th>\n",
              "    </tr>\n",
              "  </thead>\n",
              "  <tbody>\n",
              "    <tr>\n",
              "      <th>0</th>\n",
              "      <td>호반</td>\n",
              "      <td>Rating : 👍👍👍\\nPlace : 낙원동 호반\\n\\n종로 3가 낙원상가 인근에...</td>\n",
              "    </tr>\n",
              "    <tr>\n",
              "      <th>1</th>\n",
              "      <td>호반</td>\n",
              "      <td>여기 진짜 노포 찐맛집이네요. 병어조림을 먹었는데, 양념벨런스가 너무 좋고 입에서 ...</td>\n",
              "    </tr>\n",
              "    <tr>\n",
              "      <th>2</th>\n",
              "      <td>호반</td>\n",
              "      <td>순대국밥에 들어있는 순대가 너무 특이하네요. 하얀색 대창??에 속에 두부가 들어있어...</td>\n",
              "    </tr>\n",
              "    <tr>\n",
              "      <th>3</th>\n",
              "      <td>호반</td>\n",
              "      <td>예전부터 여러 블러거들의  맛있다는 소문은 들었지만 우연찮게 지나다 들렀던 집.\\n...</td>\n",
              "    </tr>\n",
              "    <tr>\n",
              "      <th>4</th>\n",
              "      <td>호반</td>\n",
              "      <td>순대를 좋아하고, 노포를 좋아한다면 가볼만한 곳\\n다만 가게가 크지 않아 1차보다는...</td>\n",
              "    </tr>\n",
              "  </tbody>\n",
              "</table>\n",
              "</div>"
            ],
            "text/plain": [
              "   식당                                                 리뷰\n",
              "0  호반  Rating : 👍👍👍\\nPlace : 낙원동 호반\\n\\n종로 3가 낙원상가 인근에...\n",
              "1  호반  여기 진짜 노포 찐맛집이네요. 병어조림을 먹었는데, 양념벨런스가 너무 좋고 입에서 ...\n",
              "2  호반  순대국밥에 들어있는 순대가 너무 특이하네요. 하얀색 대창??에 속에 두부가 들어있어...\n",
              "3  호반  예전부터 여러 블러거들의  맛있다는 소문은 들었지만 우연찮게 지나다 들렀던 집.\\n...\n",
              "4  호반  순대를 좋아하고, 노포를 좋아한다면 가볼만한 곳\\n다만 가게가 크지 않아 1차보다는..."
            ]
          },
          "execution_count": 25,
          "metadata": {},
          "output_type": "execute_result"
        }
      ],
      "source": [
        "import pandas as pd\n",
        "\n",
        "df = pd.read_csv('filtered_review.csv')\n",
        "df.head()"
      ]
    },
    {
      "cell_type": "code",
      "execution_count": 26,
      "metadata": {
        "colab": {
          "base_uri": "https://localhost:8080/"
        },
        "id": "nTA57QCRfSla",
        "outputId": "9a74ef6f-59c2-41af-a1c0-4285c6003532"
      },
      "outputs": [
        {
          "data": {
            "text/plain": [
              "276"
            ]
          },
          "execution_count": 26,
          "metadata": {},
          "output_type": "execute_result"
        }
      ],
      "source": [
        "len(set(df['식당']))"
      ]
    },
    {
      "cell_type": "code",
      "execution_count": 27,
      "metadata": {
        "id": "wi-MeC0Hebtp"
      },
      "outputs": [],
      "source": [
        "import pickle\n",
        "\n",
        "with open('store.pkl', 'wb') as f:\n",
        "  pickle.dump(set(df['식당']), f)"
      ]
    },
    {
      "cell_type": "code",
      "execution_count": 28,
      "metadata": {
        "id": "JuCtPgTve1BT"
      },
      "outputs": [],
      "source": [
        "store = set()\n",
        "with open('store.pkl', 'rb') as f:\n",
        "  store = pickle.load(f)"
      ]
    },
    {
      "cell_type": "code",
      "execution_count": 29,
      "metadata": {
        "colab": {
          "base_uri": "https://localhost:8080/"
        },
        "id": "OiOVVTAzfz6A",
        "outputId": "f31ff627-c2c8-464a-8522-499c024cc794"
      },
      "outputs": [
        {
          "data": {
            "text/plain": [
              "276"
            ]
          },
          "execution_count": 29,
          "metadata": {},
          "output_type": "execute_result"
        }
      ],
      "source": [
        "len(store)"
      ]
    },
    {
      "cell_type": "code",
      "execution_count": 30,
      "metadata": {
        "colab": {
          "base_uri": "https://localhost:8080/"
        },
        "id": "-jiBNt38gI2f",
        "outputId": "a54c310e-6c24-4ce5-cf38-05a496228a7c"
      },
      "outputs": [
        {
          "data": {
            "text/plain": [
              "{'1인피자피자먹다-일산역점',\n",
              " '60년전통신촌황소곱창 건대직영점',\n",
              " '853',\n",
              " 'bd버거 성수',\n",
              " '가양칼국수버섯매운탕',\n",
              " '간장삼겹살 동방생고기 건대점',\n",
              " '갈빗',\n",
              " '감동식당',\n",
              " '감성타코 건대점',\n",
              " '강강술래 상계점',\n",
              " '강남진해장',\n",
              " '건대 숯불부자곱창',\n",
              " '건대사시미',\n",
              " '건대우동집',\n",
              " '건대커피 랩',\n",
              " '건대포항막회',\n",
              " '경복식당',\n",
              " '경성양육관 건대',\n",
              " '경성초밥',\n",
              " '경양식이화-죽전점',\n",
              " '고레카레-장항점',\n",
              " '고로고로 성수',\n",
              " '고반식당 서여의도점',\n",
              " '고베규카츠 건대점',\n",
              " '고육담 건대본점',\n",
              " '고향양꼬치 건대점',\n",
              " '곰국시집',\n",
              " '곳 노원본점',\n",
              " '공덕리 산장',\n",
              " '구구당',\n",
              " '구구향훠궈 건대직영점',\n",
              " '굴림샤브&콩국수 건대점',\n",
              " '금각도 여의도점',\n",
              " '금자네생등심',\n",
              " '기후',\n",
              " '꾸아 건대점',\n",
              " '꾸아 성수점',\n",
              " '나리식당 청담',\n",
              " '날라리 범 건대점',\n",
              " '남도식당',\n",
              " '남산산채집',\n",
              " '냅다청양집 노원역점',\n",
              " '노원왕곱창',\n",
              " '노크 건대직영점',\n",
              " '농부와닭동네 여의도MBC점',\n",
              " '뉴웨이브서울 건대점',\n",
              " '니뽕내뽕 건대본점',\n",
              " '니뽕내뽕 노원역점',\n",
              " '니토',\n",
              " '닭한마리 공릉본점',\n",
              " '당산끝집',\n",
              " '대원집',\n",
              " '도도곱창 건대본점',\n",
              " '도쿄빙수 건대점',\n",
              " '돈까스먹는용만이',\n",
              " '돈돈정 그랑서울점',\n",
              " '동경화로 문래점',\n",
              " '동해참치-보정점',\n",
              " '돼봉삼겹살 건대점',\n",
              " '뜨거웍시애틀아시안퓨전',\n",
              " '라화쿵부 건대점',\n",
              " '로니로티 건대점',\n",
              " '로니로티 노원점',\n",
              " '로바 더현대서울점',\n",
              " '리틀파스타 공릉본점',\n",
              " '마굿간생고기',\n",
              " '마녀짜장-수원월드컵점',\n",
              " '마라왕',\n",
              " '마라집-수지성복지점',\n",
              " '마라집-용인보정지점',\n",
              " '마초쉐프 건대점',\n",
              " '마츠노하나 더현대서울점',\n",
              " '만경상회 건대본점',\n",
              " '맛짱조개',\n",
              " '맥주꾼 건대본점',\n",
              " '메시야',\n",
              " '목포집',\n",
              " '몽실디저트',\n",
              " '무끼',\n",
              " '무식당 성수본점',\n",
              " '무월식탁 타임스퀘어점',\n",
              " '문츠 바베큐',\n",
              " '문화식당',\n",
              " '미도인 건대',\n",
              " '미도인 성수',\n",
              " '미도인 파이낸스여의도',\n",
              " '방돈식당',\n",
              " '백소정 건대본점',\n",
              " '번패티번 더현대서울점',\n",
              " '베르데 문래',\n",
              " '베르데커피',\n",
              " '벽제갈비 방이본점',\n",
              " '보승회관 건대입구역점',\n",
              " '봉땅 서울숲점',\n",
              " '봉자막창 공릉역점',\n",
              " '브라더매운갈비찜 문래본점',\n",
              " '브라운돈까스 노원역점',\n",
              " '브로트아트',\n",
              " '브이엔디 성수본점',\n",
              " '빽돈 노원상계점',\n",
              " '뽕씨네얼큰수제비 영등포본점',\n",
              " '사대부집 곳간',\n",
              " '사위식당 여의도점',\n",
              " '삼우정',\n",
              " '상계동 원조닭갈비',\n",
              " '새벽스시',\n",
              " '생각보다맛있는집',\n",
              " '샤브올데이 당산점',\n",
              " '서교주담 건대',\n",
              " '서궁',\n",
              " '서양집',\n",
              " '서울고기집',\n",
              " '서울고깃집',\n",
              " '서울곰탕',\n",
              " '서울뚝배기',\n",
              " '서울맛집',\n",
              " '서울미트볼 공덕점',\n",
              " '서울안심축산 구로거리공원본점',\n",
              " '설매네',\n",
              " '설화',\n",
              " '성수다락',\n",
              " '세광양대창 문래점',\n",
              " '세광양대창 영등포점',\n",
              " '세상의모든아침',\n",
              " '소공동뚝배기집 본점',\n",
              " '소몽 여의도',\n",
              " '손씨옛날통닭',\n",
              " '솔솥 건대스타시티점',\n",
              " '솔솥 노원점',\n",
              " '수락이오냉면 노원본점',\n",
              " '수지상회 건대점',\n",
              " '숨바꼭질쿠키',\n",
              " '스시마고 롯데백화점 노원점',\n",
              " '스시오 건대점',\n",
              " '스윗레시피',\n",
              " '시골야채된장',\n",
              " '시골집',\n",
              " '시장을여는사람들 건대점',\n",
              " '시키카츠',\n",
              " '신가네칼국수',\n",
              " '신사소곱창',\n",
              " '신타코야끼',\n",
              " '심퍼티쿠시 성수점',\n",
              " '싱카이 여의도점',\n",
              " '쑡',\n",
              " '아루히',\n",
              " '아웃백스테이크하우스 건대스타시티점',\n",
              " '아웃캐스트',\n",
              " '양미옥 남대문점',\n",
              " '양상블',\n",
              " '양키스그릴',\n",
              " '양화냉삼 문래본점',\n",
              " '엠브로돈까스 노원점',\n",
              " '역전소금구이',\n",
              " '연남동롤집',\n",
              " '연어시장 석계본점',\n",
              " '옛맛서울불고기',\n",
              " '옛집',\n",
              " '오누이',\n",
              " '오마카세 오사이초밥 건대본점',\n",
              " '오복수산 여의도점',\n",
              " '오유미당 건대점',\n",
              " '옥된장 여의도점',\n",
              " '온달집 건대점',\n",
              " '온미동',\n",
              " '온쌀국수-죽전점',\n",
              " '온화정',\n",
              " '올데이파스타-일산본점',\n",
              " '용용선생 건대점',\n",
              " '용호동낙지 여의도점',\n",
              " '우림정',\n",
              " '우미옥',\n",
              " '우육미',\n",
              " '워킹온더클라우드',\n",
              " '원조호수삼계탕',\n",
              " '원할머니보쌈족발 수락산점',\n",
              " '육곱하기',\n",
              " '육수정 영등포역본점',\n",
              " '육일관 건대본점',\n",
              " '육회관포차 여의도점',\n",
              " '을지다락 여의도',\n",
              " '응순가재골수제비',\n",
              " '이수쭈꾸미 서여의도점',\n",
              " '이스트빌리지 서울',\n",
              " '이자와 여의도직영점',\n",
              " '이자카야 콤마',\n",
              " '이자카야나무 여의도점',\n",
              " '이타마에',\n",
              " '이태리국시 성수',\n",
              " '장미술상 건대점',\n",
              " '장수집',\n",
              " '장안동 본참치',\n",
              " '장어나루 여의도본점',\n",
              " '장인닭갈비 건대점',\n",
              " '전통평양냉면 제형면옥 하계점',\n",
              " '정남옥',\n",
              " '정인면옥 본점',\n",
              " '정통집 노원점',\n",
              " '젠카츠 공릉본점',\n",
              " '죠티인도레스토랑 충무로점',\n",
              " '중경식객 건대점',\n",
              " '중계고기파티 노원본점',\n",
              " '중앙감속기',\n",
              " '진도켄 성수점',\n",
              " '진맥 건대점',\n",
              " '진진만두 국회점',\n",
              " '징기스 영등포점',\n",
              " '짚화',\n",
              " '쭈꾸미달인2 노원점',\n",
              " '쭈꾸미도사 공릉점',\n",
              " '차만다 서울숲점',\n",
              " '차알 여의도 IFC몰점',\n",
              " '천우목장 영등포점',\n",
              " '청송옥',\n",
              " '청수우동메밀냉면',\n",
              " '청아식당',\n",
              " '청진식당',\n",
              " '최원석의돼지한판&서해쭈꾸미 건대1호점',\n",
              " '춘향미엔',\n",
              " '치킨100-백석점',\n",
              " '칠커피바',\n",
              " '카린지린가네스낵바 성수본점',\n",
              " '카사블랑카 샌드위치',\n",
              " '카페 레이어드 더현대서울점',\n",
              " '칼리프하우스 문래',\n",
              " '커피콩',\n",
              " '켄싱턴호텔 여의도 브로드웨이',\n",
              " '코타 텍사스바베큐',\n",
              " '콘래드서울 제스트',\n",
              " '쿠방플러스',\n",
              " '쿠우쿠우 블루레일 건대직영점',\n",
              " '퀸 스테이크',\n",
              " '탐광',\n",
              " '탐나는피자-덕양점',\n",
              " '탐나미니박스-덕양점',\n",
              " '탕화쿵푸마라탕 공릉점',\n",
              " '탕화쿵푸마라탕-보정점',\n",
              " '탭퍼블릭 여의도점',\n",
              " '테이스팅룸 IFC몰',\n",
              " '투또톤토',\n",
              " '파운드그레도',\n",
              " '팔각도 노원역점',\n",
              " '팔각도 상계역점',\n",
              " '패티앤베지스_타번',\n",
              " '편편집 노원역점',\n",
              " '평정원 건대점',\n",
              " '포포유 IFC몰점',\n",
              " '풍미연',\n",
              " '프레쉬 엔지니어드 여의도점',\n",
              " '피자알볼로-죽전점',\n",
              " '피치딜라잇',\n",
              " '하동관 여의도직영1호점',\n",
              " '하이디라오 건대지점',\n",
              " '한양화로 영등포문래점',\n",
              " '한일식당',\n",
              " '함흥본가면옥 건대점',\n",
              " '합정옥',\n",
              " '핫쵸 성수점',\n",
              " '해품장팔팔장어 본점',\n",
              " '핵밥 건대점',\n",
              " '헤비스테이크 여의도점',\n",
              " '헬로크랩용인점-대게,킹크랩,랍스타배달포장전문',\n",
              " '현대칼국수',\n",
              " '호랭이반점 당산역점',\n",
              " '호반',\n",
              " '호우섬 더현대서울점',\n",
              " '호우양꼬치 문래점',\n",
              " '홍중샤브뷔페',\n",
              " '화담',\n",
              " '화목순대국',\n",
              " '화양양꼬치 건대점',\n",
              " '화양연가 1호점',\n",
              " '화해당 여의도점',\n",
              " '회장님댁 노원점',\n",
              " '횡성생고기집',\n",
              " '후라토식당 여의도직영점'}"
            ]
          },
          "execution_count": 30,
          "metadata": {},
          "output_type": "execute_result"
        }
      ],
      "source": [
        "store"
      ]
    },
    {
      "cell_type": "markdown",
      "metadata": {
        "id": "c9tt-5Ahtxcj"
      },
      "source": [
        "# LLM"
      ]
    },
    {
      "cell_type": "code",
      "execution_count": null,
      "metadata": {
        "id": "NVBv6f4FtnyD"
      },
      "outputs": [],
      "source": [
        "# LLM 환경 만들기\n",
        "from langchain.prompts import PromptTemplate\n",
        "import os\n",
        "from langchain.llms import OpenAI\n",
        "\n",
        "os.environ['OPENAI_API_KEY'] = ''"
      ]
    },
    {
      "cell_type": "code",
      "execution_count": 34,
      "metadata": {
        "colab": {
          "base_uri": "https://localhost:8080/"
        },
        "id": "qIRe_Cnjp_pO",
        "outputId": "a8d7efce-f09d-4168-d48f-8c3f6e9940cf"
      },
      "outputs": [
        {
          "name": "stderr",
          "output_type": "stream",
          "text": [
            "C:\\NLP\\nlp\\Lib\\site-packages\\langchain_community\\llms\\openai.py:253: UserWarning: You are trying to use a chat model. This way of initializing it is no longer supported. Instead, please use: `from langchain_community.chat_models import ChatOpenAI`\n",
            "  warnings.warn(\n",
            "C:\\NLP\\nlp\\Lib\\site-packages\\langchain_community\\llms\\openai.py:1076: UserWarning: You are trying to use a chat model. This way of initializing it is no longer supported. Instead, please use: `from langchain_community.chat_models import ChatOpenAI`\n",
            "  warnings.warn(\n"
          ]
        },
        {
          "name": "stdout",
          "output_type": "stream",
          "text": [
            "서울뚝배기 식당에 대한 리뷰를 종합해보면, 전반적으로 맛, 양, 가격, 서비스 모두에서 긍정적인 평가를 받고 있습니다.\n",
            "\n",
            "**맛**: 이 식당의 대표 메뉴인 해물된장찌개와 미역국, 북어국은 대체로 맛있다는 의견이 많습니다. 특히 해물된장찌개는 진한 국물 맛이 좋고, 미역국과 북어국도 깔끔하고 건강한 맛으로 호평받고 있습니다. 반찬들도 신선하고 맛있다는 평가가 많아, 전반적으로 음식의 맛이 만족스럽다는 점이 강조됩니다.\n",
            "\n",
            "**양**: 식사 메뉴는 가격 대비 양이 적당하다는 의견이 많습니다. 9,000원의 가격에 제공되는 메뉴는 한 끼 식사로 충분하며, 비빔밥 재료가 함께 제공되어 양을 늘릴 수 있는 점도 긍정적으로 언급됩니다. 다만, 일부 리뷰에서는 반찬의 양이 다소 부족하다는 지적도 있습니다.\n",
            "\n",
            "**가격**: 가격은 대체로 합리적이라는 평가가 많습니다. 9,000원이라는 가격에 비해 음식의 질과 양이 괜찮다는 의견이 많아 가성비가 좋다고 할 수 있습니다. 특히 점심 메뉴는 8,000원으로 제공되어 부담 없이 이용할 수 있는 점이 장점으로 꼽힙니다.\n",
            "\n",
            "**서비스**: 서비스는 전반적으로 신속하고 친절하다는 평가가 많습니다. 직원들이 친절하게 응대하며, 음식이 빨리 나오는 점이 바쁜 직장인들에게 특히 좋다는 의견이 있습니다. 다만, 일부 리뷰에서는 서비스가 다소 아쉬운 부분도 있다는 언급이 있었습니다.\n",
            "\n",
            "결론적으로, 서울뚝배기 식당은 맛과 가격, 서비스 모두에서 긍정적인 평가를 받고 있으며, 특히 해물된장찌개와 미역국이 인기 있는 메뉴로 자리 잡고 있습니다. 건강한 한식을 원하시는 분들에게 추천할 만한 곳입니다."
          ]
        }
      ],
      "source": [
        "# 100개의 리뷰를 넣는 프롬프트템플릿 만들기\n",
        "template = \"\"\"\n",
        "너는 {store} 식당의 리뷰들을 요약해주는 ai야.\n",
        "리뷰들 요약해서 맛, 양, 가격, 서비스 부분에서 어떤지 줄글로 설명해줘.\n",
        "리뷰는 {text}야.\n",
        "\"\"\"\n",
        "\n",
        "query = '서울뚝배기'\n",
        "template = PromptTemplate.from_template(template=template)\n",
        "custom_prompt = template.format(store=query, text=[review for review in df.loc[df['식당']==query, '리뷰'][:100]])\n",
        "\n",
        "gpt = OpenAI(\n",
        "    model_name=\"gpt-4o-mini\",\n",
        "    temperature = 0.3\n",
        "    )\n",
        "\n",
        "\n",
        "response = gpt.invoke(custom_prompt)\n",
        "\n",
        "for chunk in response:\n",
        "    print(chunk, end=\"\", flush=True)"
      ]
    },
    {
      "cell_type": "markdown",
      "metadata": {
        "id": "1evIf57fl2ot"
      },
      "source": [
        "## 함수 만들기"
      ]
    },
    {
      "cell_type": "code",
      "execution_count": 38,
      "metadata": {
        "id": "Qf6SdI7yhcmG"
      },
      "outputs": [],
      "source": [
        "def summary(query):\n",
        "  query = query.replace(' ', '')\n",
        "\n",
        "  if query == '':\n",
        "    return '가게 이름을 입력해주세요!'\n",
        "  if query not in store:\n",
        "    return '가게 이름이 잘못되었습니다!'\n",
        "  custom_prompt = template.format(store=query, text=[review for review in df.loc[df['식당']==query, '리뷰'][:100]])\n",
        "\n",
        "  response = gpt.invoke(custom_prompt)\n",
        "\n",
        "  chunk = ''\n",
        "  for res in response:\n",
        "    chunk += res\n",
        "  return chunk\n",
        "\n",
        "s = summary('서울 뚝배기')"
      ]
    },
    {
      "cell_type": "code",
      "execution_count": 39,
      "metadata": {
        "colab": {
          "base_uri": "https://localhost:8080/"
        },
        "id": "rNpUiMPkkOmw",
        "outputId": "7f3b145c-f06e-4b58-e3e5-622122d68650"
      },
      "outputs": [
        {
          "name": "stdout",
          "output_type": "stream",
          "text": [
            "서울뚝배기 식당에 대한 리뷰들을 종합해보면, 이곳은 전통적인 한식 메뉴를 제공하는 식당으로, 주로 미역국, 된장국, 순두부찌개, 북어국 등 4가지 찌개를 아침 시간에 주로 판매합니다. \n",
            "\n",
            "**맛**: 전반적으로 음식의 맛은 만족스럽다는 평이 많습니다. 특히 미역국과 해물된장찌개는 깊고 깔끔한 맛으로 호평을 받으며, 반찬들도 신선하고 맛있다는 의견이 많습니다. 그러나 일부 리뷰에서는 특정 메뉴가 평범하다는 의견도 있어, 개인의 취향에 따라 다소 차이가 있을 수 있습니다.\n",
            "\n",
            "**양**: 양에 대한 평가는 대체로 긍정적입니다. 식사와 함께 제공되는 반찬들이 적절히 구성되어 있어, 한 끼 식사로 충분하다는 의견이 많습니다. 특히 비빔밥 재료가 제공되어 추가적인 맛을 즐길 수 있다는 점이 좋게 평가됩니다.\n",
            "\n",
            "**가격**: 가격은 9,000원으로 저렴한 편이며, 가성비가 뛰어나다는 평이 많습니다. 특히 이 가격에 제공되는 음식의 질과 양을 고려할 때, 매우 합리적이라는 의견이 지배적입니다.\n",
            "\n",
            "**서비스**: 서비스는 전반적으로 신속하고 친절하다는 평가를 받고 있습니다. 직원들이 바쁜 시간에도 효율적으로 서빙을 해주며, 고객 응대가 잘 되어 있다는 점이 긍정적으로 언급되고 있습니다. 다만, 일부 리뷰에서는 서비스가 다소 부족하다는 의견도 있어, 일관성에 대한 아쉬움이 남기도 합니다.\n",
            "\n",
            "종합적으로 서울뚝배기 식당은 전통적인 한식을 저렴한 가격에 제공하며, 맛과 양, 서비스 모두에서 괜찮은 평가를 받고 있는 곳으로, 특히 아침식사나 간단한 점심을 원하는 손님들에게 추천할 만한 식당입니다.\n"
          ]
        }
      ],
      "source": [
        "print(s)"
      ]
    },
    {
      "cell_type": "markdown",
      "metadata": {
        "id": "tpOjQnB1tXqU"
      },
      "source": [
        "# 그라디오"
      ]
    },
    {
      "cell_type": "code",
      "execution_count": null,
      "metadata": {
        "id": "CpaAaoV4tevc"
      },
      "outputs": [],
      "source": [
        "import pandas as pd\n",
        "\n",
        "df = pd.read_csv('filtered_review.csv')\n",
        "df.head()"
      ]
    },
    {
      "cell_type": "code",
      "execution_count": null,
      "metadata": {
        "id": "_eyc54sVtZSL"
      },
      "outputs": [],
      "source": [
        "import gradio as gr\n",
        "\n",
        "template = \"\"\"\n",
        "  너는 {store} 식당의 리뷰들을 요약해주는 ai야.\n",
        "  리뷰들 요약해서 맛, 양, 가격, 서비스 부분에서 어떤지 줄글로 설명해줘.\n",
        "  리뷰는 {text}야.\n",
        "\"\"\"\n",
        "\n",
        "template = PromptTemplate.from_template(template=template)\n",
        "gpt = OpenAI(\n",
        "      model_name=\"gpt-4o-mini\",\n",
        "      temperature = 0.3\n",
        ")"
      ]
    },
    {
      "cell_type": "code",
      "execution_count": null,
      "metadata": {
        "id": "TEP5k9oqth4U"
      },
      "outputs": [],
      "source": [
        "store = set()\n",
        "with open('store.pkl', 'rb') as f:\n",
        "  store = pickle.load(f)"
      ]
    },
    {
      "cell_type": "code",
      "execution_count": 60,
      "metadata": {
        "colab": {
          "base_uri": "https://localhost:8080/",
          "height": 575
        },
        "id": "hVkXWg0el0Vt",
        "outputId": "8c338c6f-9a8e-4403-d8c7-97b6f4554293"
      },
      "outputs": [
        {
          "name": "stdout",
          "output_type": "stream",
          "text": [
            "Running on local URL:  http://127.0.0.1:7876\n",
            "\n",
            "To create a public link, set `share=True` in `launch()`.\n"
          ]
        },
        {
          "data": {
            "text/html": [
              "<div><iframe src=\"http://127.0.0.1:7876/\" width=\"100%\" height=\"500\" allow=\"autoplay; camera; microphone; clipboard-read; clipboard-write;\" frameborder=\"0\" allowfullscreen></iframe></div>"
            ],
            "text/plain": [
              "<IPython.core.display.HTML object>"
            ]
          },
          "metadata": {},
          "output_type": "display_data"
        },
        {
          "data": {
            "text/plain": []
          },
          "execution_count": 60,
          "metadata": {},
          "output_type": "execute_result"
        }
      ],
      "source": [
        "def summary(query):\n",
        "  query = query.replace(' ', '')\n",
        "\n",
        "  if query == '':\n",
        "    return '가게 이름을 입력해주세요!'\n",
        "  if query not in store:\n",
        "    return '가게 이름이 잘못되었습니다!'\n",
        "  custom_prompt = template.format(store=query, text=[review for review in df.loc[df['식당']==query, '리뷰'][:100]])\n",
        "\n",
        "  response = gpt.invoke(custom_prompt)\n",
        "\n",
        "  chunk = ''\n",
        "  for res in response:\n",
        "    chunk += res\n",
        "  return chunk\n",
        "\n",
        "with gr.Blocks() as app:\n",
        "  with gr.Row():\n",
        "    inputs = gr.Textbox(label = '가게',  placeholder='가게 이름을 입력하세요')\n",
        "    with gr.Column():\n",
        "      clear_btn = gr.Button('초기화')\n",
        "      send_btn = gr.Button('제출')\n",
        "\n",
        "  with gr.Row():\n",
        "    outputs = gr.Textbox(label='리뷰 요약', lines=3)\n",
        "\n",
        "  send_btn.click(fn=summary, inputs=inputs, outputs=outputs)\n",
        "  clear_btn.click(fn = lambda: ['',''], inputs=None, outputs=[inputs, outputs])\n",
        "\n",
        "app.launch()"
      ]
    },
    {
      "cell_type": "markdown",
      "metadata": {
        "id": "-qmPLruZuz7h"
      },
      "source": [
        "# 그라디오 화면"
      ]
    },
    {
      "cell_type": "markdown",
      "metadata": {
        "id": "dbj3s--yux1R"
      },
      "source": [
        "![image.png](data:image/png;base64,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)"
      ]
    },
    {
      "cell_type": "markdown",
      "metadata": {
        "id": "SlwZMtJ8xayd"
      },
      "source": [
        "![image.png](data:image/png;base64,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)"
      ]
    }
  ],
  "metadata": {
    "colab": {
      "provenance": []
    },
    "kernelspec": {
      "display_name": "Python 3",
      "name": "python3"
    },
    "language_info": {
      "name": "python"
    }
  },
  "nbformat": 4,
  "nbformat_minor": 0
}

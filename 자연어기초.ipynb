{
  "nbformat": 4,
  "nbformat_minor": 0,
  "metadata": {
    "colab": {
      "provenance": []
    },
    "kernelspec": {
      "name": "python3",
      "display_name": "Python 3"
    },
    "language_info": {
      "name": "python"
    }
  },
  "cells": [
    {
      "cell_type": "code",
      "execution_count": null,
      "metadata": {
        "colab": {
          "base_uri": "https://localhost:8080/"
        },
        "id": "IB3Iq4uvnWtZ",
        "outputId": "61de2fee-eefa-4391-888d-37fd78af98ab"
      },
      "outputs": [
        {
          "output_type": "stream",
          "name": "stdout",
          "text": [
            "Collecting konlpy\n",
            "  Downloading konlpy-0.6.0-py2.py3-none-any.whl.metadata (1.9 kB)\n",
            "Collecting JPype1>=0.7.0 (from konlpy)\n",
            "  Downloading JPype1-1.5.0-cp310-cp310-manylinux_2_17_x86_64.manylinux2014_x86_64.whl.metadata (4.9 kB)\n",
            "Requirement already satisfied: lxml>=4.1.0 in /usr/local/lib/python3.10/dist-packages (from konlpy) (4.9.4)\n",
            "Requirement already satisfied: numpy>=1.6 in /usr/local/lib/python3.10/dist-packages (from konlpy) (1.25.2)\n",
            "Requirement already satisfied: packaging in /usr/local/lib/python3.10/dist-packages (from JPype1>=0.7.0->konlpy) (24.1)\n",
            "Downloading konlpy-0.6.0-py2.py3-none-any.whl (19.4 MB)\n",
            "\u001b[2K   \u001b[90m━━━━━━━━━━━━━━━━━━━━━━━━━━━━━━━━━━━━━━━━\u001b[0m \u001b[32m19.4/19.4 MB\u001b[0m \u001b[31m41.8 MB/s\u001b[0m eta \u001b[36m0:00:00\u001b[0m\n",
            "\u001b[?25hDownloading JPype1-1.5.0-cp310-cp310-manylinux_2_17_x86_64.manylinux2014_x86_64.whl (488 kB)\n",
            "\u001b[2K   \u001b[90m━━━━━━━━━━━━━━━━━━━━━━━━━━━━━━━━━━━━━━━━\u001b[0m \u001b[32m488.6/488.6 kB\u001b[0m \u001b[31m16.6 MB/s\u001b[0m eta \u001b[36m0:00:00\u001b[0m\n",
            "\u001b[?25hInstalling collected packages: JPype1, konlpy\n",
            "Successfully installed JPype1-1.5.0 konlpy-0.6.0\n"
          ]
        }
      ],
      "source": [
        "!pip install konlpy"
      ]
    },
    {
      "cell_type": "code",
      "source": [
        "from konlpy.tag import Okt\n",
        "\n",
        "okt = Okt()\n",
        "\n",
        "sentence = '국내에서도 10대 청소년의 사회관계망서비스(SNS) 중독에 대한 우려가 커진 상황에서 동영상과 사진 등 이미지 중심의 SNS인 인스타그램의 상승세가 두드러진다.'\n",
        "\n",
        "okt.morphs(sentence)"
      ],
      "metadata": {
        "colab": {
          "base_uri": "https://localhost:8080/"
        },
        "id": "F4_MmTEv0c4F",
        "outputId": "df139aee-df8a-45ca-dfc7-f56efa90bcad"
      },
      "execution_count": null,
      "outputs": [
        {
          "output_type": "execute_result",
          "data": {
            "text/plain": [
              "['국내',\n",
              " '에서도',\n",
              " '10',\n",
              " '대',\n",
              " '청소년',\n",
              " '의',\n",
              " '사회',\n",
              " '관계',\n",
              " '망',\n",
              " '서비스',\n",
              " '(',\n",
              " 'SNS',\n",
              " ')',\n",
              " '중독',\n",
              " '에',\n",
              " '대한',\n",
              " '우려',\n",
              " '가',\n",
              " '커진',\n",
              " '상황',\n",
              " '에서',\n",
              " '동영상',\n",
              " '과',\n",
              " '사진',\n",
              " '등',\n",
              " '이미지',\n",
              " '중심',\n",
              " '의',\n",
              " 'SNS',\n",
              " '인',\n",
              " '인스타그램',\n",
              " '의',\n",
              " '상승세',\n",
              " '가',\n",
              " '두드러진다',\n",
              " '.']"
            ]
          },
          "metadata": {},
          "execution_count": 3
        }
      ]
    },
    {
      "cell_type": "code",
      "source": [
        "okt.pos(sentence)"
      ],
      "metadata": {
        "colab": {
          "base_uri": "https://localhost:8080/"
        },
        "id": "k2MKiuXa1pow",
        "outputId": "8f21cdd4-7ca5-42b2-98a2-ec2cbdf610dc"
      },
      "execution_count": null,
      "outputs": [
        {
          "output_type": "execute_result",
          "data": {
            "text/plain": [
              "[('국내', 'Noun'),\n",
              " ('에서도', 'Josa'),\n",
              " ('10', 'Number'),\n",
              " ('대', 'Verb'),\n",
              " ('청소년', 'Noun'),\n",
              " ('의', 'Josa'),\n",
              " ('사회', 'Noun'),\n",
              " ('관계', 'Noun'),\n",
              " ('망', 'Noun'),\n",
              " ('서비스', 'Noun'),\n",
              " ('(', 'Punctuation'),\n",
              " ('SNS', 'Alpha'),\n",
              " (')', 'Punctuation'),\n",
              " ('중독', 'Noun'),\n",
              " ('에', 'Josa'),\n",
              " ('대한', 'Noun'),\n",
              " ('우려', 'Noun'),\n",
              " ('가', 'Josa'),\n",
              " ('커진', 'Verb'),\n",
              " ('상황', 'Noun'),\n",
              " ('에서', 'Josa'),\n",
              " ('동영상', 'Noun'),\n",
              " ('과', 'Josa'),\n",
              " ('사진', 'Noun'),\n",
              " ('등', 'Noun'),\n",
              " ('이미지', 'Noun'),\n",
              " ('중심', 'Noun'),\n",
              " ('의', 'Josa'),\n",
              " ('SNS', 'Alpha'),\n",
              " ('인', 'Noun'),\n",
              " ('인스타그램', 'Noun'),\n",
              " ('의', 'Josa'),\n",
              " ('상승세', 'Noun'),\n",
              " ('가', 'Josa'),\n",
              " ('두드러진다', 'Adjective'),\n",
              " ('.', 'Punctuation')]"
            ]
          },
          "metadata": {},
          "execution_count": 4
        }
      ]
    },
    {
      "cell_type": "code",
      "source": [
        "sentence = '국내에서도 10대 청소년의 사회관계망서비스(SNS) 중독에 대한 우려가 커진 상황에서 동영상과 사진 등 이미지 중심의 SNS인 인스타그램의 상승세가 두드러진다.'\n",
        "\n",
        "result = okt.morphs(sentence)\n",
        "\n",
        "stop_words = '당근 의 가 은 는 저'\n",
        "stop_word = stop_words.split()\n",
        "stop_word = set(stop_word)\n",
        "\n",
        "data = [word for word in result if word not in stop_word]\n",
        "data"
      ],
      "metadata": {
        "colab": {
          "base_uri": "https://localhost:8080/"
        },
        "id": "8wMxWaPu2ITA",
        "outputId": "9e7f327d-f3a9-4789-ce99-e94263a81f04"
      },
      "execution_count": null,
      "outputs": [
        {
          "output_type": "execute_result",
          "data": {
            "text/plain": [
              "['국내',\n",
              " '에서도',\n",
              " '10',\n",
              " '대',\n",
              " '청소년',\n",
              " '사회',\n",
              " '관계',\n",
              " '망',\n",
              " '서비스',\n",
              " '(',\n",
              " 'SNS',\n",
              " ')',\n",
              " '중독',\n",
              " '에',\n",
              " '대한',\n",
              " '우려',\n",
              " '커진',\n",
              " '상황',\n",
              " '에서',\n",
              " '동영상',\n",
              " '과',\n",
              " '사진',\n",
              " '등',\n",
              " '이미지',\n",
              " '중심',\n",
              " 'SNS',\n",
              " '인',\n",
              " '인스타그램',\n",
              " '상승세',\n",
              " '두드러진다',\n",
              " '.']"
            ]
          },
          "metadata": {},
          "execution_count": 7
        }
      ]
    },
    {
      "cell_type": "code",
      "source": [
        "data = okt.nouns(sentence)\n",
        "data"
      ],
      "metadata": {
        "colab": {
          "base_uri": "https://localhost:8080/"
        },
        "id": "ctzpIsVo53S_",
        "outputId": "be8788e7-c523-4925-bbd2-0a0f332b7a0e"
      },
      "execution_count": null,
      "outputs": [
        {
          "output_type": "execute_result",
          "data": {
            "text/plain": [
              "['국내',\n",
              " '청소년',\n",
              " '사회',\n",
              " '관계',\n",
              " '망',\n",
              " '서비스',\n",
              " '중독',\n",
              " '대한',\n",
              " '우려',\n",
              " '상황',\n",
              " '동영상',\n",
              " '사진',\n",
              " '등',\n",
              " '이미지',\n",
              " '중심',\n",
              " '인',\n",
              " '인스타그램',\n",
              " '상승세']"
            ]
          },
          "metadata": {},
          "execution_count": 8
        }
      ]
    },
    {
      "cell_type": "code",
      "source": [
        "import pandas as pd\n",
        "\n",
        "df = pd.DataFrame(data)\n",
        "df.value_counts()"
      ],
      "metadata": {
        "colab": {
          "base_uri": "https://localhost:8080/"
        },
        "id": "P4Ju11in67R1",
        "outputId": "c3b1a012-83fb-4902-a00f-70343106189f"
      },
      "execution_count": null,
      "outputs": [
        {
          "output_type": "execute_result",
          "data": {
            "text/plain": [
              "관계       1\n",
              "국내       1\n",
              "중심       1\n",
              "중독       1\n",
              "인스타그램    1\n",
              "인        1\n",
              "이미지      1\n",
              "우려       1\n",
              "서비스      1\n",
              "상황       1\n",
              "상승세      1\n",
              "사회       1\n",
              "사진       1\n",
              "망        1\n",
              "등        1\n",
              "동영상      1\n",
              "대한       1\n",
              "청소년      1\n",
              "Name: count, dtype: int64"
            ]
          },
          "metadata": {},
          "execution_count": 9
        }
      ]
    },
    {
      "cell_type": "code",
      "source": [
        "from collections import Counter\n",
        "\n",
        "Counter(data)"
      ],
      "metadata": {
        "colab": {
          "base_uri": "https://localhost:8080/"
        },
        "id": "UFV524TH7H42",
        "outputId": "83b14c3f-b679-4960-8f65-936d817bf690"
      },
      "execution_count": null,
      "outputs": [
        {
          "output_type": "execute_result",
          "data": {
            "text/plain": [
              "Counter({'국내': 1,\n",
              "         '청소년': 1,\n",
              "         '사회': 1,\n",
              "         '관계': 1,\n",
              "         '망': 1,\n",
              "         '서비스': 1,\n",
              "         '중독': 1,\n",
              "         '대한': 1,\n",
              "         '우려': 1,\n",
              "         '상황': 1,\n",
              "         '동영상': 1,\n",
              "         '사진': 1,\n",
              "         '등': 1,\n",
              "         '이미지': 1,\n",
              "         '중심': 1,\n",
              "         '인': 1,\n",
              "         '인스타그램': 1,\n",
              "         '상승세': 1})"
            ]
          },
          "metadata": {},
          "execution_count": 10
        }
      ]
    },
    {
      "cell_type": "code",
      "source": [
        "dict_result = dict(Counter(data))\n",
        "dict_result"
      ],
      "metadata": {
        "colab": {
          "base_uri": "https://localhost:8080/"
        },
        "id": "BE3yhZtzAIlO",
        "outputId": "4c4759b1-a4de-40cb-9c8e-312b30009aa6"
      },
      "execution_count": null,
      "outputs": [
        {
          "output_type": "execute_result",
          "data": {
            "text/plain": [
              "{'국내': 1,\n",
              " '청소년': 1,\n",
              " '사회': 1,\n",
              " '관계': 1,\n",
              " '망': 1,\n",
              " '서비스': 1,\n",
              " '중독': 1,\n",
              " '대한': 1,\n",
              " '우려': 1,\n",
              " '상황': 1,\n",
              " '동영상': 1,\n",
              " '사진': 1,\n",
              " '등': 1,\n",
              " '이미지': 1,\n",
              " '중심': 1,\n",
              " '인': 1,\n",
              " '인스타그램': 1,\n",
              " '상승세': 1}"
            ]
          },
          "metadata": {},
          "execution_count": 11
        }
      ]
    },
    {
      "cell_type": "code",
      "source": [
        "from wordcloud import WordCloud\n",
        "import matplotlib.pyplot as plt\n",
        "\n",
        "word_cloud = WordCloud(font_path='/content/NanumGothicBold.ttf' , background_color='white', width=800, height=800, max_font_size=200,colormap='summer')\n",
        "\n",
        "word_cloud = word_cloud.generate_from_frequencies(dict_result)\n",
        "\n",
        "plt.figure(figsize=(10,10))\n",
        "plt.imshow(word_cloud, interpolation='bilinear')\n",
        "plt.axis('off')\n",
        "plt.show()\n",
        "\n"
      ],
      "metadata": {
        "colab": {
          "base_uri": "https://localhost:8080/",
          "height": 807
        },
        "id": "-8XWuE_tBD38",
        "outputId": "fa4b7534-721f-45fe-8915-941e69b94d1c"
      },
      "execution_count": null,
      "outputs": [
        {
          "output_type": "display_data",
          "data": {
            "text/plain": [
              "<Figure size 1000x1000 with 1 Axes>"
            ],
            "image/png": "[encoded data removed]"
          },
          "metadata": {}
        }
      ]
    },
    {
      "cell_type": "code",
      "source": [
        "from konlpy.tag import Okt\n",
        "from collections import Counter\n",
        "\n",
        "okt = Okt()\n",
        "\n",
        "text_data = '''\n",
        "국내에서도 10대 청소년의 사회관계망서비스(SNS) 중독에 대한 우려가 커진 상황에서 동영상과 사진 등 이미지 중심의 SNS인 인스타그램의 상승세가 두드러진다.\n",
        "\n",
        "27일 모바일 빅데이터 기업 아이지에이웍스의 모바일인덱스 데이터에 따르면 지난 6월 국내 '10대 이하'(0∼만 19세) 스마트폰 이용자의 인스타그램 애플리케이션 총사용시간은 9천411만 시간으로 소셜네트워크 부문 1위를 기록했다.\n",
        "\n",
        "2위 카카오톡(4천821만시간)의 약 2배다.\n",
        "\n",
        "10대 이하를 제외한 나머지 연령대에서는 모두 카카오톡 총사용시간이 인스타그램을 앞선다.\n",
        "\n",
        "인스타그램은 만 14세부터 가입할 수 있으며 카카오톡은 가입 연령의 제한이 없다.\n",
        "\n",
        "전체 앱으로 범위를 넓힐 경우 10대 이하의 인스타그램 총사용시간은 유튜브(2억7천787만시간) 다음으로 2위다.\n",
        "\n",
        "또 작년 12월 9천78만시간과 비교하면 6개월 사이 3.7% 늘었다.\n",
        "\n",
        "반면 같은 기간 만 19세 이하의 카카오톡 총사용시간은 7.6% 감소했고 페이스북의 경우 44.1% 급감했다.\n",
        "\n",
        "유튜브는 만 19세 이하의 총사용시간이 6개월 사이 4.2% 줄었다.\n",
        "\n",
        "청소년들 사이에서 글(텍스트) 중심인 카카오톡의 인기가 주춤하고 동영상·사진(이미지)을 앞세운 인스타그램을 즐기는 경향이 강해진 것으로 볼 수 있다.\n",
        "\n",
        "특히 인스타그램은 2021년 숏폼(짧은 영상) 서비스 '릴스'를 출시한 뒤 큰 인기를 끌고 있다.\n",
        "\n",
        "일각에서는 자칫 청소년들이 지나치게 선정적인 SNS 콘텐츠에 노출될 수 있다는 지적이 나온다.\n",
        "\n",
        "한 정보기술(IT) 업계 관계자는 \"인스타그램 등에서 조회수를 노린 자극적 콘텐츠가 늘어날 개연성을 경계해야 한다\"고 말했다.\n",
        "\n",
        "이런 가운데 정치권에서는 청소년의 SNS 중독을 차단하기 위한 법안 개정이 추진되고 있다.\n",
        "\n",
        "국민의힘 김장겸 의원은 지난 17일 소셜미디어에서 청소년을 대상으로 한 맞춤형 정보 제공을 제한하는 '청소년 필터 버블 방지법'(정보통신망법 개정안)을 발의했다.\n",
        "\n",
        "필터 버블은 인터넷 정보 제공자가 이용자의 취향이나 선호도를 분석한 뒤 맞춤형 정보를 제공해 이용자가 선별된 정보만 접하게 되는 것을 가리킨다.\n",
        "\n",
        "그 하루 전인 16일 더불어민주당 윤건영 의원은 SNS 사업자가 14세 미만 아동의 회원 가입을 거부하게 하는 내용의 정보통신망법 개정안을 발의했다.\n",
        "\n",
        "최근 미국을 비롯한 여러 국가에서는 청소년의 SNS 사용에 대한 규제를 강화하는 추세다.\n",
        "\n",
        "미국 플로리다주는 내년부터 14세 미만 아동의 SNS 계정 보유를 금지하기로 했으며 유타주는 18세 미만 아동이 SNS를 이용할 때 부모 허락을 받도록 하는 법안을 만들었다.\n",
        "\n",
        "호주에서도 정치권이 16세 미만 아동의 SNS 접속을 규제하기 위한 방안을 추진하고 있다.\n",
        "\n",
        "또 지난 5월 영국의 통신미디어 규제 당국 오프콤은 페이스북, 인스타그램, 틱톡 등에서 어린이가 자살, 자해, 음란물 등과 연계된 유해 콘텐츠를 보지 못하도록 연령 확인을 강화하는 행정지침을 발표했다.\n",
        "'''"
      ],
      "metadata": {
        "id": "q-dOPrbCXO1B"
      },
      "execution_count": null,
      "outputs": []
    },
    {
      "cell_type": "code",
      "source": [
        "word_freq.items()"
      ],
      "metadata": {
        "colab": {
          "base_uri": "https://localhost:8080/"
        },
        "id": "42nSH9WOaxwM",
        "outputId": "45ee9640-b27a-4d79-aa6f-eb5dfc8265f5"
      },
      "execution_count": null,
      "outputs": [
        {
          "output_type": "execute_result",
          "data": {
            "text/plain": [
              "dict_items([('국내', 2), ('청소년', 7), ('사회', 1), ('관계', 1), ('망', 1), ('서비스', 2), ('중독', 2), ('대한', 2), ('우려', 1), ('상황', 1), ('동영상', 2), ('사진', 2), ('등', 4), ('이미지', 2), ('중심', 2), ('인', 1), ('인스타그램', 9), ('상승세', 1), ('모바일', 2), ('빅데이터', 1), ('기업', 1), ('아이지', 1), ('웍스', 1), ('인덱스', 1), ('데이터', 1), ('지난', 3), ('이하', 5), ('만', 4), ('세', 8), ('스마트폰', 1), ('이용자', 3), ('애플리케이션', 1), ('사용', 6), ('시간', 6), ('소셜', 1), ('네트워크', 1), ('부문', 1), ('위', 5), ('기록', 1), ('카카오', 5), ('톡', 5), ('의', 1), ('약', 1), ('제외', 1), ('나머지', 1), ('연령', 3), ('모두', 1), ('가입', 3), ('수', 3), ('제한', 2), ('전체', 1), ('앱', 1), ('범위', 1), ('경우', 2), ('유튜브', 2), ('다음', 1), ('또', 2), ('작년', 1), ('비교', 1), ('개월', 2), ('사이', 3), ('반면', 1), ('기간', 1), ('감소', 1), ('페이스북', 2), ('급감', 1), ('글', 1), ('텍스트', 1), ('인기', 2), ('주춤', 1), ('경향', 1), ('강해진', 1), ('것', 2), ('볼', 1), ('숏폼', 1), ('영상', 1), ('릴스', 1), ('를', 2), ('출시', 1), ('뒤', 2), ('끌', 1), ('일각', 1), ('자칫', 1), ('선정', 1), ('콘텐츠', 3), ('노출', 1), ('지적', 1), ('정보기술', 1), ('업계', 1), ('관계자', 1), ('회수', 1), ('자극', 1), ('개연', 1), ('경계', 1), ('고', 1), ('말', 1), ('가운데', 1), ('정치권', 2), ('차단', 1), ('법안', 2), ('개정', 1), ('추진', 2), ('국민', 1), ('힘', 1), ('김장', 1), ('겸', 1), ('의원', 2), ('소셜미디어', 1), ('대상', 1), ('맞춤', 2), ('정보', 4), ('제공', 3), ('필터', 2), ('버블', 2), ('방지법', 1), ('정보통신망법', 2), ('개정안', 2), ('발의', 2), ('인터넷', 1), ('취향', 1), ('선호', 1), ('분석', 1), ('선별', 1), ('접', 1), ('그', 1), ('하루', 1), ('전인', 1), ('민주당', 1), ('윤건영', 1), ('사업자', 1), ('미만', 4), ('아동', 4), ('회원', 1), ('거부', 1), ('내용', 1), ('최근', 1), ('미국', 2), ('비롯', 1), ('여러', 1), ('국가', 1), ('규제', 3), ('추세', 1), ('플로리다주', 1), ('내년', 1), ('계정', 1), ('보유', 1), ('금지', 1), ('유타주', 1), ('이용', 1), ('때', 1), ('부모', 1), ('허락', 1), ('호주', 1), ('접속', 1), ('방안', 1), ('영국', 1), ('통신', 1), ('미디어', 1), ('당국', 1), ('오프', 1), ('콤', 1), ('틱톡', 1), ('어린이', 1), ('자살', 1), ('자해', 1), ('음란물', 1), ('계', 1), ('유해', 1), ('보지', 1), ('확인', 1), ('행정', 1), ('지침', 1), ('발표', 1)])"
            ]
          },
          "metadata": {},
          "execution_count": 15
        }
      ]
    },
    {
      "cell_type": "code",
      "source": [
        "text = okt.nouns(text_data)\n",
        "word_freq = Counter(text)\n",
        "\n",
        "word_cleaned = []\n",
        "for word,count in word_freq.items():\n",
        "    if count > 1 and len(word) > 1:\n",
        "        word_cleaned.append((word,count))\n",
        "\n",
        "word_cleaned"
      ],
      "metadata": {
        "colab": {
          "base_uri": "https://localhost:8080/"
        },
        "id": "4ezEFzlFZyJ8",
        "outputId": "61506278-6633-4c5f-99e1-13d8830f768e"
      },
      "execution_count": null,
      "outputs": [
        {
          "output_type": "execute_result",
          "data": {
            "text/plain": [
              "[('국내', 2),\n",
              " ('청소년', 7),\n",
              " ('서비스', 2),\n",
              " ('중독', 2),\n",
              " ('대한', 2),\n",
              " ('동영상', 2),\n",
              " ('사진', 2),\n",
              " ('이미지', 2),\n",
              " ('중심', 2),\n",
              " ('인스타그램', 9),\n",
              " ('모바일', 2),\n",
              " ('지난', 3),\n",
              " ('이하', 5),\n",
              " ('이용자', 3),\n",
              " ('사용', 6),\n",
              " ('시간', 6),\n",
              " ('카카오', 5),\n",
              " ('연령', 3),\n",
              " ('가입', 3),\n",
              " ('제한', 2),\n",
              " ('경우', 2),\n",
              " ('유튜브', 2),\n",
              " ('개월', 2),\n",
              " ('사이', 3),\n",
              " ('페이스북', 2),\n",
              " ('인기', 2),\n",
              " ('콘텐츠', 3),\n",
              " ('정치권', 2),\n",
              " ('법안', 2),\n",
              " ('추진', 2),\n",
              " ('의원', 2),\n",
              " ('맞춤', 2),\n",
              " ('정보', 4),\n",
              " ('제공', 3),\n",
              " ('필터', 2),\n",
              " ('버블', 2),\n",
              " ('정보통신망법', 2),\n",
              " ('개정안', 2),\n",
              " ('발의', 2),\n",
              " ('미만', 4),\n",
              " ('아동', 4),\n",
              " ('미국', 2),\n",
              " ('규제', 3)]"
            ]
          },
          "metadata": {},
          "execution_count": 18
        }
      ]
    },
    {
      "cell_type": "code",
      "source": [
        "word_cleaned.sort(key = lambda x: x[1] , reverse=True)\n",
        "word_cleaned"
      ],
      "metadata": {
        "colab": {
          "base_uri": "https://localhost:8080/"
        },
        "id": "yMoYXh_JceLd",
        "outputId": "23241fdc-ca07-4b87-cbc0-3c0fe1c4af12"
      },
      "execution_count": null,
      "outputs": [
        {
          "output_type": "execute_result",
          "data": {
            "text/plain": [
              "[('인스타그램', 9),\n",
              " ('청소년', 7),\n",
              " ('사용', 6),\n",
              " ('시간', 6),\n",
              " ('이하', 5),\n",
              " ('카카오', 5),\n",
              " ('정보', 4),\n",
              " ('미만', 4),\n",
              " ('아동', 4),\n",
              " ('지난', 3),\n",
              " ('이용자', 3),\n",
              " ('연령', 3),\n",
              " ('가입', 3),\n",
              " ('사이', 3),\n",
              " ('콘텐츠', 3),\n",
              " ('제공', 3),\n",
              " ('규제', 3),\n",
              " ('국내', 2),\n",
              " ('서비스', 2),\n",
              " ('중독', 2),\n",
              " ('대한', 2),\n",
              " ('동영상', 2),\n",
              " ('사진', 2),\n",
              " ('이미지', 2),\n",
              " ('중심', 2),\n",
              " ('모바일', 2),\n",
              " ('제한', 2),\n",
              " ('경우', 2),\n",
              " ('유튜브', 2),\n",
              " ('개월', 2),\n",
              " ('페이스북', 2),\n",
              " ('인기', 2),\n",
              " ('정치권', 2),\n",
              " ('법안', 2),\n",
              " ('추진', 2),\n",
              " ('의원', 2),\n",
              " ('맞춤', 2),\n",
              " ('필터', 2),\n",
              " ('버블', 2),\n",
              " ('정보통신망법', 2),\n",
              " ('개정안', 2),\n",
              " ('발의', 2),\n",
              " ('미국', 2)]"
            ]
          },
          "metadata": {},
          "execution_count": 19
        }
      ]
    },
    {
      "cell_type": "code",
      "source": [
        "word_to_dict = {}\n",
        "for index,word in enumerate(word_cleaned):\n",
        "    word_to_dict[word[0]] = index+1\n",
        "\n",
        "word_to_dict"
      ],
      "metadata": {
        "colab": {
          "base_uri": "https://localhost:8080/"
        },
        "id": "jvDUd2TidGVe",
        "outputId": "ccbd5672-b917-4536-eadb-b34d93a5d365"
      },
      "execution_count": null,
      "outputs": [
        {
          "output_type": "execute_result",
          "data": {
            "text/plain": [
              "{'인스타그램': 1,\n",
              " '청소년': 2,\n",
              " '사용': 3,\n",
              " '시간': 4,\n",
              " '이하': 5,\n",
              " '카카오': 6,\n",
              " '정보': 7,\n",
              " '미만': 8,\n",
              " '아동': 9,\n",
              " '지난': 10,\n",
              " '이용자': 11,\n",
              " '연령': 12,\n",
              " '가입': 13,\n",
              " '사이': 14,\n",
              " '콘텐츠': 15,\n",
              " '제공': 16,\n",
              " '규제': 17,\n",
              " '국내': 18,\n",
              " '서비스': 19,\n",
              " '중독': 20,\n",
              " '대한': 21,\n",
              " '동영상': 22,\n",
              " '사진': 23,\n",
              " '이미지': 24,\n",
              " '중심': 25,\n",
              " '모바일': 26,\n",
              " '제한': 27,\n",
              " '경우': 28,\n",
              " '유튜브': 29,\n",
              " '개월': 30,\n",
              " '페이스북': 31,\n",
              " '인기': 32,\n",
              " '정치권': 33,\n",
              " '법안': 34,\n",
              " '추진': 35,\n",
              " '의원': 36,\n",
              " '맞춤': 37,\n",
              " '필터': 38,\n",
              " '버블': 39,\n",
              " '정보통신망법': 40,\n",
              " '개정안': 41,\n",
              " '발의': 42,\n",
              " '미국': 43}"
            ]
          },
          "metadata": {},
          "execution_count": 21
        }
      ]
    },
    {
      "cell_type": "code",
      "source": [
        "sentence = '청소년들 사이에서 글(텍스트) 중심인 카카오톡의 인기가 주춤하고 동영상·사진(이미지)을 앞세운 인스타그램을 즐기는 경향이 강해진 것으로 볼 수 있다.'\n",
        "\n",
        "sentence_data = okt.nouns(sentence)\n",
        "\n",
        "s_list = []\n",
        "for word in sentence_data:\n",
        "    if word in word_to_dict:\n",
        "        s_list.append(word_to_dict[word])\n",
        "\n",
        "s_list"
      ],
      "metadata": {
        "colab": {
          "base_uri": "https://localhost:8080/"
        },
        "id": "VQY9MnIEesX7",
        "outputId": "77263d92-f565-4bdd-866a-263d2830e5cb"
      },
      "execution_count": null,
      "outputs": [
        {
          "output_type": "execute_result",
          "data": {
            "text/plain": [
              "[2, 14, 25, 6, 32, 22, 23, 24, 1]"
            ]
          },
          "metadata": {},
          "execution_count": 23
        }
      ]
    },
    {
      "cell_type": "code",
      "source": [
        "from keras.preprocessing.text import Tokenizer\n",
        "\n",
        "tokenizer = Tokenizer()\n",
        "tokenizer.fit_on_texts([text_data])\n",
        "tokenizer.word_index\n",
        "\n",
        "sentence = '청소년들 사이에서 글(텍스트) 중심인 카카오톡의 인기가 주춤하고 동영상·사진(이미지)을 앞세운 인스타그램을 즐기는 경향이 강해진 것으로 볼 수 있다.'\n",
        "\n",
        "tokenizer.texts_to_sequences([sentence])"
      ],
      "metadata": {
        "colab": {
          "base_uri": "https://localhost:8080/"
        },
        "id": "SF6R8M0pf-KW",
        "outputId": "ace04292-c292-4c94-8f24-5aefa8f37bb4"
      },
      "execution_count": null,
      "outputs": [
        {
          "output_type": "execute_result",
          "data": {
            "text/plain": [
              "[[121,\n",
              "  122,\n",
              "  123,\n",
              "  124,\n",
              "  125,\n",
              "  126,\n",
              "  127,\n",
              "  128,\n",
              "  129,\n",
              "  16,\n",
              "  26,\n",
              "  130,\n",
              "  19,\n",
              "  131,\n",
              "  132,\n",
              "  133,\n",
              "  134,\n",
              "  135,\n",
              "  12,\n",
              "  3]]"
            ]
          },
          "metadata": {},
          "execution_count": 26
        }
      ]
    },
    {
      "cell_type": "code",
      "source": [
        "text_data = text_data.replace('\\n','')\n",
        "text_data"
      ],
      "metadata": {
        "colab": {
          "base_uri": "https://localhost:8080/",
          "height": 181
        },
        "id": "JDnUY-cNnuFi",
        "outputId": "c00e840a-9de2-4377-f1bc-48a1c8b86b5c"
      },
      "execution_count": null,
      "outputs": [
        {
          "output_type": "execute_result",
          "data": {
            "text/plain": [
              "'국내에서도 10대 청소년의 사회관계망서비스(SNS) 중독에 대한 우려가 커진 상황에서 동영상과 사진 등 이미지 중심의 SNS인 인스타그램의 상승세가 두드러진다.27일 모바일 빅데이터 기업 아이지에이웍스의 모바일인덱스 데이터에 따르면 지난 6월 국내 \\'10대 이하\\'(0∼만 19세) 스마트폰 이용자의 인스타그램 애플리케이션 총사용시간은 9천411만 시간으로 소셜네트워크 부문 1위를 기록했다.2위 카카오톡(4천821만시간)의 약 2배다.10대 이하를 제외한 나머지 연령대에서는 모두 카카오톡 총사용시간이 인스타그램을 앞선다.인스타그램은 만 14세부터 가입할 수 있으며 카카오톡은 가입 연령의 제한이 없다.전체 앱으로 범위를 넓힐 경우 10대 이하의 인스타그램 총사용시간은 유튜브(2억7천787만시간) 다음으로 2위다.또 작년 12월 9천78만시간과 비교하면 6개월 사이 3.7% 늘었다.반면 같은 기간 만 19세 이하의 카카오톡 총사용시간은 7.6% 감소했고 페이스북의 경우 44.1% 급감했다.유튜브는 만 19세 이하의 총사용시간이 6개월 사이 4.2% 줄었다.청소년들 사이에서 글(텍스트) 중심인 카카오톡의 인기가 주춤하고 동영상·사진(이미지)을 앞세운 인스타그램을 즐기는 경향이 강해진 것으로 볼 수 있다.특히 인스타그램은 2021년 숏폼(짧은 영상) 서비스 \\'릴스\\'를 출시한 뒤 큰 인기를 끌고 있다.일각에서는 자칫 청소년들이 지나치게 선정적인 SNS 콘텐츠에 노출될 수 있다는 지적이 나온다.한 정보기술(IT) 업계 관계자는 \"인스타그램 등에서 조회수를 노린 자극적 콘텐츠가 늘어날 개연성을 경계해야 한다\"고 말했다.이런 가운데 정치권에서는 청소년의 SNS 중독을 차단하기 위한 법안 개정이 추진되고 있다.국민의힘 김장겸 의원은 지난 17일 소셜미디어에서 청소년을 대상으로 한 맞춤형 정보 제공을 제한하는 \\'청소년 필터 버블 방지법\\'(정보통신망법 개정안)을 발의했다.필터 버블은 인터넷 정보 제공자가 이용자의 취향이나 선호도를 분석한 뒤 맞춤형 정보를 제공해 이용자가 선별된 정보만 접하게 되는 것을 가리킨다.그 하루 전인 16일 더불어민주당 윤건영 의원은 SNS 사업자가 14세 미만 아동의 회원 가입을 거부하게 하는 내용의 정보통신망법 개정안을 발의했다.최근 미국을 비롯한 여러 국가에서는 청소년의 SNS 사용에 대한 규제를 강화하는 추세다.미국 플로리다주는 내년부터 14세 미만 아동의 SNS 계정 보유를 금지하기로 했으며 유타주는 18세 미만 아동이 SNS를 이용할 때 부모 허락을 받도록 하는 법안을 만들었다.호주에서도 정치권이 16세 미만 아동의 SNS 접속을 규제하기 위한 방안을 추진하고 있다.또 지난 5월 영국의 통신미디어 규제 당국 오프콤은 페이스북, 인스타그램, 틱톡 등에서 어린이가 자살, 자해, 음란물 등과 연계된 유해 콘텐츠를 보지 못하도록 연령 확인을 강화하는 행정지침을 발표했다.'"
            ],
            "application/vnd.google.colaboratory.intrinsic+json": {
              "type": "string"
            }
          },
          "metadata": {},
          "execution_count": 27
        }
      ]
    },
    {
      "cell_type": "code",
      "source": [
        "text_result = text_data.split('.')\n",
        "text_result"
      ],
      "metadata": {
        "colab": {
          "base_uri": "https://localhost:8080/"
        },
        "id": "UXL0RL2Pn4C5",
        "outputId": "bf1fe418-7c42-4805-a3b6-0e96251771a8"
      },
      "execution_count": null,
      "outputs": [
        {
          "output_type": "execute_result",
          "data": {
            "text/plain": [
              "['국내에서도 10대 청소년의 사회관계망서비스(SNS) 중독에 대한 우려가 커진 상황에서 동영상과 사진 등 이미지 중심의 SNS인 인스타그램의 상승세가 두드러진다',\n",
              " \"27일 모바일 빅데이터 기업 아이지에이웍스의 모바일인덱스 데이터에 따르면 지난 6월 국내 '10대 이하'(0∼만 19세) 스마트폰 이용자의 인스타그램 애플리케이션 총사용시간은 9천411만 시간으로 소셜네트워크 부문 1위를 기록했다\",\n",
              " '2위 카카오톡(4천821만시간)의 약 2배다',\n",
              " '10대 이하를 제외한 나머지 연령대에서는 모두 카카오톡 총사용시간이 인스타그램을 앞선다',\n",
              " '인스타그램은 만 14세부터 가입할 수 있으며 카카오톡은 가입 연령의 제한이 없다',\n",
              " '전체 앱으로 범위를 넓힐 경우 10대 이하의 인스타그램 총사용시간은 유튜브(2억7천787만시간) 다음으로 2위다',\n",
              " '또 작년 12월 9천78만시간과 비교하면 6개월 사이 3',\n",
              " '7% 늘었다',\n",
              " '반면 같은 기간 만 19세 이하의 카카오톡 총사용시간은 7',\n",
              " '6% 감소했고 페이스북의 경우 44',\n",
              " '1% 급감했다',\n",
              " '유튜브는 만 19세 이하의 총사용시간이 6개월 사이 4',\n",
              " '2% 줄었다',\n",
              " '청소년들 사이에서 글(텍스트) 중심인 카카오톡의 인기가 주춤하고 동영상·사진(이미지)을 앞세운 인스타그램을 즐기는 경향이 강해진 것으로 볼 수 있다',\n",
              " \"특히 인스타그램은 2021년 숏폼(짧은 영상) 서비스 '릴스'를 출시한 뒤 큰 인기를 끌고 있다\",\n",
              " '일각에서는 자칫 청소년들이 지나치게 선정적인 SNS 콘텐츠에 노출될 수 있다는 지적이 나온다',\n",
              " '한 정보기술(IT) 업계 관계자는 \"인스타그램 등에서 조회수를 노린 자극적 콘텐츠가 늘어날 개연성을 경계해야 한다\"고 말했다',\n",
              " '이런 가운데 정치권에서는 청소년의 SNS 중독을 차단하기 위한 법안 개정이 추진되고 있다',\n",
              " \"국민의힘 김장겸 의원은 지난 17일 소셜미디어에서 청소년을 대상으로 한 맞춤형 정보 제공을 제한하는 '청소년 필터 버블 방지법'(정보통신망법 개정안)을 발의했다\",\n",
              " '필터 버블은 인터넷 정보 제공자가 이용자의 취향이나 선호도를 분석한 뒤 맞춤형 정보를 제공해 이용자가 선별된 정보만 접하게 되는 것을 가리킨다',\n",
              " '그 하루 전인 16일 더불어민주당 윤건영 의원은 SNS 사업자가 14세 미만 아동의 회원 가입을 거부하게 하는 내용의 정보통신망법 개정안을 발의했다',\n",
              " '최근 미국을 비롯한 여러 국가에서는 청소년의 SNS 사용에 대한 규제를 강화하는 추세다',\n",
              " '미국 플로리다주는 내년부터 14세 미만 아동의 SNS 계정 보유를 금지하기로 했으며 유타주는 18세 미만 아동이 SNS를 이용할 때 부모 허락을 받도록 하는 법안을 만들었다',\n",
              " '호주에서도 정치권이 16세 미만 아동의 SNS 접속을 규제하기 위한 방안을 추진하고 있다',\n",
              " '또 지난 5월 영국의 통신미디어 규제 당국 오프콤은 페이스북, 인스타그램, 틱톡 등에서 어린이가 자살, 자해, 음란물 등과 연계된 유해 콘텐츠를 보지 못하도록 연령 확인을 강화하는 행정지침을 발표했다',\n",
              " '']"
            ]
          },
          "metadata": {},
          "execution_count": 28
        }
      ]
    },
    {
      "cell_type": "code",
      "source": [
        "X_data = []\n",
        "\n",
        "for temp in text_result:\n",
        "    temp = temp.strip()\n",
        "    st = okt.nouns(temp)\n",
        "    tk = tokenizer.texts_to_sequences([st])[0]\n",
        "    X_data.append(tk)\n",
        "\n",
        "X_data"
      ],
      "metadata": {
        "colab": {
          "base_uri": "https://localhost:8080/"
        },
        "id": "Js9LQ_tfoRb4",
        "outputId": "12fa6797-992f-45ea-dd80-3a45a1e90bb9"
      },
      "execution_count": null,
      "outputs": [
        {
          "output_type": "execute_result",
          "data": {
            "text/plain": [
              "[[63, 141, 15, 47, 48, 16, 2],\n",
              " [55, 56, 57, 55, 7, 63, 11, 67, 2, 68, 72],\n",
              " [77, 78],\n",
              " [82, 269, 84, 2],\n",
              " [2, 11, 90, 12, 90, 269],\n",
              " [94, 21, 2, 98],\n",
              " [22, 102, 24],\n",
              " [],\n",
              " [108, 110, 11],\n",
              " [257, 21],\n",
              " [],\n",
              " [98, 11, 24],\n",
              " [],\n",
              " [24, 123, 124, 47, 16, 2, 133, 135, 12],\n",
              " [2, 138, 140, 141, 27],\n",
              " [148, 12],\n",
              " [157, 159, 2, 48, 169],\n",
              " [172, 176],\n",
              " [7, 33, 34, 188, 35, 190],\n",
              " [34, 188, 192, 33, 27, 33, 33],\n",
              " [206, 207, 208, 211, 4, 213, 90, 35, 190],\n",
              " [218, 226, 221, 15, 254],\n",
              " [226, 4, 229, 4, 238, 239, 176],\n",
              " [4, 254],\n",
              " [22, 7, 254, 255, 257, 2, 258, 48, 260, 261, 262, 48, 265, 267, 269],\n",
              " []]"
            ]
          },
          "metadata": {},
          "execution_count": 29
        }
      ]
    },
    {
      "cell_type": "code",
      "source": [
        "from keras.preprocessing.sequence import pad_sequences\n",
        "\n",
        "padding_result = pad_sequences(X_data , padding='post', maxlen = 10 , value = 999)\n",
        "padding_result"
      ],
      "metadata": {
        "colab": {
          "base_uri": "https://localhost:8080/"
        },
        "id": "t1fVHh6npDkg",
        "outputId": "60294f7b-d1fa-4cc3-eaec-f0aed7710b38"
      },
      "execution_count": null,
      "outputs": [
        {
          "output_type": "execute_result",
          "data": {
            "text/plain": [
              "array([[ 63, 141,  15,  47,  48,  16,   2, 999, 999, 999],\n",
              "       [ 56,  57,  55,   7,  63,  11,  67,   2,  68,  72],\n",
              "       [ 77,  78, 999, 999, 999, 999, 999, 999, 999, 999],\n",
              "       [ 82, 269,  84,   2, 999, 999, 999, 999, 999, 999],\n",
              "       [  2,  11,  90,  12,  90, 269, 999, 999, 999, 999],\n",
              "       [ 94,  21,   2,  98, 999, 999, 999, 999, 999, 999],\n",
              "       [ 22, 102,  24, 999, 999, 999, 999, 999, 999, 999],\n",
              "       [999, 999, 999, 999, 999, 999, 999, 999, 999, 999],\n",
              "       [108, 110,  11, 999, 999, 999, 999, 999, 999, 999],\n",
              "       [257,  21, 999, 999, 999, 999, 999, 999, 999, 999],\n",
              "       [999, 999, 999, 999, 999, 999, 999, 999, 999, 999],\n",
              "       [ 98,  11,  24, 999, 999, 999, 999, 999, 999, 999],\n",
              "       [999, 999, 999, 999, 999, 999, 999, 999, 999, 999],\n",
              "       [ 24, 123, 124,  47,  16,   2, 133, 135,  12, 999],\n",
              "       [  2, 138, 140, 141,  27, 999, 999, 999, 999, 999],\n",
              "       [148,  12, 999, 999, 999, 999, 999, 999, 999, 999],\n",
              "       [157, 159,   2,  48, 169, 999, 999, 999, 999, 999],\n",
              "       [172, 176, 999, 999, 999, 999, 999, 999, 999, 999],\n",
              "       [  7,  33,  34, 188,  35, 190, 999, 999, 999, 999],\n",
              "       [ 34, 188, 192,  33,  27,  33,  33, 999, 999, 999],\n",
              "       [206, 207, 208, 211,   4, 213,  90,  35, 190, 999],\n",
              "       [218, 226, 221,  15, 254, 999, 999, 999, 999, 999],\n",
              "       [226,   4, 229,   4, 238, 239, 176, 999, 999, 999],\n",
              "       [  4, 254, 999, 999, 999, 999, 999, 999, 999, 999],\n",
              "       [  2, 258,  48, 260, 261, 262,  48, 265, 267, 269],\n",
              "       [999, 999, 999, 999, 999, 999, 999, 999, 999, 999]], dtype=int32)"
            ]
          },
          "metadata": {},
          "execution_count": 33
        }
      ]
    },
    {
      "cell_type": "code",
      "source": [
        "from keras.preprocessing.text import Tokenizer\n",
        "\n",
        "tokenizer = Tokenizer()\n",
        "tokenizer.fit_on_texts([text_data])\n",
        "tokenizer.word_index\n",
        "\n",
        "sentence = '청소년들 사이에서 글(텍스트) 중심인 카카오톡의 인기가 주춤하고 동영상·사진(이미지)을 앞세운 인스타그램을 즐기는 경향이 강해진 것으로 볼 수 있다.'\n",
        "\n",
        "result = tokenizer.texts_to_sequences([sentence])"
      ],
      "metadata": {
        "id": "qq84OtRhsVwB"
      },
      "execution_count": null,
      "outputs": []
    },
    {
      "cell_type": "code",
      "source": [
        "from keras.utils import to_categorical\n",
        "\n",
        "to_categorical(result[0])"
      ],
      "metadata": {
        "colab": {
          "base_uri": "https://localhost:8080/"
        },
        "id": "J-tNnzo_sZxq",
        "outputId": "2e38f6d9-2309-4609-848c-f4f706df85d4"
      },
      "execution_count": null,
      "outputs": [
        {
          "output_type": "execute_result",
          "data": {
            "text/plain": [
              "array([[0., 0., 0., ..., 0., 0., 0.],\n",
              "       [0., 0., 0., ..., 0., 0., 0.],\n",
              "       [0., 0., 0., ..., 0., 0., 0.],\n",
              "       ...,\n",
              "       [0., 0., 0., ..., 0., 0., 1.],\n",
              "       [0., 0., 0., ..., 0., 0., 0.],\n",
              "       [0., 0., 0., ..., 0., 0., 0.]], dtype=float32)"
            ]
          },
          "metadata": {},
          "execution_count": 36
        }
      ]
    },
    {
      "cell_type": "code",
      "source": [
        "from sklearn.feature_extraction.text import CountVectorizer\n",
        "\n",
        "text = ['누구나 한번쯤 사랑 웃고','누구나 한번쯤 사랑 울고','그것 바로 사랑 사랑 사랑 사랑 사랑 사랑']\n",
        "\n",
        "vectorizer = CountVectorizer()\n",
        "vectorizer.fit(text)\n",
        "vectorizer.transform(text).toarray()"
      ],
      "metadata": {
        "colab": {
          "base_uri": "https://localhost:8080/"
        },
        "id": "YxjZTe8b1Ja5",
        "outputId": "2295dfe2-1dba-4662-b246-2de4c1aa245d"
      },
      "execution_count": null,
      "outputs": [
        {
          "output_type": "execute_result",
          "data": {
            "text/plain": [
              "array([[0, 1, 0, 1, 0, 1, 1],\n",
              "       [0, 1, 0, 1, 1, 0, 1],\n",
              "       [1, 0, 1, 6, 0, 0, 0]])"
            ]
          },
          "metadata": {},
          "execution_count": 39
        }
      ]
    },
    {
      "cell_type": "markdown",
      "source": [],
      "metadata": {
        "id": "qqqlosmYMIyw"
      }
    },
    {
      "cell_type": "code",
      "source": [
        "from sklearn.feature_extraction.text import TfidfVectorizer\n",
        "\n",
        "text = ['누구나 한번쯤 사랑 웃고','누구나 한번쯤 사랑 울고','그것 바로 사랑 사랑 사랑 사랑 사랑 사랑']\n",
        "\n",
        "vectorizer = TfidfVectorizer()\n",
        "vectorizer.fit(text)\n",
        "vectorizer.transform(text).toarray()"
      ],
      "metadata": {
        "colab": {
          "base_uri": "https://localhost:8080/"
        },
        "id": "-4PMoBmq6the",
        "outputId": "93e91f7d-4274-4341-f6cd-d62ad36001a9"
      },
      "execution_count": null,
      "outputs": [
        {
          "output_type": "execute_result",
          "data": {
            "text/plain": [
              "array([[0.        , 0.4804584 , 0.        , 0.37311881, 0.        ,\n",
              "        0.63174505, 0.4804584 ],\n",
              "       [0.        , 0.4804584 , 0.        , 0.37311881, 0.63174505,\n",
              "        0.        , 0.4804584 ],\n",
              "       [0.26209114, 0.        , 0.26209114, 0.92877149, 0.        ,\n",
              "        0.        , 0.        ]])"
            ]
          },
          "metadata": {},
          "execution_count": 46
        }
      ]
    },
    {
      "cell_type": "code",
      "source": [
        "vectorizer.vocabulary_"
      ],
      "metadata": {
        "colab": {
          "base_uri": "https://localhost:8080/"
        },
        "id": "k5PfbVVd14Id",
        "outputId": "60b5031b-3b6f-44bd-9c1e-f88ce44a9fa2"
      },
      "execution_count": null,
      "outputs": [
        {
          "output_type": "execute_result",
          "data": {
            "text/plain": [
              "{'누구나': 1, '한번쯤': 6, '사랑': 3, '웃고': 5, '울고': 4, '그것': 0, '바로': 2}"
            ]
          },
          "metadata": {},
          "execution_count": 38
        }
      ]
    },
    {
      "cell_type": "code",
      "source": [
        "text = ['2024년도 매출데이터.hwp','2024년 기업 매출.hwp','2023년 기업매출 데이터.hwp','직원 명세서.hwp','직원 전화번호.hwp']\n",
        "\n",
        "vectorizer = TfidfVectorizer()\n",
        "vectorizer.fit(text)\n",
        "all_document = vectorizer.transform(text).toarray()"
      ],
      "metadata": {
        "id": "DXvEAFM_2-xZ"
      },
      "execution_count": null,
      "outputs": []
    },
    {
      "cell_type": "code",
      "source": [
        "find_query = vectorizer.transform(['전화번호']).toarray()\n",
        "find_query"
      ],
      "metadata": {
        "colab": {
          "base_uri": "https://localhost:8080/"
        },
        "id": "sKkZhM723QkM",
        "outputId": "3969f105-19ad-482c-8a79-07128c2db549"
      },
      "execution_count": null,
      "outputs": [
        {
          "output_type": "execute_result",
          "data": {
            "text/plain": [
              "array([[0., 0., 0., 0., 0., 0., 0., 0., 0., 0., 1., 0.]])"
            ]
          },
          "metadata": {},
          "execution_count": 52
        }
      ]
    },
    {
      "cell_type": "code",
      "source": [
        "array([[0.        , 0.        , 0.        , 0.        , 0.57735027]])"
      ],
      "metadata": {
        "id": "lV1ij7Pt7UfB"
      },
      "execution_count": null,
      "outputs": []
    },
    {
      "cell_type": "code",
      "source": [
        "from sklearn.metrics.pairwise import cosine_similarity\n",
        "\n",
        "cosine_similarity(find_query, all_document)"
      ],
      "metadata": {
        "colab": {
          "base_uri": "https://localhost:8080/"
        },
        "id": "Vsb8R7fa3vC0",
        "outputId": "84428e9f-89f7-4142-9702-5c67ecc1a40d"
      },
      "execution_count": null,
      "outputs": [
        {
          "output_type": "execute_result",
          "data": {
            "text/plain": [
              "array([[0.        , 0.        , 0.        , 0.        , 0.72971837]])"
            ]
          },
          "metadata": {},
          "execution_count": 49
        }
      ]
    }
  ]
}